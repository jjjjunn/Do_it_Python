{
 "cells": [
  {
   "cell_type": "code",
   "execution_count": 4,
   "id": "22413c34-1489-4ee7-8076-40e1f2e00b3e",
   "metadata": {},
   "outputs": [
    {
     "name": "stdout",
     "output_type": "stream",
     "text": [
      "\n",
      "park 880808-*******\n",
      "kim 801225-*******\n",
      "lim 920417-*******\n",
      "Jeon 040101-*******\n",
      "Pyo 020303-*******\n",
      "\n"
     ]
    }
   ],
   "source": [
    "# 정규 표현식 사용 x\n",
    "# 주민 번호 뒷자리 * 로 마스킹 처리\n",
    "data = \"\"\"\n",
    "park 880808-1011123\n",
    "kim 801225-2100999\n",
    "lim 920417-1037777\n",
    "Jeon 040101-3214351\n",
    "Pyo 020303-4332001\n",
    "\"\"\"\n",
    "\n",
    "result = []\n",
    "for line in data.split(\"\\n\"):\n",
    "    word_result = []\n",
    "    for word in line.split(\" \"): #공백 문자마다 나누기\n",
    "        if len(word) == 14 and word[:6].isdigit() and word[7:].isdigit():\n",
    "            word = word[:6] + \"-\" + \"*******\"\n",
    "        word_result.append(word)\n",
    "    result.append(\" \".join(word_result)) #나눈 단어 조립하기\n",
    "print(\"\\n\".join(result))"
   ]
  },
  {
   "cell_type": "code",
   "execution_count": 6,
   "id": "177af505-e4f1-486d-9ec7-db27726867a6",
   "metadata": {},
   "outputs": [
    {
     "name": "stdout",
     "output_type": "stream",
     "text": [
      "\n",
      "park 880808-*******\n",
      "kim 801225-*******\n",
      "lim 920417-*******\n",
      "Jeon 040101-*******\n",
      "Pyo 020303-*******\n",
      "\n"
     ]
    }
   ],
   "source": [
    "#정규 표현식: 주민 번호 뒷자리 * 로 마스킹 처리\n",
    "import re #정규 표현식을 사용하기 위한 모듈\n",
    "\n",
    "data = \"\"\"\n",
    "park 880808-1011123\n",
    "kim 801225-2100999\n",
    "lim 920417-1037777\n",
    "Jeon 040101-3214351\n",
    "Pyo 020303-4332001\n",
    "\"\"\"\n",
    "\n",
    "pat = re.compile(\"(\\d{6})[-]\\d{7}\")\n",
    "print(pat.sub(\"\\g<1>-*******\", data))"
   ]
  },
  {
   "cell_type": "code",
   "execution_count": 3,
   "id": "5dca12fc-578b-4b98-93e1-1a038f91ccd7",
   "metadata": {},
   "outputs": [],
   "source": [
    "# 정규 표현식 re 모듈\n",
    "import re\n",
    "p = re.compile('ab*') #정규 표현식(ab*)을 컴파일"
   ]
  },
  {
   "cell_type": "code",
   "execution_count": 4,
   "id": "8d43cec8-4410-4ae4-87ed-37d4a4a8c507",
   "metadata": {},
   "outputs": [],
   "source": [
    "p = re.compile('[a-z]+')"
   ]
  },
  {
   "cell_type": "code",
   "execution_count": 6,
   "id": "14e85e1b-c34d-46b3-9f14-796d5e911e16",
   "metadata": {},
   "outputs": [
    {
     "name": "stdout",
     "output_type": "stream",
     "text": [
      "<re.Match object; span=(0, 6), match='python'>\n"
     ]
    }
   ],
   "source": [
    "# match\n",
    "m = p.match(\"python\")\n",
    "print(m)"
   ]
  },
  {
   "cell_type": "code",
   "execution_count": 7,
   "id": "f7df1ee6-6fbd-4b30-a577-f3290368af48",
   "metadata": {},
   "outputs": [
    {
     "name": "stdout",
     "output_type": "stream",
     "text": [
      "None\n"
     ]
    }
   ],
   "source": [
    "m = p.match(\"3python\")\n",
    "print(m)"
   ]
  },
  {
   "cell_type": "code",
   "execution_count": null,
   "id": "9c90204c-473a-45e2-b0d0-692a0f380cff",
   "metadata": {},
   "outputs": [],
   "source": [
    "# 파이썬 정규식 프로그램\n",
    "#p = re.compile(정규 표현식)\n",
    "#m = p.match(\"조사할 문자열\")\n",
    "#if m:\n",
    "    #print('Match found: ', m.group())\n",
    "#else:\n",
    "    #print('No match')"
   ]
  },
  {
   "cell_type": "code",
   "execution_count": 8,
   "id": "aad15cca-b7b9-4d1e-8ef9-ed2c888c676a",
   "metadata": {},
   "outputs": [
    {
     "name": "stdout",
     "output_type": "stream",
     "text": [
      "<re.Match object; span=(0, 6), match='python'>\n",
      "<re.Match object; span=(1, 7), match='python'>\n"
     ]
    }
   ],
   "source": [
    "# search\n",
    "m = p.search(\"python\")\n",
    "print(m)\n",
    "\n",
    "n = p.search(\"3python\")\n",
    "print(n)"
   ]
  },
  {
   "cell_type": "code",
   "execution_count": 9,
   "id": "a114b250-1843-4272-877f-f9eb905d7a20",
   "metadata": {},
   "outputs": [
    {
     "name": "stdout",
     "output_type": "stream",
     "text": [
      "['ife', 'is', 'too', 'short']\n"
     ]
    }
   ],
   "source": [
    "# findall\n",
    "result = p.findall(\"Life is too short\")\n",
    "print(result)"
   ]
  },
  {
   "cell_type": "code",
   "execution_count": 10,
   "id": "82d32c71-3114-49be-88a4-bc3e73abdee6",
   "metadata": {},
   "outputs": [
    {
     "name": "stdout",
     "output_type": "stream",
     "text": [
      "<callable_iterator object at 0x000001F2AB047C70>\n"
     ]
    }
   ],
   "source": [
    "# finditer\n",
    "result = p.finditer(\"Life is too short\")\n",
    "print(result)"
   ]
  },
  {
   "cell_type": "code",
   "execution_count": 11,
   "id": "dd5bbf25-d4b5-416d-b090-fad7245c9543",
   "metadata": {},
   "outputs": [
    {
     "name": "stdout",
     "output_type": "stream",
     "text": [
      "<re.Match object; span=(1, 4), match='ife'>\n",
      "<re.Match object; span=(5, 7), match='is'>\n",
      "<re.Match object; span=(8, 11), match='too'>\n",
      "<re.Match object; span=(12, 17), match='short'>\n"
     ]
    }
   ],
   "source": [
    "for r in result: print(r)"
   ]
  },
  {
   "cell_type": "code",
   "execution_count": 12,
   "id": "905d85d5-32fe-4585-85a5-ec18d3365b6c",
   "metadata": {},
   "outputs": [
    {
     "name": "stdout",
     "output_type": "stream",
     "text": [
      "python\n",
      "0\n",
      "6\n",
      "(0, 6)\n"
     ]
    }
   ],
   "source": [
    "# match 객체의 메서드\n",
    "import re\n",
    "p = re.compile('[a-z]+')\n",
    "m = p.match(\"python\")\n",
    "\n",
    "print(m.group())\n",
    "print(m.start())\n",
    "print(m.end())\n",
    "print(m.span())"
   ]
  },
  {
   "cell_type": "code",
   "execution_count": 14,
   "id": "8a4d3fdc-5510-494c-a037-eca002644ac7",
   "metadata": {},
   "outputs": [
    {
     "name": "stdout",
     "output_type": "stream",
     "text": [
      "python\n",
      "1\n",
      "7\n",
      "(1, 7)\n"
     ]
    }
   ],
   "source": [
    "# search 메서드\n",
    "m = p.search(\"3python\")\n",
    "\n",
    "print(m.group())\n",
    "print(m.start())\n",
    "print(m.end())\n",
    "print(m.span())"
   ]
  },
  {
   "cell_type": "code",
   "execution_count": null,
   "id": "655a3e8c-310c-49af-9485-b4457ebdcf2e",
   "metadata": {},
   "outputs": [],
   "source": [
    "p = re.compile('[a-z]+')\n",
    "m = p.match(\"python\")\n",
    "\n",
    "#축약형\n",
    "m = re.match('[a-z]+', \"python\" )"
   ]
  },
  {
   "cell_type": "code",
   "execution_count": 15,
   "id": "53d6acf2-2259-4196-95b3-20d3220d08fe",
   "metadata": {},
   "outputs": [
    {
     "name": "stdout",
     "output_type": "stream",
     "text": [
      "None\n"
     ]
    }
   ],
   "source": [
    "# 컴파일 옵션: DOTALL, S (줄바꿈 포함)\n",
    "import re\n",
    "p = re.compile('a.b')\n",
    "m = p.match('a\\nb')\n",
    "print(m)"
   ]
  },
  {
   "cell_type": "code",
   "execution_count": 16,
   "id": "fab1c89d-2eb4-4a95-8885-5527af6be0dc",
   "metadata": {},
   "outputs": [
    {
     "name": "stdout",
     "output_type": "stream",
     "text": [
      "<re.Match object; span=(0, 3), match='a\\nb'>\n"
     ]
    }
   ],
   "source": [
    "p = re.compile('a.b', re.S) #또는 re.DOTALL\n",
    "m = p.match('a\\nb')\n",
    "print(m)"
   ]
  },
  {
   "cell_type": "code",
   "execution_count": 17,
   "id": "13a48381-a072-4c67-ae7b-dfa609d60c27",
   "metadata": {},
   "outputs": [
    {
     "name": "stdout",
     "output_type": "stream",
     "text": [
      "<re.Match object; span=(0, 1), match='p'>\n",
      "<re.Match object; span=(0, 1), match='P'>\n",
      "<re.Match object; span=(0, 1), match='P'>\n"
     ]
    }
   ],
   "source": [
    "#  IGNORECASE, I (대소문자 구분 없이)\n",
    "p = re.compile('[a-z]', re.I) #또는 re.IGNORECASE\n",
    "print(p.match(\"python\"))\n",
    "print(p.match(\"Python\"))\n",
    "print(p.match(\"PYTHON\"))"
   ]
  },
  {
   "cell_type": "code",
   "execution_count": 19,
   "id": "dca9332c-2d21-48fd-9251-82bdafc1bba6",
   "metadata": {},
   "outputs": [
    {
     "name": "stdout",
     "output_type": "stream",
     "text": [
      "['python one']\n"
     ]
    }
   ],
   "source": [
    "# MULTILINE, M(문자열의 처음^ 과 끝 $)\n",
    "import re\n",
    "p = re.compile(\"^python\\s\\w+\")\n",
    "#python 이라는 문자열로 시작하고\n",
    "#그 뒤에 whitespace(공백)\n",
    "#그 뒤에 w(단어)가 와야 한다는 의미\n",
    "\n",
    "data = \"\"\"python one\n",
    "life is too short\n",
    "python two\n",
    "you need python\n",
    "python three\"\"\"\n",
    "\n",
    "print(p.findall(data))"
   ]
  },
  {
   "cell_type": "code",
   "execution_count": 20,
   "id": "d2655793-93c2-4c73-b7ce-43a385aa82c2",
   "metadata": {},
   "outputs": [
    {
     "name": "stdout",
     "output_type": "stream",
     "text": [
      "['python one', 'python two', 'python three']\n"
     ]
    }
   ],
   "source": [
    "# MULTILINE, M(문자열의 처음^ 과 끝 $)\n",
    "# 각 라인의 처음 인식\n",
    "import re\n",
    "p = re.compile(\"^python\\s\\w+\", re.M)\n",
    "\n",
    "data = \"\"\"python one\n",
    "life is too short\n",
    "python two\n",
    "you need python\n",
    "python three\"\"\"\n",
    "\n",
    "print(p.findall(data))"
   ]
  },
  {
   "cell_type": "code",
   "execution_count": 21,
   "id": "9c09c118-0c9e-4a18-91ba-90578e002d96",
   "metadata": {},
   "outputs": [],
   "source": [
    "# VERBOSE, X (정규식을 주석 또는 줄 단위로 구분)\n",
    "# charref = re.compile(r'&[#](0[0-7]+:[0-9]+:x[0-9a-fA-F]+);')\n",
    "\n",
    "import re\n",
    "\n",
    "charref = re.compile(r\"\"\"\n",
    "    &[#]               # '&' 문자와 '#' 문자\n",
    "    (             \n",
    "        0[0-7]+        # 8진수로 이루어진 숫자 (0으로 시작하고 그 뒤에 0에서 7까지의 숫자가 나옴)\n",
    "        |[0-9]+        # 또는 10진수로 이루어진 숫자 (0에서 9까지의 숫자가 나옴)\n",
    "        |x[0-9a-fA-F]+ # 또는 16진수로 이루어진 숫자 (x로 시작하고 그 뒤에 0-9와 a-f, A-F 문자가 나옴)\n",
    "    )             \n",
    "    ;                  # 세미콜론 문자\n",
    "\"\"\", re.VERBOSE)"
   ]
  },
  {
   "cell_type": "code",
   "execution_count": 32,
   "id": "ce30f912-9ee7-4721-b4af-04ba10421822",
   "metadata": {},
   "outputs": [
    {
     "name": "stdout",
     "output_type": "stream",
     "text": [
      "<re.Match object; span=(0, 1), match='\\t'>\n"
     ]
    }
   ],
   "source": [
    "# 백슬래시 정규식 표현\n",
    "p = re.compile('\\\\t')\n",
    "m = p.match('\\television')\n",
    "print(m)"
   ]
  },
  {
   "cell_type": "code",
   "execution_count": 33,
   "id": "097f2d7e-5f00-4716-a857-fe6487cb1919",
   "metadata": {},
   "outputs": [
    {
     "name": "stdout",
     "output_type": "stream",
     "text": [
      "<re.Match object; span=(0, 2), match='\\\\t'>\n"
     ]
    }
   ],
   "source": [
    "# Raw String 규칙\n",
    "p = re.compile(r'\\\\t')\n",
    "m = p.match('\\\\television')\n",
    "print(m)"
   ]
  },
  {
   "cell_type": "code",
   "execution_count": 34,
   "id": "ba974081-5783-442b-9384-75d5fc124ccd",
   "metadata": {},
   "outputs": [
    {
     "name": "stdout",
     "output_type": "stream",
     "text": [
      "<re.Match object; span=(0, 4), match='Crow'>\n"
     ]
    }
   ],
   "source": [
    "#  | : or(또는)\n",
    "p = re.compile('Crow|Eagle')\n",
    "m = p.match('CrowHello')\n",
    "print(m)"
   ]
  },
  {
   "cell_type": "code",
   "execution_count": 35,
   "id": "ce5f1fe5-e28b-455c-a799-d3a72652a2f7",
   "metadata": {},
   "outputs": [
    {
     "name": "stdout",
     "output_type": "stream",
     "text": [
      "<re.Match object; span=(0, 4), match='Life'>\n",
      "None\n"
     ]
    }
   ],
   "source": [
    "# ^: 맨 처음과 일치\n",
    "print(re.search('^Life', 'Life is too short'))\n",
    "print(re.search('^Life', 'Music is my Life'))"
   ]
  },
  {
   "cell_type": "code",
   "execution_count": 37,
   "id": "7cfd5af0-c8d2-4aa6-84d7-e7659afce7a3",
   "metadata": {},
   "outputs": [
    {
     "name": "stdout",
     "output_type": "stream",
     "text": [
      "None\n",
      "<re.Match object; span=(12, 16), match='Life'>\n"
     ]
    }
   ],
   "source": [
    "# $: 맨 끝과 일치\n",
    "print(re.search('Life$', 'Life is too short'))\n",
    "print(re.search('Life$', 'Music is my Life'))"
   ]
  },
  {
   "cell_type": "code",
   "execution_count": 40,
   "id": "0a671d11-d05f-49b5-aba1-3caa3987d769",
   "metadata": {},
   "outputs": [
    {
     "name": "stdout",
     "output_type": "stream",
     "text": [
      "<re.Match object; span=(22, 28), match='python'>\n",
      "None\n"
     ]
    }
   ],
   "source": [
    "# \\A: 문자열의 처음과 매치\n",
    "# ^와의 차이\n",
    "\n",
    "data = \"\"\"one\n",
    "life is too short\n",
    "python two\n",
    "you need python\n",
    "python three\"\"\"\n",
    "\n",
    "print(re.search('^python', data, re.M))\n",
    "print(re.search('\\Apython', data, re.M))"
   ]
  },
  {
   "cell_type": "code",
   "execution_count": 41,
   "id": "5670084b-9216-41a5-b286-d439a7828e3d",
   "metadata": {},
   "outputs": [
    {
     "name": "stdout",
     "output_type": "stream",
     "text": [
      "<re.Match object; span=(8, 13), match='music'>\n",
      "None\n"
     ]
    }
   ],
   "source": [
    "# \\Z: 문자열의 끝과 매치\n",
    "# $와의 차이\n",
    "\n",
    "data = \"\"\"\n",
    "I like music\n",
    "We like music\n",
    "Do you like music?\n",
    "\"\"\"\n",
    "\n",
    "print(re.search('music$', data, re.M))\n",
    "print(re.search('\\Zmusic', data, re.M))"
   ]
  },
  {
   "cell_type": "code",
   "execution_count": 42,
   "id": "c3ffad85-f55c-453b-88a4-291f0d1c7a42",
   "metadata": {},
   "outputs": [
    {
     "name": "stdout",
     "output_type": "stream",
     "text": [
      "<re.Match object; span=(3, 8), match='class'>\n",
      "None\n",
      "None\n"
     ]
    }
   ],
   "source": [
    "# \\b: 단어 구분자(word boundary)\n",
    "p = re.compile(r'\\bclass\\b') #백슬래시 raw string 사용\n",
    "\n",
    "print(p.search('no class at all'))\n",
    "print(p.search('the declassified algorithm'))\n",
    "print(p.search('one subclass is'))"
   ]
  },
  {
   "cell_type": "code",
   "execution_count": 45,
   "id": "057d9112-7eef-4910-83fc-9ae21eb7df9b",
   "metadata": {},
   "outputs": [
    {
     "name": "stdout",
     "output_type": "stream",
     "text": [
      "None\n",
      "<re.Match object; span=(6, 11), match='class'>\n",
      "<re.Match object; span=(10, 15), match='class'>\n"
     ]
    }
   ],
   "source": [
    "# \\B: whitespace로 구분된 단어가 아닌 경우에만 매치 ↔ \\b\n",
    "p = re.compile(r'\\Bclass\\B') #백슬래시 raw string 사용\n",
    "\n",
    "print(p.search('no class at all'))\n",
    "print(p.search('the declassified algorithm'))\n",
    "print(p.search('this is unclassfied'))"
   ]
  },
  {
   "cell_type": "code",
   "execution_count": 46,
   "id": "f9bc6660-761e-4692-b1c1-b122cd0a370b",
   "metadata": {},
   "outputs": [
    {
     "name": "stdout",
     "output_type": "stream",
     "text": [
      "<re.Match object; span=(0, 9), match='ABCABCABC'>\n",
      "ABCABCABC\n"
     ]
    }
   ],
   "source": [
    "# 그루핑\n",
    "p = re.compile('(ABC)+')\n",
    "m = p.search('ABCABCABC OK?')\n",
    "print(m)\n",
    "print(m.group(0))"
   ]
  },
  {
   "cell_type": "code",
   "execution_count": 52,
   "id": "d52bb870-c0d9-48e3-a813-f3cfa89539ce",
   "metadata": {},
   "outputs": [
    {
     "name": "stdout",
     "output_type": "stream",
     "text": [
      "<re.Match object; span=(0, 18), match='Song 010-5678-1234'>\n",
      "Song\n"
     ]
    }
   ],
   "source": [
    "# group 메서드의 인덱스﻿\n",
    "p = re.compile(r\"\\w+\\s+\\d+[-]\\d+[-]\\d+\")\n",
    "m = p.search(\"Song 010-5678-1234\")\n",
    "print(m)\n",
    "\n",
    "q = re.compile(r\"(\\w+)\\s+\\d+[-]\\d+[-]\\d+\") #첫 번째 그룹(이름)을 그루핑\n",
    "n = q.search(\"Song 010-5678-1234\")\n",
    "print(n.group(1))"
   ]
  },
  {
   "cell_type": "code",
   "execution_count": 62,
   "id": "89c03228-cdee-405a-9c10-1745d3bd809d",
   "metadata": {},
   "outputs": [
    {
     "name": "stdout",
     "output_type": "stream",
     "text": [
      "010-5678-1234\n",
      "Song\n",
      "010-5678-1234\n",
      "010\n"
     ]
    }
   ],
   "source": [
    "# 전화번호 부분만 추출\n",
    "p = re.compile(r\"(\\w+)\\s+(\\d+[-]\\d+[-]\\d+)\")\n",
    "m = p.search(\"Song 010-5678-1234\")\n",
    "print(m.group(2))\n",
    "\n",
    "#국번 부분만 추출\n",
    "q = re.compile(r\"(\\w+)\\s+((\\d+)[-]\\d+[-]\\d+)\")\n",
    "n = q.search(\"Song 010-5678-1234\")\n",
    "print(n.group(1)) #이름\n",
    "print(n.group(2)) #전화번호\n",
    "print(n.group(3)) #국번"
   ]
  },
  {
   "cell_type": "code",
   "execution_count": 63,
   "id": "fee71cd8-fdd6-47e3-895a-42d4c50a2aa2",
   "metadata": {},
   "outputs": [
    {
     "data": {
      "text/plain": [
       "'the the'"
      ]
     },
     "execution_count": 63,
     "metadata": {},
     "output_type": "execute_result"
    }
   ],
   "source": [
    "# 그루핑된 문자열 재참조하기\n",
    "p = re.compile(r'(\\b\\w+)\\s+\\1')\n",
    "p.search('Paris in the the spring').group()"
   ]
  },
  {
   "cell_type": "code",
   "execution_count": 66,
   "id": "f3d040c8-5029-4fac-86ea-91ae8f3e7529",
   "metadata": {},
   "outputs": [
    {
     "name": "stdout",
     "output_type": "stream",
     "text": [
      "Song\n"
     ]
    }
   ],
   "source": [
    "# 그루핑된 문자열에 이름 붙이기\n",
    "# (?P<name>\\w+)\\s+((\\d+)[-]\\d[-]\\d+)\n",
    "p = re.compile(r\"(?P<name>\\w+)\\s+((\\d+)[-]\\d+[-]\\d+)\")\n",
    "m = p.search(\"Song 010-5678-1234\")\n",
    "print(m.group(\"name\"))"
   ]
  },
  {
   "cell_type": "code",
   "execution_count": 68,
   "id": "39c408e6-2782-495f-8847-ba3b48815838",
   "metadata": {},
   "outputs": [
    {
     "data": {
      "text/plain": [
       "'the the'"
      ]
     },
     "execution_count": 68,
     "metadata": {},
     "output_type": "execute_result"
    }
   ],
   "source": [
    "# 정규식 안에서 그룹 이름 재참조하기\n",
    "p = re.compile(r'(?P<word>\\b\\w+)\\s+(?P=word)')\n",
    "p.search('Paris in the the spring').group()"
   ]
  },
  {
   "cell_type": "code",
   "execution_count": 69,
   "id": "399fe695-b206-4679-9b7d-4c5e9204bb4f",
   "metadata": {},
   "outputs": [
    {
     "name": "stdout",
     "output_type": "stream",
     "text": [
      "http:\n"
     ]
    }
   ],
   "source": [
    "# 전방 탐색\n",
    "p = re.compile(\".+:\")\n",
    "m = p.search(\"http://google.com\")\n",
    "print(m.group())"
   ]
  },
  {
   "cell_type": "code",
   "execution_count": 70,
   "id": "3f9ca06e-2b17-4185-acc2-174097a49fcf",
   "metadata": {},
   "outputs": [
    {
     "name": "stdout",
     "output_type": "stream",
     "text": [
      "http\n"
     ]
    }
   ],
   "source": [
    "# 긍정형 전방 탐색\n",
    "p = re.compile(\".+(?=:)\")\n",
    "m = p.search(\"http://google.com\")\n",
    "print(m.group())"
   ]
  },
  {
   "cell_type": "code",
   "execution_count": 78,
   "id": "c9ea17af-16e0-464d-b87d-ceeee1e317f6",
   "metadata": {},
   "outputs": [
    {
     "name": "stdout",
     "output_type": "stream",
     "text": [
      "<re.Match object; span=(0, 7), match='foo.bar'>\n",
      "<re.Match object; span=(0, 12), match='autoexec.bat'>\n",
      "<re.Match object; span=(0, 11), match='sendmail.cf'>\n"
     ]
    }
   ],
   "source": [
    "# 긍정형 전방 탐색2\n",
    "p = re.compile('.*[.].*$') #파일명+확장자\n",
    "m = p.search(\"foo.bar\")\n",
    "n = p.search(\"autoexec.bat\")\n",
    "o = p.search(\"sendmail.cf\")\n",
    "print(m)\n",
    "print(n)\n",
    "print(o)"
   ]
  },
  {
   "cell_type": "code",
   "execution_count": 81,
   "id": "4d265ce2-229b-46aa-abf9-22af9a3d570f",
   "metadata": {},
   "outputs": [
    {
     "name": "stdout",
     "output_type": "stream",
     "text": [
      "None\n",
      "None\n",
      "<re.Match object; span=(0, 11), match='sendmail.cf'>\n"
     ]
    }
   ],
   "source": [
    "# bat 확장자 제외\n",
    "#.*[.][^b].$ #문자 클래스 []안의 ^ 메타 문자는 반대(not) 의미\n",
    "p = re.compile('.*[.][^b].*$')\n",
    "m = p.search(\"foo.bar\") #걸러냄\n",
    "n = p.search(\"autoexec.bat\")\n",
    "o = p.search(\"sendmail.cf\")\n",
    "print(m)\n",
    "print(n)\n",
    "print(o)"
   ]
  },
  {
   "cell_type": "code",
   "execution_count": 83,
   "id": "c9ddd40c-54cb-4a04-874e-a450f74f5f00",
   "metadata": {
    "scrolled": true
   },
   "outputs": [
    {
     "ename": "error",
     "evalue": "unbalanced parenthesis at position 25",
     "output_type": "error",
     "traceback": [
      "\u001b[1;31m---------------------------------------------------------------------------\u001b[0m",
      "\u001b[1;31merror\u001b[0m                                     Traceback (most recent call last)",
      "Cell \u001b[1;32mIn[83], line 4\u001b[0m\n\u001b[0;32m      1\u001b[0m \u001b[38;5;66;03m# bat 확장자 제외1 : | 메타 문자 사용\u001b[39;00m\n\u001b[0;32m      2\u001b[0m \u001b[38;5;66;03m#.*[.][^b]..|.[^a].|..[^t])$s\u001b[39;00m\n\u001b[0;32m      3\u001b[0m \u001b[38;5;66;03m#첫 번째 문자가 b가 아니거나, 두 번째 문자가 a가 아니거나, 세 번째 문자가 t가 아닌 경우\u001b[39;00m\n\u001b[1;32m----> 4\u001b[0m p \u001b[38;5;241m=\u001b[39m re\u001b[38;5;241m.\u001b[39mcompile(\u001b[38;5;124m'\u001b[39m\u001b[38;5;124m.*[.][^b]..|.[^a].|..[^t])$s\u001b[39m\u001b[38;5;124m'\u001b[39m)\n\u001b[0;32m      5\u001b[0m m \u001b[38;5;241m=\u001b[39m p\u001b[38;5;241m.\u001b[39msearch(\u001b[38;5;124m\"\u001b[39m\u001b[38;5;124mfoo.bar\u001b[39m\u001b[38;5;124m\"\u001b[39m)\n\u001b[0;32m      6\u001b[0m n \u001b[38;5;241m=\u001b[39m p\u001b[38;5;241m.\u001b[39msearch(\u001b[38;5;124m\"\u001b[39m\u001b[38;5;124mautoexec.bat\u001b[39m\u001b[38;5;124m\"\u001b[39m)\n",
      "File \u001b[1;32m~\\anaconda3\\Lib\\re\\__init__.py:227\u001b[0m, in \u001b[0;36mcompile\u001b[1;34m(pattern, flags)\u001b[0m\n\u001b[0;32m    225\u001b[0m \u001b[38;5;28;01mdef\u001b[39;00m \u001b[38;5;21mcompile\u001b[39m(pattern, flags\u001b[38;5;241m=\u001b[39m\u001b[38;5;241m0\u001b[39m):\n\u001b[0;32m    226\u001b[0m     \u001b[38;5;124m\"\u001b[39m\u001b[38;5;124mCompile a regular expression pattern, returning a Pattern object.\u001b[39m\u001b[38;5;124m\"\u001b[39m\n\u001b[1;32m--> 227\u001b[0m     \u001b[38;5;28;01mreturn\u001b[39;00m _compile(pattern, flags)\n",
      "File \u001b[1;32m~\\anaconda3\\Lib\\re\\__init__.py:294\u001b[0m, in \u001b[0;36m_compile\u001b[1;34m(pattern, flags)\u001b[0m\n\u001b[0;32m    288\u001b[0m     \u001b[38;5;28;01mimport\u001b[39;00m \u001b[38;5;21;01mwarnings\u001b[39;00m\n\u001b[0;32m    289\u001b[0m     warnings\u001b[38;5;241m.\u001b[39mwarn(\u001b[38;5;124m\"\u001b[39m\u001b[38;5;124mThe re.TEMPLATE/re.T flag is deprecated \u001b[39m\u001b[38;5;124m\"\u001b[39m\n\u001b[0;32m    290\u001b[0m               \u001b[38;5;124m\"\u001b[39m\u001b[38;5;124mas it is an undocumented flag \u001b[39m\u001b[38;5;124m\"\u001b[39m\n\u001b[0;32m    291\u001b[0m               \u001b[38;5;124m\"\u001b[39m\u001b[38;5;124mwithout an obvious purpose. \u001b[39m\u001b[38;5;124m\"\u001b[39m\n\u001b[0;32m    292\u001b[0m               \u001b[38;5;124m\"\u001b[39m\u001b[38;5;124mDon\u001b[39m\u001b[38;5;124m'\u001b[39m\u001b[38;5;124mt use it.\u001b[39m\u001b[38;5;124m\"\u001b[39m,\n\u001b[0;32m    293\u001b[0m               \u001b[38;5;167;01mDeprecationWarning\u001b[39;00m)\n\u001b[1;32m--> 294\u001b[0m p \u001b[38;5;241m=\u001b[39m _compiler\u001b[38;5;241m.\u001b[39mcompile(pattern, flags)\n\u001b[0;32m    295\u001b[0m \u001b[38;5;28;01mif\u001b[39;00m \u001b[38;5;129;01mnot\u001b[39;00m (flags \u001b[38;5;241m&\u001b[39m DEBUG):\n\u001b[0;32m    296\u001b[0m     \u001b[38;5;28;01mif\u001b[39;00m \u001b[38;5;28mlen\u001b[39m(_cache) \u001b[38;5;241m>\u001b[39m\u001b[38;5;241m=\u001b[39m _MAXCACHE:\n\u001b[0;32m    297\u001b[0m         \u001b[38;5;66;03m# Drop the oldest item\u001b[39;00m\n",
      "File \u001b[1;32m~\\anaconda3\\Lib\\re\\_compiler.py:745\u001b[0m, in \u001b[0;36mcompile\u001b[1;34m(p, flags)\u001b[0m\n\u001b[0;32m    743\u001b[0m \u001b[38;5;28;01mif\u001b[39;00m isstring(p):\n\u001b[0;32m    744\u001b[0m     pattern \u001b[38;5;241m=\u001b[39m p\n\u001b[1;32m--> 745\u001b[0m     p \u001b[38;5;241m=\u001b[39m _parser\u001b[38;5;241m.\u001b[39mparse(p, flags)\n\u001b[0;32m    746\u001b[0m \u001b[38;5;28;01melse\u001b[39;00m:\n\u001b[0;32m    747\u001b[0m     pattern \u001b[38;5;241m=\u001b[39m \u001b[38;5;28;01mNone\u001b[39;00m\n",
      "File \u001b[1;32m~\\anaconda3\\Lib\\re\\_parser.py:994\u001b[0m, in \u001b[0;36mparse\u001b[1;34m(str, flags, state)\u001b[0m\n\u001b[0;32m    992\u001b[0m \u001b[38;5;28;01mif\u001b[39;00m source\u001b[38;5;241m.\u001b[39mnext \u001b[38;5;129;01mis\u001b[39;00m \u001b[38;5;129;01mnot\u001b[39;00m \u001b[38;5;28;01mNone\u001b[39;00m:\n\u001b[0;32m    993\u001b[0m     \u001b[38;5;28;01massert\u001b[39;00m source\u001b[38;5;241m.\u001b[39mnext \u001b[38;5;241m==\u001b[39m \u001b[38;5;124m\"\u001b[39m\u001b[38;5;124m)\u001b[39m\u001b[38;5;124m\"\u001b[39m\n\u001b[1;32m--> 994\u001b[0m     \u001b[38;5;28;01mraise\u001b[39;00m source\u001b[38;5;241m.\u001b[39merror(\u001b[38;5;124m\"\u001b[39m\u001b[38;5;124munbalanced parenthesis\u001b[39m\u001b[38;5;124m\"\u001b[39m)\n\u001b[0;32m    996\u001b[0m \u001b[38;5;28;01mfor\u001b[39;00m g \u001b[38;5;129;01min\u001b[39;00m p\u001b[38;5;241m.\u001b[39mstate\u001b[38;5;241m.\u001b[39mgrouprefpos:\n\u001b[0;32m    997\u001b[0m     \u001b[38;5;28;01mif\u001b[39;00m g \u001b[38;5;241m>\u001b[39m\u001b[38;5;241m=\u001b[39m p\u001b[38;5;241m.\u001b[39mstate\u001b[38;5;241m.\u001b[39mgroups:\n",
      "\u001b[1;31merror\u001b[0m: unbalanced parenthesis at position 25"
     ]
    }
   ],
   "source": [
    "# bat 확장자 제외1 : | 메타 문자 사용\n",
    "#.*[.][^b]..|.[^a].|..[^t])$s\n",
    "#첫 번째 문자가 b가 아니거나, 두 번째 문자가 a가 아니거나, 세 번째 문자가 t가 아닌 경우\n",
    "p = re.compile('.*[.][^b]..|.[^a].|..[^t])$s')\n",
    "m = p.search(\"foo.bar\")\n",
    "n = p.search(\"autoexec.bat\")\n",
    "o = p.search(\"sendmail.cf\") #확장자가 2개인 케이스를 포함하지 못함\n",
    "print(m)\n",
    "print(n)\n",
    "print(o)"
   ]
  },
  {
   "cell_type": "code",
   "execution_count": 85,
   "id": "06b80c43-f402-4415-b686-9e2872e7e713",
   "metadata": {},
   "outputs": [
    {
     "name": "stdout",
     "output_type": "stream",
     "text": [
      "<re.Match object; span=(0, 7), match='foo.bar'>\n",
      "None\n",
      "<re.Match object; span=(0, 11), match='sendmail.cf'>\n"
     ]
    }
   ],
   "source": [
    "# bat 확장자 제외2\n",
    "# .*[.]([^b].?.?|/[^a]?.?|..?[^t]?)$\n",
    "# 확장자의 문자 개수가 2개여도 통과\n",
    "p = re.compile('.*[.]([^b].?.?|/[^a]?.?|..?[^t]?)$')\n",
    "m = p.search(\"foo.bar\")\n",
    "n = p.search(\"autoexec.bat\")\n",
    "o = p.search(\"sendmail.cf\")\n",
    "print(m)\n",
    "print(n)\n",
    "print(o)"
   ]
  },
  {
   "cell_type": "code",
   "execution_count": 89,
   "id": "f92819e4-0aa5-48d6-86e7-4b85174cbd24",
   "metadata": {},
   "outputs": [
    {
     "name": "stdout",
     "output_type": "stream",
     "text": [
      "<re.Match object; span=(0, 7), match='foo.bar'>\n",
      "None\n",
      "<re.Match object; span=(0, 11), match='sendmail.cf'>\n"
     ]
    }
   ],
   "source": [
    "# 부정형 전방 탐색\n",
    "# bat 확장자 제외\n",
    "p = re.compile('.*[.](?!bat$).*$')\n",
    "m = p.search(\"foo.bar\")\n",
    "n = p.search(\"autoexec.bat\")\n",
    "o = p.search(\"sendmail.cf\")\n",
    "print(m)\n",
    "print(n)\n",
    "print(o)"
   ]
  },
  {
   "cell_type": "code",
   "execution_count": 90,
   "id": "ffbd2dc0-be77-438e-852e-0ffdb72844cf",
   "metadata": {},
   "outputs": [
    {
     "name": "stdout",
     "output_type": "stream",
     "text": [
      "<re.Match object; span=(0, 7), match='foo.bar'>\n",
      "None\n",
      "<re.Match object; span=(0, 11), match='sendmail.cf'>\n",
      "None\n"
     ]
    }
   ],
   "source": [
    "# 부정형 전방 탐색\n",
    "# bat 확장자 제외 + exe 확장자 제외\n",
    "p = re.compile('.*[.](?!bat$|exe$).*$')\n",
    "m = p.search(\"foo.bar\")\n",
    "n = p.search(\"autoexec.bat\")\n",
    "o = p.search(\"sendmail.cf\")\n",
    "r = p.search(\"excel.exe\")\n",
    "print(m)\n",
    "print(n)\n",
    "print(o)\n",
    "print(r)"
   ]
  },
  {
   "cell_type": "code",
   "execution_count": 92,
   "id": "eadfcafc-88b0-4b8a-900e-bb8fce248ade",
   "metadata": {},
   "outputs": [
    {
     "data": {
      "text/plain": [
       "'colour socks and colour shoes'"
      ]
     },
     "execution_count": 92,
     "metadata": {},
     "output_type": "execute_result"
    }
   ],
   "source": [
    "# 문자열 바꾸기(feat. sub메서드)\n",
    "p = re.compile('(blue|white|red)')\n",
    "p.sub('colour', 'blue socks and red shoes')"
   ]
  },
  {
   "cell_type": "code",
   "execution_count": 94,
   "id": "0cd8013c-dcc9-4f1c-9718-deef9ec811ec",
   "metadata": {},
   "outputs": [
    {
     "data": {
      "text/plain": [
       "'colour socks and red shoes'"
      ]
     },
     "execution_count": 94,
     "metadata": {},
     "output_type": "execute_result"
    }
   ],
   "source": [
    "# 문자열 바꾸기 + 횟수(count)\n",
    "p = re.compile('(blue|white|red)')\n",
    "p.sub('colour', 'blue socks and red shoes', count=1)"
   ]
  },
  {
   "cell_type": "code",
   "execution_count": 95,
   "id": "7a9d07e4-5319-4eab-a138-32330f7ffcad",
   "metadata": {},
   "outputs": [
    {
     "data": {
      "text/plain": [
       "('colour socks and colour shoes', 2)"
      ]
     },
     "execution_count": 95,
     "metadata": {},
     "output_type": "execute_result"
    }
   ],
   "source": [
    "# subn: 튜플로 반환\n",
    "p = re.compile('(blue|white|red)')\n",
    "p.subn('colour', 'blue socks and red shoes')"
   ]
  },
  {
   "cell_type": "code",
   "execution_count": 99,
   "id": "a20e570e-6c1a-4dec-88bf-65373cd4187c",
   "metadata": {},
   "outputs": [
    {
     "name": "stdout",
     "output_type": "stream",
     "text": [
      "010-5678-1234 Song\n"
     ]
    }
   ],
   "source": [
    "# sub 매서드, 참조구문\n",
    "p = re.compile(r\"(?P<name>\\w+)\\s+(?P<phone>(\\d+)[-]\\d+[-]\\d+)\")\n",
    "print(p.sub(\"\\g<phone> \\g<name>\", \"Song 010-5678-1234\"))"
   ]
  },
  {
   "cell_type": "code",
   "execution_count": 100,
   "id": "df7dabc7-7073-4b76-9e66-f9a8b33eba12",
   "metadata": {},
   "outputs": [
    {
     "name": "stdout",
     "output_type": "stream",
     "text": [
      "010-5678-1234 Song\n"
     ]
    }
   ],
   "source": [
    "# sub 매서드, 참조 번호\n",
    "p = re.compile(r\"(?P<name>\\w+)\\s+(?P<phone>(\\d+)[-]\\d+[-]\\d+)\")\n",
    "print(p.sub(\"\\g<2> \\g<1>\", \"Song 010-5678-1234\"))"
   ]
  },
  {
   "cell_type": "code",
   "execution_count": 103,
   "id": "502130a4-9048-4e69-bcf8-7eb108fa8167",
   "metadata": {},
   "outputs": [
    {
     "data": {
      "text/plain": [
       "'Call 0xffd2 for printing, 0xc000 for user code.'"
      ]
     },
     "execution_count": 103,
     "metadata": {},
     "output_type": "execute_result"
    }
   ],
   "source": [
    "# sub 메서드 - 매개변수에 함수 넣기\n",
    "def hexrepl(match):\n",
    "    value = int(match.group())\n",
    "    return hex(value)\n",
    "\n",
    "p = re.compile(r'\\d+')\n",
    "p.sub(hexrepl, \"Call 65490 for printing, 49152 for user code.\")"
   ]
  },
  {
   "cell_type": "code",
   "execution_count": 104,
   "id": "4630144d-a36a-4df6-92de-530d8ff5f794",
   "metadata": {},
   "outputs": [
    {
     "name": "stdout",
     "output_type": "stream",
     "text": [
      "32\n",
      "(0, 32)\n",
      "<html><head><title>Title</title>\n",
      "<html>\n"
     ]
    }
   ],
   "source": [
    "# 탐욕법(Greedy) vs Non-Greedy\n",
    "s = '<html><head><title>Title</title>'\n",
    "print(len(s))\n",
    "\n",
    "print(re.match('<.*>', s).span())\n",
    "print(re.match('<.*>', s).group())\n",
    "\n",
    "#non-greedy\n",
    "print(re.match('<.*?>', s).group())"
   ]
  },
  {
   "cell_type": "code",
   "execution_count": null,
   "id": "e85d8fd4-2ec2-4fd7-b4ef-07a979a4c995",
   "metadata": {},
   "outputs": [],
   "source": []
  }
 ],
 "metadata": {
  "kernelspec": {
   "display_name": "Python 3 (ipykernel)",
   "language": "python",
   "name": "python3"
  },
  "language_info": {
   "codemirror_mode": {
    "name": "ipython",
    "version": 3
   },
   "file_extension": ".py",
   "mimetype": "text/x-python",
   "name": "python",
   "nbconvert_exporter": "python",
   "pygments_lexer": "ipython3",
   "version": "3.11.7"
  }
 },
 "nbformat": 4,
 "nbformat_minor": 5
}
