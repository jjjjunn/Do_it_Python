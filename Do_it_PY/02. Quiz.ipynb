{
 "cells": [
  {
   "cell_type": "code",
   "execution_count": 3,
   "id": "963dc25a-3651-416d-8592-7a26f1d6404c",
   "metadata": {},
   "outputs": [
    {
     "name": "stdout",
     "output_type": "stream",
     "text": [
      "70.0\n"
     ]
    }
   ],
   "source": [
    "import numpy as np\n",
    "import pandas as pd\n",
    "\n",
    "# 홍길동 씨의 과목별 점수\n",
    "# 국어: 80 / 영어: 75 / 수학: 55\n",
    "a = 80\n",
    "b = 75\n",
    "c = 55\n",
    "\n",
    "#평균 점수\n",
    "average = (a + b +c) /3\n",
    "print(average)"
   ]
  },
  {
   "cell_type": "code",
   "execution_count": 4,
   "id": "7c32a25e-ab58-4035-8302-ce2e0fa0697a",
   "metadata": {},
   "outputs": [
    {
     "name": "stdout",
     "output_type": "stream",
     "text": [
      "홀수\n"
     ]
    }
   ],
   "source": [
    "# 자연수 13은 홀수? 짝수?\n",
    "a = 13 % 2\n",
    "if a:\n",
    "    print(\"홀수\")\n",
    "else:\n",
    "    print(\"짝수\")"
   ]
  },
  {
   "cell_type": "code",
   "execution_count": 6,
   "id": "39036d25-6474-4ea6-bf2b-38cbf1bea3dc",
   "metadata": {},
   "outputs": [
    {
     "name": "stdout",
     "output_type": "stream",
     "text": [
      "짝수\n"
     ]
    }
   ],
   "source": [
    "a = 14 % 2\n",
    "if a:\n",
    "    print(\"홀수\")\n",
    "else:\n",
    "    print(\"짝수\")"
   ]
  },
  {
   "cell_type": "code",
   "execution_count": 13,
   "id": "b7c223f2-2b6d-463c-b86c-9490bf31c062",
   "metadata": {},
   "outputs": [
    {
     "name": "stdout",
     "output_type": "stream",
     "text": [
      "19881120\n",
      "1068234\n",
      "1\n"
     ]
    }
   ],
   "source": [
    "# 홍길동씨의 주민번호 구분\n",
    "\n",
    "pin = \"881120-1068234\"\n",
    "\n",
    "yyyymmdd = pin[0:6]\n",
    "num = pin[7:]\n",
    "sex = pin[7]\n",
    "\n",
    "print(\"19\"+yyyymmdd)\n",
    "print(num)\n",
    "print(sex)"
   ]
  },
  {
   "cell_type": "code",
   "execution_count": 15,
   "id": "889ca178-0e3c-481d-8179-e91868af90f0",
   "metadata": {},
   "outputs": [
    {
     "name": "stdout",
     "output_type": "stream",
     "text": [
      "a#b#c#d\n"
     ]
    }
   ],
   "source": [
    "# a:b:c:d > a#b#c#d (replace 함수)\n",
    "\n",
    "a = \"a:b:c:d\"\n",
    "b = a.replace(\":\",\"#\")\n",
    "print(b)"
   ]
  },
  {
   "cell_type": "code",
   "execution_count": 23,
   "id": "b46d76a2-f297-4b10-a370-9a4b107b63da",
   "metadata": {},
   "outputs": [
    {
     "name": "stdout",
     "output_type": "stream",
     "text": [
      "[5, 4, 3, 2, 1]\n"
     ]
    }
   ],
   "source": [
    "# 순서 바꾸기\n",
    "a = [1, 3, 5, 4, 2]\n",
    "a.sort() #[1, 2, 3, 4, 5]\n",
    "a.reverse() #[5, 4, 3, 2, 1]\n",
    "print(a)"
   ]
  },
  {
   "cell_type": "code",
   "execution_count": 28,
   "id": "96947736-7ecf-40a7-804d-d52fddee604e",
   "metadata": {},
   "outputs": [
    {
     "name": "stdout",
     "output_type": "stream",
     "text": [
      "Life is too short\n"
     ]
    }
   ],
   "source": [
    "# 리스트를 문자열로 만들기\n",
    "a = ['Life', 'is', 'too', 'short']\n",
    "result = \" \".join(a)\n",
    "print(result)"
   ]
  },
  {
   "cell_type": "code",
   "execution_count": 35,
   "id": "7431f777-3e25-4779-8bb4-fa036d89cd6a",
   "metadata": {},
   "outputs": [
    {
     "name": "stdout",
     "output_type": "stream",
     "text": [
      "(1, 2, 3, 4)\n"
     ]
    }
   ],
   "source": [
    "# 튜플에 값 추가하기\n",
    "a = (1, 2, 3)\n",
    "a = a + (4,) #숫자가 하나더라도 뒤에 반드시 , 들어가야 한다\n",
    "print(a)"
   ]
  },
  {
   "cell_type": "code",
   "execution_count": 37,
   "id": "d0815d67-42d6-43d2-a544-f3c93a6e0a18",
   "metadata": {},
   "outputs": [
    {
     "name": "stdout",
     "output_type": "stream",
     "text": [
      "{'A': 90, 'C': 70}\n",
      "80\n"
     ]
    }
   ],
   "source": [
    "# 딕셔너리에서 값 추출\n",
    "a = {'A':90, 'B':80, 'C':70}\n",
    "result = a.pop('B')\n",
    "print(a)\n",
    "print(result)"
   ]
  },
  {
   "cell_type": "code",
   "execution_count": 38,
   "id": "6b7003c8-76f9-4dcf-ac66-ff565105a491",
   "metadata": {},
   "outputs": [
    {
     "name": "stdout",
     "output_type": "stream",
     "text": [
      "[1, 2, 3, 4, 5]\n"
     ]
    }
   ],
   "source": [
    "# 리스트에서 중복 숫자 제거하기\n",
    "a = [1, 1, 1, 2, 2, 3, 3, 3, 4, 4, 5]\n",
    "aSet = set(a)\n",
    "b = list(aSet)\n",
    "print(b)"
   ]
  },
  {
   "cell_type": "code",
   "execution_count": 39,
   "id": "8e96e29d-7031-4cec-ad90-9512169f2b0c",
   "metadata": {},
   "outputs": [
    {
     "name": "stdout",
     "output_type": "stream",
     "text": [
      "[1, 4, 3]\n"
     ]
    }
   ],
   "source": [
    "# 동일 변수\n",
    "a = b = [1, 2, 3]\n",
    "a[1] = 4 #a의 두 번째 값을 변경\n",
    "print(b)"
   ]
  },
  {
   "cell_type": "code",
   "execution_count": null,
   "id": "8cf2e2ba-8639-4d36-a82f-710645a2e624",
   "metadata": {},
   "outputs": [],
   "source": []
  }
 ],
 "metadata": {
  "kernelspec": {
   "display_name": "Python 3 (ipykernel)",
   "language": "python",
   "name": "python3"
  },
  "language_info": {
   "codemirror_mode": {
    "name": "ipython",
    "version": 3
   },
   "file_extension": ".py",
   "mimetype": "text/x-python",
   "name": "python",
   "nbconvert_exporter": "python",
   "pygments_lexer": "ipython3",
   "version": "3.11.7"
  }
 },
 "nbformat": 4,
 "nbformat_minor": 5
}
