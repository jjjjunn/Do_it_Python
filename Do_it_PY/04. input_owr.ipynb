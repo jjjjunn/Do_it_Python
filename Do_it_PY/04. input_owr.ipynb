{
 "cells": [
  {
   "cell_type": "code",
   "execution_count": 4,
   "id": "5ff24648-4d19-4a45-8074-c29bed22a198",
   "metadata": {},
   "outputs": [
    {
     "name": "stdin",
     "output_type": "stream",
     "text": [
      " Life is too short, you need python\n"
     ]
    },
    {
     "data": {
      "text/plain": [
       "'Life is too short, you need python'"
      ]
     },
     "execution_count": 4,
     "metadata": {},
     "output_type": "execute_result"
    }
   ],
   "source": [
    "a = input()\n",
    "a"
   ]
  },
  {
   "cell_type": "code",
   "execution_count": 5,
   "id": "908518e1-3841-4400-8b24-871478dc7f02",
   "metadata": {},
   "outputs": [
    {
     "name": "stdin",
     "output_type": "stream",
     "text": [
      "숫자를 입력하세요:  3\n"
     ]
    }
   ],
   "source": [
    "# input(질문내용)\n",
    "number = input(\"숫자를 입력하세요: \")"
   ]
  },
  {
   "cell_type": "code",
   "execution_count": 26,
   "id": "bad703b2-d239-4f24-bcce-ea576cf155f1",
   "metadata": {},
   "outputs": [
    {
     "name": "stdin",
     "output_type": "stream",
     "text": [
      "첫 번째 숫자 입력 5\n",
      "두 번째 숫자 입력 7\n"
     ]
    },
    {
     "name": "stdout",
     "output_type": "stream",
     "text": [
      "두 수의 합: 12\n"
     ]
    }
   ],
   "source": [
    "# 두 개의 숫자를 입력받아 더하여 돌려주는 프로그램 만들기\n",
    "input1 = input(\"첫 번째 숫자 입력\")\n",
    "input2 = input(\"두 번째 숫자 입력\")\n",
    "\n",
    "total = int(input1) + int(input2)\n",
    "print(\"두 수의 합: %d\" % total)"
   ]
  },
  {
   "cell_type": "code",
   "execution_count": 6,
   "id": "4902c0d1-37e6-4752-9c68-525e16affe66",
   "metadata": {},
   "outputs": [
    {
     "name": "stdout",
     "output_type": "stream",
     "text": [
      "123\n",
      "Python\n",
      "[1, 2, 3]\n"
     ]
    }
   ],
   "source": [
    "# print\n",
    "a = 123\n",
    "print(a) #숫자\n",
    "\n",
    "b = \"Python\"\n",
    "print(b) #문자\n",
    "\n",
    "c = [1, 2, 3]\n",
    "print(c) #리스트"
   ]
  },
  {
   "cell_type": "code",
   "execution_count": 9,
   "id": "ed3e6f22-24c0-4159-a13e-f3c2b6cb50e9",
   "metadata": {},
   "outputs": [
    {
     "name": "stdout",
     "output_type": "stream",
     "text": [
      "Life is too short\n",
      "Life is too short\n",
      "Life is too short\n"
     ]
    }
   ],
   "source": [
    "# print문 사용1\n",
    "# 아래의 문장은 동일\n",
    "print(\"Life\" \" is\" \" too short\")\n",
    "print(\"Life\"+\" is\"+\" too short\")\n",
    "\n",
    "#사용2: 문자열 띄어쓰기는 콤마로\n",
    "print(\"Life\", \"is\", \"too short\")"
   ]
  },
  {
   "cell_type": "code",
   "execution_count": 10,
   "id": "25167a89-472f-47d0-bb94-fb61df3034ef",
   "metadata": {},
   "outputs": [
    {
     "name": "stdout",
     "output_type": "stream",
     "text": [
      "0 1 2 3 4 5 6 7 8 9 "
     ]
    }
   ],
   "source": [
    "#사용3: 한 줄에 결괏값 출력하기\n",
    "for i in range(10):\n",
    "    print(i, end=' ') #매개변수 end를 사용"
   ]
  },
  {
   "cell_type": "code",
   "execution_count": 11,
   "id": "bbdcbacb-275a-417e-b5ce-ad58691b4830",
   "metadata": {},
   "outputs": [
    {
     "name": "stdout",
     "output_type": "stream",
     "text": [
      "0\n",
      "1\n",
      "2\n",
      "3\n",
      "4\n",
      "5\n",
      "6\n",
      "7\n",
      "8\n",
      "9\n"
     ]
    }
   ],
   "source": [
    "#매개변수 end를 사용 x\n",
    "for i in range(10):\n",
    "    print(i) "
   ]
  },
  {
   "cell_type": "code",
   "execution_count": 13,
   "id": "d20eabf9-fd40-400e-93bc-e82519afc383",
   "metadata": {},
   "outputs": [],
   "source": [
    "# 파일 생성하기\n",
    "f = open(\"새파일.txt\", 'w')\n",
    "f.close()"
   ]
  },
  {
   "cell_type": "code",
   "execution_count": 14,
   "id": "0ce4b4a2-9399-47a7-af90-de713866ac5d",
   "metadata": {},
   "outputs": [],
   "source": [
    "# 파일 특정 경로에 생성\n",
    "f = open(\"C:/Users/niceq/Desktop/새파일.txt\", 'w')"
   ]
  },
  {
   "cell_type": "code",
   "execution_count": 15,
   "id": "af9e69aa-243f-479e-a991-8ae3b8b41554",
   "metadata": {},
   "outputs": [],
   "source": [
    "# 파일 쓰기 모드로 열어 출력값 적기\n",
    "f = open(\"C:/Users/niceq/Desktop/새파일.txt\", 'w')\n",
    "for i in range(1, 11): #1부터 10까지 i에 대입\n",
    "    data = \"%d 번째 줄입니다.\\n\" % i\n",
    "    f.write(data) #데이터를 파일 객체 f에 써라\n",
    "f.close()"
   ]
  },
  {
   "cell_type": "code",
   "execution_count": 16,
   "id": "ce9fa7fd-9341-4330-908b-471958a20ba9",
   "metadata": {},
   "outputs": [
    {
     "name": "stdout",
     "output_type": "stream",
     "text": [
      "1 번째 줄입니다.\n",
      "\n"
     ]
    }
   ],
   "source": [
    "# readline 함수\n",
    "f = open(\"C:/Users/niceq/Desktop/새파일.txt\", 'r')\n",
    "line = f.readline()\n",
    "print(line)\n",
    "f.close()"
   ]
  },
  {
   "cell_type": "code",
   "execution_count": 17,
   "id": "9b2d100b-af6c-4159-940b-e0418d560a09",
   "metadata": {},
   "outputs": [
    {
     "name": "stdout",
     "output_type": "stream",
     "text": [
      "1 번째 줄입니다.\n",
      "\n",
      "2 번째 줄입니다.\n",
      "\n",
      "3 번째 줄입니다.\n",
      "\n",
      "4 번째 줄입니다.\n",
      "\n",
      "5 번째 줄입니다.\n",
      "\n",
      "6 번째 줄입니다.\n",
      "\n",
      "7 번째 줄입니다.\n",
      "\n",
      "8 번째 줄입니다.\n",
      "\n",
      "9 번째 줄입니다.\n",
      "\n",
      "10 번째 줄입니다.\n",
      "\n"
     ]
    }
   ],
   "source": [
    "# readline 함수 (모든 줄 읽기)\n",
    "f = open(\"C:/Users/niceq/Desktop/새파일.txt\", 'r')\n",
    "while True:\n",
    "    line = f.readline()\n",
    "    if not line: break\n",
    "    print(line)\n",
    "f.close()"
   ]
  },
  {
   "cell_type": "code",
   "execution_count": 19,
   "id": "1b91986d-b4d8-46bc-be89-394ae1284128",
   "metadata": {},
   "outputs": [
    {
     "name": "stdout",
     "output_type": "stream",
     "text": [
      "1 번째 줄입니다.\n",
      "\n",
      "2 번째 줄입니다.\n",
      "\n",
      "3 번째 줄입니다.\n",
      "\n",
      "4 번째 줄입니다.\n",
      "\n",
      "5 번째 줄입니다.\n",
      "\n",
      "6 번째 줄입니다.\n",
      "\n",
      "7 번째 줄입니다.\n",
      "\n",
      "8 번째 줄입니다.\n",
      "\n",
      "9 번째 줄입니다.\n",
      "\n",
      "10 번째 줄입니다.\n",
      "\n"
     ]
    }
   ],
   "source": [
    "# readlines 함수\n",
    "f = open(\"C:/Users/niceq/Desktop/새파일.txt\", 'r')\n",
    "lines = f.readlines() #각각의 줄을 요소로 갖는 리스트로 돌려줌.\n",
    "for line in lines:\n",
    "    print(line)\n",
    "f.close()"
   ]
  },
  {
   "cell_type": "code",
   "execution_count": 20,
   "id": "1d9a496d-97bc-42dc-8009-bbf8c4591100",
   "metadata": {},
   "outputs": [
    {
     "name": "stdout",
     "output_type": "stream",
     "text": [
      "1 번째 줄입니다.\n",
      "2 번째 줄입니다.\n",
      "3 번째 줄입니다.\n",
      "4 번째 줄입니다.\n",
      "5 번째 줄입니다.\n",
      "6 번째 줄입니다.\n",
      "7 번째 줄입니다.\n",
      "8 번째 줄입니다.\n",
      "9 번째 줄입니다.\n",
      "10 번째 줄입니다.\n",
      "\n"
     ]
    }
   ],
   "source": [
    "# read 함수\n",
    "f = open(\"C:/Users/niceq/Desktop/새파일.txt\", 'r')\n",
    "data = f.read()\n",
    "print(data)\n",
    "f.close()"
   ]
  },
  {
   "cell_type": "code",
   "execution_count": 23,
   "id": "da50bfac-fafb-4f42-8353-c148da9c1175",
   "metadata": {},
   "outputs": [],
   "source": [
    "# 파일에 새로운 내용 추가하기\n",
    "f = open(\"C:/Users/niceq/Desktop/새파일.txt\", 'a') #추가 모드\n",
    "for i in range(11, 20): #11부터 19까지 i에 대입\n",
    "    data = \"새로 추가된 %d 번째 줄 입니다.\\n\" % i\n",
    "    f.write(data)\n",
    "f.close()"
   ]
  },
  {
   "cell_type": "code",
   "execution_count": 25,
   "id": "79cf01f6-33c8-44c8-a042-00668f687abb",
   "metadata": {},
   "outputs": [],
   "source": [
    "# with문 (파일 자동으로 열고 닫기)\n",
    "with open(\"C:/Users/niceq/Desktop/새파일.txt\", 'a') as f:\n",
    "    f.write(\"세상은 넓고, 할 일은 많다!\")"
   ]
  },
  {
   "cell_type": "code",
   "execution_count": 29,
   "id": "8a2e0261-f0a6-46cd-a0b0-b45c8e19afc8",
   "metadata": {},
   "outputs": [
    {
     "name": "stdin",
     "output_type": "stream",
     "text": [
      "저장할 내용을 입력하세요: 태양을 향해 나아가라. 달에 미치지 못해도 별들 사이에 있게 될 것이다.\n"
     ]
    }
   ],
   "source": [
    "# 사용자의 입력을 파일에 저장하기\n",
    "user_input = input(\"저장할 내용을 입력하세요:\")\n",
    "f = open(\"C:/Users/niceq/Desktop/test.txt\", 'w')\n",
    "f.write(user_input)\n",
    "f.write(\"\\n\")\n",
    "f.close()"
   ]
  },
  {
   "cell_type": "code",
   "execution_count": 33,
   "id": "5ab83b6e-a4a0-4ce2-93ee-02fe09e08958",
   "metadata": {},
   "outputs": [],
   "source": [
    "# 태양 > 달\n",
    "f = open(\"C:/Users/niceq/Desktop/test.txt\", 'r')\n",
    "\n",
    "#test.txt 파일의 내용을 change 변수에 저장\n",
    "change = f.read()\n",
    "f.close()\n",
    "\n",
    "#change 문자열에서 \"태양'을 \"달\"로 변경\n",
    "change = \"달을 향해 나아가라. 달에 미치지 못해도 별들 사이에 있게 될 것이다.\"\n",
    "\n",
    "#파일을 쓰기 모드로 다시 실행\n",
    "f = open(\"C:/Users/niceq/Desktop/test.txt\", 'w')\n",
    "f.write(change)\n",
    "f.close()"
   ]
  },
  {
   "cell_type": "code",
   "execution_count": 34,
   "id": "e056b69c-2547-426d-a454-d1002c1e73a8",
   "metadata": {},
   "outputs": [],
   "source": [
    "# 명언 말한 위인 넣기\n",
    "f = open(\"C:/Users/niceq/Desktop/test.txt\", 'a')\n",
    "f.write(\"-진 시먼스\")\n",
    "f.close()"
   ]
  },
  {
   "cell_type": "code",
   "execution_count": null,
   "id": "731da7d7-8932-4411-b7ea-c0b8e9ed3986",
   "metadata": {},
   "outputs": [],
   "source": []
  }
 ],
 "metadata": {
  "kernelspec": {
   "display_name": "Python 3 (ipykernel)",
   "language": "python",
   "name": "python3"
  },
  "language_info": {
   "codemirror_mode": {
    "name": "ipython",
    "version": 3
   },
   "file_extension": ".py",
   "mimetype": "text/x-python",
   "name": "python",
   "nbconvert_exporter": "python",
   "pygments_lexer": "ipython3",
   "version": "3.11.7"
  }
 },
 "nbformat": 4,
 "nbformat_minor": 5
}
