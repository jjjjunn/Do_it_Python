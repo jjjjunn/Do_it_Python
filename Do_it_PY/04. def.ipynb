{
 "cells": [
  {
   "cell_type": "code",
   "execution_count": 2,
   "id": "013e09a7-f2f5-4afa-a56b-f21f43c7e581",
   "metadata": {},
   "outputs": [
    {
     "name": "stdout",
     "output_type": "stream",
     "text": [
      "7\n"
     ]
    }
   ],
   "source": [
    "# 함수\n",
    "def add(a, b): #a, b는 매개변수\n",
    "    return a + b\n",
    "\n",
    "print(add(3, 4)) # 3, 4는 인수"
   ]
  },
  {
   "cell_type": "code",
   "execution_count": 3,
   "id": "347cc7a0-fde9-4450-bba0-0820289b80c5",
   "metadata": {},
   "outputs": [
    {
     "name": "stdout",
     "output_type": "stream",
     "text": [
      "Hi\n"
     ]
    }
   ],
   "source": [
    "def say():\n",
    "    return 'Hi'\n",
    "\n",
    "a = say()\n",
    "print(a)"
   ]
  },
  {
   "cell_type": "code",
   "execution_count": 4,
   "id": "8ab94ad7-608f-4ffc-874a-620ca52956f7",
   "metadata": {},
   "outputs": [
    {
     "name": "stdout",
     "output_type": "stream",
     "text": [
      "10\n"
     ]
    }
   ],
   "source": [
    "# 매개변수 지정하여 호출하기\n",
    "result = add(a=3, b=7)\n",
    "print(result)"
   ]
  },
  {
   "cell_type": "code",
   "execution_count": 5,
   "id": "197b1aa0-fa9c-4326-8fc8-f2371ca10604",
   "metadata": {},
   "outputs": [
    {
     "name": "stdout",
     "output_type": "stream",
     "text": [
      "8\n"
     ]
    }
   ],
   "source": [
    "# 매개변수 지정하면 순서 무관하게 사용가능\n",
    "result = add(b = 5, a =3)\n",
    "print(result)"
   ]
  },
  {
   "cell_type": "code",
   "execution_count": 9,
   "id": "8af903a2-8b22-40ed-b34f-278f38929846",
   "metadata": {},
   "outputs": [
    {
     "name": "stdout",
     "output_type": "stream",
     "text": [
      "6\n",
      "55\n"
     ]
    }
   ],
   "source": [
    "# 여러 개의 입력값을 모두 더하는 함수 생성.\n",
    "def add_many(*args):\n",
    "    result = 0\n",
    "    for i in args:\n",
    "        result = result + i\n",
    "    return result\n",
    "\n",
    "result = add_many(1, 2, 3)\n",
    "print(result)\n",
    "\n",
    "result1 = add_many(1, 2, 3, 4, 5, 6, 7, 8, 9, 10)\n",
    "print(result1)"
   ]
  },
  {
   "cell_type": "code",
   "execution_count": 22,
   "id": "519625a5-7b2f-4886-b945-15491594172b",
   "metadata": {},
   "outputs": [],
   "source": [
    "# 여러 개의 입력 처리할 때\n",
    "def add_mul(choice, *args):\n",
    "    if choice == \"add\": #매개변수 choice에 'add'를 입력받았을 때\n",
    "        result = 0\n",
    "        for i in args:\n",
    "            result = result + i\n",
    "    elif choice == \"mul\": #매개변수 choice에 'mul'을 입력받았을 때\n",
    "        result = 1\n",
    "        for i in args:\n",
    "            result = result * i #args 에 입력받은 모든 값을 곱한다\n",
    "    return result"
   ]
  },
  {
   "cell_type": "code",
   "execution_count": 23,
   "id": "177d8671-6f66-4698-8184-94d5723b0bd0",
   "metadata": {},
   "outputs": [
    {
     "name": "stdout",
     "output_type": "stream",
     "text": [
      "15\n"
     ]
    }
   ],
   "source": [
    "result = add_mul('add', 1,2,3,4,5)\n",
    "print(result)"
   ]
  },
  {
   "cell_type": "code",
   "execution_count": 24,
   "id": "d05e236a-d605-4106-a57d-83d7ff3685fe",
   "metadata": {},
   "outputs": [
    {
     "name": "stdout",
     "output_type": "stream",
     "text": [
      "120\n"
     ]
    }
   ],
   "source": [
    "result = add_mul('mul', 1,2,3,4,5)\n",
    "print(result)"
   ]
  },
  {
   "cell_type": "code",
   "execution_count": 25,
   "id": "a0f5dd05-a562-4a9d-803f-16606f48e699",
   "metadata": {},
   "outputs": [],
   "source": [
    "# 키워드 파라미터\n",
    "def print_kwargs(**kwargs):\n",
    "    print(kwargs)"
   ]
  },
  {
   "cell_type": "code",
   "execution_count": 26,
   "id": "998d9786-6c00-4900-925e-23d257b97fb0",
   "metadata": {},
   "outputs": [
    {
     "name": "stdout",
     "output_type": "stream",
     "text": [
      "{'a': 1}\n"
     ]
    }
   ],
   "source": [
    "print_kwargs(a=1)"
   ]
  },
  {
   "cell_type": "code",
   "execution_count": 27,
   "id": "aa6da3e6-6b9e-4077-87e9-3dc360f201c4",
   "metadata": {},
   "outputs": [
    {
     "name": "stdout",
     "output_type": "stream",
     "text": [
      "{'name': 'foo', 'age': 3}\n"
     ]
    }
   ],
   "source": [
    "print_kwargs(name='foo', age=3)"
   ]
  },
  {
   "cell_type": "code",
   "execution_count": 29,
   "id": "e14c2a3b-241a-4977-aed7-5c6b8aaa5c5e",
   "metadata": {},
   "outputs": [],
   "source": [
    "def add_and_mul(a,b):\n",
    "    return a+b, a*b"
   ]
  },
  {
   "cell_type": "code",
   "execution_count": 32,
   "id": "8c426434-7c46-4ade-b393-5a73b0f73bab",
   "metadata": {},
   "outputs": [
    {
     "name": "stdout",
     "output_type": "stream",
     "text": [
      "(7, 12)\n"
     ]
    }
   ],
   "source": [
    "result = add_and_mul(3,4)\n",
    "print(result)"
   ]
  },
  {
   "cell_type": "code",
   "execution_count": 35,
   "id": "7287346b-ccfd-4b62-84fb-20458345ab43",
   "metadata": {},
   "outputs": [
    {
     "name": "stdout",
     "output_type": "stream",
     "text": [
      "7 12\n"
     ]
    }
   ],
   "source": [
    "# 하나의 튜플 값을 2개의 결괏값처럼 받고 싶다면\n",
    "result1, result2 = add_and_mul(3,4)\n",
    "print(result1, result2)"
   ]
  },
  {
   "cell_type": "code",
   "execution_count": 37,
   "id": "f8dbe563-8914-46a7-af2a-f0fd1fb473f6",
   "metadata": {},
   "outputs": [
    {
     "name": "stdout",
     "output_type": "stream",
     "text": [
      "7\n"
     ]
    }
   ],
   "source": [
    "# return문 2번\n",
    "def add_and_mul(a,b):\n",
    "    return a+b\n",
    "    return a*b #실행되지 않음\n",
    "\n",
    "result = add_and_mul(3,4)\n",
    "print(result)"
   ]
  },
  {
   "cell_type": "code",
   "execution_count": 40,
   "id": "ee1197c2-1baf-4b21-ab12-4aa2aabfcc62",
   "metadata": {},
   "outputs": [],
   "source": [
    "# return의 또다른 쓰임새\n",
    "def say_nick(nick):\n",
    "    if nick == \"바보\":\n",
    "        return\n",
    "    print(\"나의 별명은 %s 입니다.\" % nick)"
   ]
  },
  {
   "cell_type": "code",
   "execution_count": 41,
   "id": "a99b63bb-45d3-463b-9dc4-4e69c03bb328",
   "metadata": {},
   "outputs": [
    {
     "name": "stdout",
     "output_type": "stream",
     "text": [
      "나의 별명은 멍청이 입니다.\n"
     ]
    }
   ],
   "source": [
    "say_nick('멍청이')"
   ]
  },
  {
   "cell_type": "code",
   "execution_count": 42,
   "id": "336c26c5-6061-4d53-950a-a1884a413808",
   "metadata": {},
   "outputs": [
    {
     "name": "stdout",
     "output_type": "stream",
     "text": [
      "나의 별명은 다람쥐 입니다.\n"
     ]
    }
   ],
   "source": [
    "say_nick('다람쥐')"
   ]
  },
  {
   "cell_type": "code",
   "execution_count": 43,
   "id": "30844638-0c72-4b58-b7d8-6ce9defae9c1",
   "metadata": {},
   "outputs": [],
   "source": [
    "say_nick('바보')"
   ]
  },
  {
   "cell_type": "code",
   "execution_count": 49,
   "id": "87c28ec1-5495-4667-932d-84c04f4f21b7",
   "metadata": {},
   "outputs": [],
   "source": [
    "# 매개변수에 초기값 미리 설정하기\n",
    "def say_myself(name, old, man=True):\n",
    "    print(\"나의 이름은 %s 입니다.\" % name)\n",
    "    print(\"나이는 %d 살 입니다.\" % old)\n",
    "    if man:\n",
    "        print(\"남자입니다.\")\n",
    "    else:\n",
    "        print(\"여자입니다.\")"
   ]
  },
  {
   "cell_type": "code",
   "execution_count": 50,
   "id": "16da9ae0-40bc-415b-babb-234f3a457d17",
   "metadata": {},
   "outputs": [
    {
     "name": "stdout",
     "output_type": "stream",
     "text": [
      "나의 이름은 김똥개 입니다.\n",
      "나이는 32 살 입니다.\n",
      "남자입니다.\n"
     ]
    }
   ],
   "source": [
    "say_myself(\"김똥개\", 32)"
   ]
  },
  {
   "cell_type": "code",
   "execution_count": 51,
   "id": "cc55ccc6-20cd-4d45-bc98-765313f7dbfd",
   "metadata": {},
   "outputs": [
    {
     "name": "stdout",
     "output_type": "stream",
     "text": [
      "나의 이름은 김똥개 입니다.\n",
      "나이는 32 살 입니다.\n",
      "남자입니다.\n"
     ]
    }
   ],
   "source": [
    "say_myself(\"김똥개\", 32, True)"
   ]
  },
  {
   "cell_type": "code",
   "execution_count": 52,
   "id": "5298aef0-8f1e-4746-8e19-28e4796910b9",
   "metadata": {},
   "outputs": [
    {
     "name": "stdout",
     "output_type": "stream",
     "text": [
      "나의 이름은 이말순 입니다.\n",
      "나이는 32 살 입니다.\n",
      "여자입니다.\n"
     ]
    }
   ],
   "source": [
    "say_myself(\"이말순\", 32, False)"
   ]
  },
  {
   "cell_type": "code",
   "execution_count": 53,
   "id": "7fd5e712-916d-4b49-b747-c7b455e8562e",
   "metadata": {},
   "outputs": [
    {
     "name": "stdout",
     "output_type": "stream",
     "text": [
      "1\n"
     ]
    }
   ],
   "source": [
    "# 함수 안에서 선언한 변수의 효력 범위\n",
    "a = 1 #함수 밖의 변수 a\n",
    "def vartest(a):\n",
    "    a = a + 1 #vartest 함수 선언\n",
    "\n",
    "vartest (a) #vartest 함수의 입력값으로 a를 줌\n",
    "print(a) #a 값 출력"
   ]
  },
  {
   "cell_type": "code",
   "execution_count": 54,
   "id": "f160baf6-3ce8-400b-952a-5c2a83e2c32a",
   "metadata": {},
   "outputs": [
    {
     "name": "stdout",
     "output_type": "stream",
     "text": [
      "2\n"
     ]
    }
   ],
   "source": [
    "# 함수 안에서 함수 밖의 변수 변경\n",
    "a = 1\n",
    "def vartest(a):\n",
    "    a = a + 1\n",
    "    return a\n",
    "\n",
    "a = vartest(a) #vartest(a)의 결괏값을 함수 밖의 변수 a에 대입\n",
    "print(a)"
   ]
  },
  {
   "cell_type": "code",
   "execution_count": 56,
   "id": "70952366-55db-4664-9b71-b7f7430ca982",
   "metadata": {},
   "outputs": [
    {
     "name": "stdout",
     "output_type": "stream",
     "text": [
      "2\n"
     ]
    }
   ],
   "source": [
    "# 함수 안에서 함수 밖의 변수 변경 2.global\n",
    "a = 1\n",
    "def vartest():\n",
    "    global a\n",
    "    a = a + 1\n",
    "\n",
    "vartest()\n",
    "print(a)"
   ]
  },
  {
   "cell_type": "code",
   "execution_count": 57,
   "id": "464ca472-a16b-49da-b220-77346f8ef678",
   "metadata": {},
   "outputs": [
    {
     "name": "stdout",
     "output_type": "stream",
     "text": [
      "9\n"
     ]
    }
   ],
   "source": [
    "# lambda\n",
    "add = lambda a, b: a+b\n",
    "result = add(4, 5)\n",
    "print(result)"
   ]
  },
  {
   "cell_type": "code",
   "execution_count": 58,
   "id": "a3e98145-e1ad-4f5b-a7e9-93442c27e0e4",
   "metadata": {},
   "outputs": [
    {
     "name": "stdout",
     "output_type": "stream",
     "text": [
      "9\n"
     ]
    }
   ],
   "source": [
    "def add(a, b):\n",
    "    return a + b\n",
    "\n",
    "result = add(4, 5)\n",
    "print(result)"
   ]
  },
  {
   "cell_type": "code",
   "execution_count": 1,
   "id": "85091b9a-eb54-47ae-978f-53f6e3eb47b4",
   "metadata": {},
   "outputs": [],
   "source": [
    "# 짝수 홀수 판별 코드\n",
    "def is_odd(number):\n",
    "    if number % 2 == 1:\n",
    "        return True\n",
    "    else:\n",
    "        return False"
   ]
  },
  {
   "cell_type": "code",
   "execution_count": 2,
   "id": "73528956-b31e-45c4-9cc8-cc163cbc856d",
   "metadata": {},
   "outputs": [
    {
     "data": {
      "text/plain": [
       "True"
      ]
     },
     "execution_count": 2,
     "metadata": {},
     "output_type": "execute_result"
    }
   ],
   "source": [
    "is_odd(3)"
   ]
  },
  {
   "cell_type": "code",
   "execution_count": 3,
   "id": "0845b906-f136-45ce-9915-f87e1616a9e2",
   "metadata": {},
   "outputs": [
    {
     "data": {
      "text/plain": [
       "False"
      ]
     },
     "execution_count": 3,
     "metadata": {},
     "output_type": "execute_result"
    }
   ],
   "source": [
    "is_odd(4)"
   ]
  },
  {
   "cell_type": "code",
   "execution_count": 18,
   "id": "aa783f89-390b-4189-bc94-5bcf56fffdce",
   "metadata": {},
   "outputs": [],
   "source": [
    "# lambda 사용\n",
    "is_odd = lambda x: True if x % 2 == 1 else False"
   ]
  },
  {
   "cell_type": "code",
   "execution_count": 19,
   "id": "d6ec3405-72ee-4564-8c1e-9df01fb0ae11",
   "metadata": {},
   "outputs": [
    {
     "data": {
      "text/plain": [
       "True"
      ]
     },
     "execution_count": 19,
     "metadata": {},
     "output_type": "execute_result"
    }
   ],
   "source": [
    "is_odd(3)"
   ]
  },
  {
   "cell_type": "code",
   "execution_count": 20,
   "id": "c83c2c01-e73f-4ad3-ac99-ed1b062716ea",
   "metadata": {},
   "outputs": [
    {
     "data": {
      "text/plain": [
       "False"
      ]
     },
     "execution_count": 20,
     "metadata": {},
     "output_type": "execute_result"
    }
   ],
   "source": [
    "is_odd(12)"
   ]
  },
  {
   "cell_type": "code",
   "execution_count": 12,
   "id": "120b67ba-c1b6-4b86-8de6-9a20c637769d",
   "metadata": {},
   "outputs": [],
   "source": [
    "# 입력으로 들어오는 모든 수의 평균 값을 계산\n",
    "def avg_nubmers(*args):\n",
    "    result = 0\n",
    "    for i in args:\n",
    "        result += i\n",
    "    return result/len(args)"
   ]
  },
  {
   "cell_type": "code",
   "execution_count": 13,
   "id": "e705d3bc-5abd-4951-9e0b-c05a9d40bccb",
   "metadata": {},
   "outputs": [
    {
     "data": {
      "text/plain": [
       "1.5"
      ]
     },
     "execution_count": 13,
     "metadata": {},
     "output_type": "execute_result"
    }
   ],
   "source": [
    "avg_nubmers(1, 2)"
   ]
  },
  {
   "cell_type": "code",
   "execution_count": 14,
   "id": "8fd8af04-57b7-4b1c-a6a2-9e0a651f7251",
   "metadata": {},
   "outputs": [
    {
     "data": {
      "text/plain": [
       "3.0"
      ]
     },
     "execution_count": 14,
     "metadata": {},
     "output_type": "execute_result"
    }
   ],
   "source": [
    "avg_nubmers(1,2,3,4,5)"
   ]
  }
 ],
 "metadata": {
  "kernelspec": {
   "display_name": "Python 3 (ipykernel)",
   "language": "python",
   "name": "python3"
  },
  "language_info": {
   "codemirror_mode": {
    "name": "ipython",
    "version": 3
   },
   "file_extension": ".py",
   "mimetype": "text/x-python",
   "name": "python",
   "nbconvert_exporter": "python",
   "pygments_lexer": "ipython3",
   "version": "3.11.7"
  }
 },
 "nbformat": 4,
 "nbformat_minor": 5
}
