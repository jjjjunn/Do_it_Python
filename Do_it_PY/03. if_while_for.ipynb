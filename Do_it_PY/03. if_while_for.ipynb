{
 "cells": [
  {
   "cell_type": "code",
   "execution_count": 1,
   "id": "599a438e-05f5-410d-8bbd-cf71d398187c",
   "metadata": {},
   "outputs": [
    {
     "name": "stdout",
     "output_type": "stream",
     "text": [
      "택시 타자\n"
     ]
    }
   ],
   "source": [
    "#if 문\n",
    "money = True\n",
    "if money:\n",
    "    print(\"택시 타자\")\n",
    "else:\n",
    "    print(\"걸어가자\")"
   ]
  },
  {
   "cell_type": "code",
   "execution_count": 2,
   "id": "e766696e-140c-4af9-ab8f-94bd2444b5ad",
   "metadata": {},
   "outputs": [
    {
     "name": "stdout",
     "output_type": "stream",
     "text": [
      "x가 y보다 작다: True\n",
      "x가 y보다 크다: False\n",
      "x와 y가 같다: False\n",
      "x와 y는 같지 않다: True\n",
      "x는 y보다 크거나 같다: False\n",
      "x는 y보다 작거나 같다: True\n"
     ]
    }
   ],
   "source": [
    "# 비교연산자\n",
    "x = 3\n",
    "y = 4\n",
    "\n",
    "print('x가 y보다 작다:', x < y)\n",
    "print('x가 y보다 크다:', x > y)\n",
    "print('x와 y가 같다:', x ==y)\n",
    "print('x와 y는 같지 않다:', x != y)\n",
    "print('x는 y보다 크거나 같다:', x >= y)\n",
    "print('x는 y보다 작거나 같다:', x <= y)"
   ]
  },
  {
   "cell_type": "code",
   "execution_count": 4,
   "id": "bd186342-1b4f-4d48-b2d5-0ea115765cc7",
   "metadata": {},
   "outputs": [
    {
     "name": "stdout",
     "output_type": "stream",
     "text": [
      "걸어 가자\n"
     ]
    }
   ],
   "source": [
    "# 만약 3000원 이상의 돈을 가지고 있으면 택시를 타고, 그렇지 않으면 걸어가자\n",
    "money = 2000\n",
    "if money >= 3000: #3000 원 이상의 돈을 가지고 있으면\n",
    "    print(\"택시 타자\")\n",
    "else: #아니면\n",
    "    print(\"걸어 가자\")"
   ]
  },
  {
   "cell_type": "code",
   "execution_count": 6,
   "id": "ae6bb21f-2f18-47ba-aa38-531403b9b03d",
   "metadata": {},
   "outputs": [
    {
     "name": "stdout",
     "output_type": "stream",
     "text": [
      "택시 타자\n"
     ]
    }
   ],
   "source": [
    "# or, and, not 연산자\n",
    "# 만약 3000원 이상의 돈을 가지고 있거나,\n",
    "# 카드가 있으면 택시를 타고, 그렇지 않으면 걸어가자\n",
    "\n",
    "money = 2000\n",
    "card = True\n",
    "#3000 원 이상의 돈을 가지고 있거나, 카드가 있으면\n",
    "if money >= 3000 or card:\n",
    "    print(\"택시 타자\")\n",
    "else: #아니면\n",
    "    print(\"걸어 가자\")"
   ]
  },
  {
   "cell_type": "code",
   "execution_count": 7,
   "id": "4b22b079-7f75-4502-8b20-406a829bca74",
   "metadata": {},
   "outputs": [
    {
     "name": "stdout",
     "output_type": "stream",
     "text": [
      "True\n",
      "False\n",
      "True\n",
      "False\n",
      "False\n",
      "True\n"
     ]
    }
   ],
   "source": [
    "# x in s, x not in s\n",
    "\n",
    "# in 리스트\n",
    "print(1 in [1, 2, 3])\n",
    "print(1 not in [1, 2, 3])\n",
    "\n",
    "# in 튜플\n",
    "print('a' in ('a', 'b', 'c'))\n",
    "print('a' not in ('a', 'b', 'c'))\n",
    "\n",
    "# in 문자열\n",
    "print('j' in 'python')\n",
    "print('j' not in 'python')"
   ]
  },
  {
   "cell_type": "code",
   "execution_count": 8,
   "id": "c4619f2a-e338-4f8a-9285-c6b98d80c5e7",
   "metadata": {},
   "outputs": [
    {
     "name": "stdout",
     "output_type": "stream",
     "text": [
      "걸어가자\n"
     ]
    }
   ],
   "source": [
    "# 만약 주머니에 카드가 있으면 택시를 타고, 없으면 걸어가자\n",
    "# 주머니(pocekt)에 있는 것들\n",
    "pocket = ['paper', 'ID Card', 'cellphone', 'money']\n",
    "if 'card' in pocket: #만약 card가 주머니에 있으면\n",
    "    print('택시 타자')\n",
    "else:\n",
    "    print('걸어가자')"
   ]
  },
  {
   "cell_type": "code",
   "execution_count": 12,
   "id": "5c9b4bcd-5763-4446-8722-679b420aba84",
   "metadata": {},
   "outputs": [
    {
     "name": "stdout",
     "output_type": "stream",
     "text": [
      "걸어가자\n"
     ]
    }
   ],
   "source": [
    "# if문 한 줄로 적기\n",
    "pocket = ['paper', 'ID Card', 'cellphone', 'money']\n",
    "if 'card' in pocket: print('택시 타자')\n",
    "else: print('걸어가자')"
   ]
  },
  {
   "cell_type": "code",
   "execution_count": 10,
   "id": "a24a1b89-c0bd-42c3-95f5-e6ca543e5b1b",
   "metadata": {},
   "outputs": [],
   "source": [
    "# pass\n",
    "pocket = ['paper', 'ID Card', 'cellphone', 'card']\n",
    "if 'card' in pocket: #만약 card가 주머니에 있으면\n",
    "    pass\n",
    "else:\n",
    "    print('걸어가자')"
   ]
  },
  {
   "cell_type": "code",
   "execution_count": 11,
   "id": "01043aa4-26a7-49a0-9df9-91345cb36333",
   "metadata": {},
   "outputs": [
    {
     "name": "stdout",
     "output_type": "stream",
     "text": [
      "택시타자\n"
     ]
    }
   ],
   "source": [
    "# elif\n",
    "pocket = ['paper', 'ID Card', 'cellphone']\n",
    "card = True\n",
    "\n",
    "if 'money' in pocket: #주머니에 돈이 있으면\n",
    "    print('택시타자')\n",
    "elif card: #주머니에 돈이 없고 카드가 있으면\n",
    "    print('택시타자')\n",
    "else: #주머니에 돈도 없고 카드도 없으면\n",
    "    print('걸어가자')"
   ]
  },
  {
   "cell_type": "code",
   "execution_count": 14,
   "id": "0e134310-5260-4b46-82c5-92e1aa96f2fa",
   "metadata": {},
   "outputs": [
    {
     "ename": "NameError",
     "evalue": "name 'score' is not defined",
     "output_type": "error",
     "traceback": [
      "\u001b[1;31m---------------------------------------------------------------------------\u001b[0m",
      "\u001b[1;31mNameError\u001b[0m                                 Traceback (most recent call last)",
      "Cell \u001b[1;32mIn[14], line 4\u001b[0m\n\u001b[0;32m      1\u001b[0m \u001b[38;5;66;03m# 조건부 표현식\u001b[39;00m\n\u001b[0;32m      2\u001b[0m \u001b[38;5;66;03m# 점수가 60 이상일 경우, success, 아니면 failure 산출\u001b[39;00m\n\u001b[1;32m----> 4\u001b[0m \u001b[38;5;28;01mif\u001b[39;00m score \u001b[38;5;241m>\u001b[39m\u001b[38;5;241m=\u001b[39m \u001b[38;5;241m60\u001b[39m: message \u001b[38;5;241m=\u001b[39m \u001b[38;5;124m'\u001b[39m\u001b[38;5;124msuccess\u001b[39m\u001b[38;5;124m'\u001b[39m\n\u001b[0;32m      5\u001b[0m \u001b[38;5;28;01melse\u001b[39;00m: message \u001b[38;5;241m=\u001b[39m \u001b[38;5;124m'\u001b[39m\u001b[38;5;124mfailure\u001b[39m\u001b[38;5;124m'\u001b[39m\n",
      "\u001b[1;31mNameError\u001b[0m: name 'score' is not defined"
     ]
    }
   ],
   "source": [
    "# 조건부 표현식 #에러 코드니 실행 X\n",
    "# 점수가 60 이상일 경우, success, 아니면 failure 산출\n",
    "\n",
    "if score >= 60:\n",
    "    message = \"success\"\n",
    "else:\n",
    "    message = \"failure\"\n",
    "\n",
    "# 이를 조건부 표현식을 사용하면\n",
    "message = \"success\" if score >= 60 else \"failure\""
   ]
  },
  {
   "cell_type": "code",
   "execution_count": 15,
   "id": "ad7cb7a6-bb87-40e0-99d4-e505b72051eb",
   "metadata": {},
   "outputs": [
    {
     "name": "stdout",
     "output_type": "stream",
     "text": [
      "나무를 1번 찍었습니다\n",
      "나무를 2번 찍었습니다\n",
      "나무를 3번 찍었습니다\n",
      "나무를 4번 찍었습니다\n",
      "나무를 5번 찍었습니다\n",
      "나무를 6번 찍었습니다\n",
      "나무를 7번 찍었습니다\n",
      "나무를 8번 찍었습니다\n",
      "나무를 9번 찍었습니다\n",
      "나무를 10번 찍었습니다\n",
      "나무가 넘어갑니다\n"
     ]
    }
   ],
   "source": [
    "# while문\n",
    "# 열 번 찍어 안 넘어가는 나무 없다\n",
    "treeHit = 0 #나무를 찍은 횟수\n",
    "while treeHit < 10: #나무를 찍은 횟수가 10보다 작은 동안 반복\n",
    "    treeHit = treeHit + 1 #나무를 찍은 횟수 1씩 증가\n",
    "    print(\"나무를 %d번 찍었습니다\" % treeHit)\n",
    "    if treeHit == 10: #나무를 10번 찍으면\n",
    "        print(\"나무가 넘어갑니다\")"
   ]
  },
  {
   "cell_type": "code",
   "execution_count": 23,
   "id": "48a2642f-b874-4309-b8fb-4d9396fda135",
   "metadata": {},
   "outputs": [],
   "source": [
    "# while문 만들기\n",
    "\n",
    "prompt = \"\"\"\n",
    "    1. Add\n",
    "    2. Del\n",
    "    3. List\n",
    "    4. Quit\n",
    "\n",
    "    Enter number:\"\"\""
   ]
  },
  {
   "cell_type": "code",
   "execution_count": 25,
   "id": "6d8aaded-42b6-4629-92f8-acf7322d85c5",
   "metadata": {},
   "outputs": [
    {
     "name": "stdout",
     "output_type": "stream",
     "text": [
      "\n",
      "    1. Add\n",
      "    2. Del\n",
      "    3. List\n",
      "    4. Quit\n",
      "\n",
      "    Enter number:\n"
     ]
    },
    {
     "name": "stdin",
     "output_type": "stream",
     "text": [
      " 1\n"
     ]
    },
    {
     "name": "stdout",
     "output_type": "stream",
     "text": [
      "\n",
      "    1. Add\n",
      "    2. Del\n",
      "    3. List\n",
      "    4. Quit\n",
      "\n",
      "    Enter number:\n"
     ]
    },
    {
     "name": "stdin",
     "output_type": "stream",
     "text": [
      " 4\n"
     ]
    }
   ],
   "source": [
    "number = 0 #번호를 입력받을 변수\n",
    "while number != 4: #입력받은 번호가 4가 아닌 동안 반복\n",
    "    print(prompt)\n",
    "    number = int(input())"
   ]
  },
  {
   "cell_type": "code",
   "execution_count": null,
   "id": "99e90f77-729e-4fc3-bd76-51aeab2d8c9b",
   "metadata": {},
   "outputs": [],
   "source": [
    "# while문 강제 종료(break)\n",
    "coffee = 10 #자판기에 커피 10 있음\n",
    "money = 300 #자판기에 넣을 돈 300원\n",
    "#money는 0이 아니기 때문에 항상 참이므로 무한 루프 돌게 된다.\n",
    "while money:\n",
    "    print(\"이용해주셔서 감사합니다\") #커피 추출\n",
    "    coffee = coffee - 1 #while문 한 번 돌때 커피가 하나씩 줄어듦\n",
    "    print(\"남은 커피는 %d잔입니다.\" % coffee)\n",
    "    if coffee == 0: #커피가 다 떨어지면\n",
    "        print(\"커피가 모두 떨어졌습니다.\")\n",
    "        break"
   ]
  },
  {
   "cell_type": "code",
   "execution_count": 1,
   "id": "693734ef-fdbf-45a5-b318-a5f6387d5856",
   "metadata": {},
   "outputs": [
    {
     "name": "stdin",
     "output_type": "stream",
     "text": [
      "돈을 넣어주세요 350\n"
     ]
    },
    {
     "name": "stdout",
     "output_type": "stream",
     "text": [
      "거스름돈 50 받으시고, 커피도 받으세요.\n",
      "남은 커피의 양은 4잔입니다.\n"
     ]
    },
    {
     "name": "stdin",
     "output_type": "stream",
     "text": [
      "돈을 넣어주세요 250\n"
     ]
    },
    {
     "name": "stdout",
     "output_type": "stream",
     "text": [
      "돈이 모자랍니다.\n",
      "남은 커피의 양은 4잔입니다.\n"
     ]
    },
    {
     "name": "stdin",
     "output_type": "stream",
     "text": [
      "돈을 넣어주세요 300\n"
     ]
    },
    {
     "name": "stdout",
     "output_type": "stream",
     "text": [
      "커피를 줍니다\n",
      "남은 커피의 양은 3잔입니다.\n"
     ]
    },
    {
     "name": "stdin",
     "output_type": "stream",
     "text": [
      "돈을 넣어주세요 400\n"
     ]
    },
    {
     "name": "stdout",
     "output_type": "stream",
     "text": [
      "거스름돈 100 받으시고, 커피도 받으세요.\n",
      "남은 커피의 양은 2잔입니다.\n"
     ]
    },
    {
     "name": "stdin",
     "output_type": "stream",
     "text": [
      "돈을 넣어주세요 350\n"
     ]
    },
    {
     "name": "stdout",
     "output_type": "stream",
     "text": [
      "거스름돈 50 받으시고, 커피도 받으세요.\n",
      "남은 커피의 양은 1잔입니다.\n"
     ]
    },
    {
     "name": "stdin",
     "output_type": "stream",
     "text": [
      "돈을 넣어주세요 300\n"
     ]
    },
    {
     "name": "stdout",
     "output_type": "stream",
     "text": [
      "커피를 줍니다\n",
      "남은 커피의 양은 0잔입니다.\n",
      "커피가 다 떨어졌습니다.\n"
     ]
    }
   ],
   "source": [
    "# 실제 커피 자판기처럼\n",
    "coffee = 5\n",
    "while True:\n",
    "    money = int(input(\"돈을 넣어주세요\"))\n",
    "    if money == 300: #300원을 넣으면\n",
    "        print(\"커피를 줍니다\")\n",
    "        coffee = coffee - 1 #커피 추출하고 잔량 한 잔 사라짐\n",
    "        print(\"남은 커피의 양은 %d잔입니다.\" % coffee)\n",
    "    elif money > 300: #300원 보다 많이 넣으면\n",
    "        print(\"거스름돈 %d 받으시고, 커피도 받으세요.\" % (money - 300))\n",
    "        coffee = coffee - 1\n",
    "        print(\"남은 커피의 양은 %d잔입니다.\" % coffee)\n",
    "    else: # 300원보다 적게 넣으면\n",
    "        print(\"돈이 모자랍니다.\")\n",
    "        print(\"남은 커피의 양은 %d잔입니다.\" % coffee)\n",
    "    if coffee == 0:\n",
    "        print(\"커피가 다 떨어졌습니다.\")\n",
    "        break"
   ]
  },
  {
   "cell_type": "code",
   "execution_count": 2,
   "id": "48581425-3c90-45fe-8af8-98624defed99",
   "metadata": {},
   "outputs": [
    {
     "name": "stdout",
     "output_type": "stream",
     "text": [
      "1\n",
      "3\n",
      "5\n",
      "7\n",
      "9\n"
     ]
    }
   ],
   "source": [
    "# while문의 맨 처음으로 돌아가기 (continue문)\n",
    "a = 0\n",
    "while a < 10:\n",
    "    a = a + 1\n",
    "    if a % 2 == 0: continue # a를 2로 나누었을 때 나머지가 0이면 맨 처음으로 돌아간다\n",
    "    print(a)"
   ]
  },
  {
   "cell_type": "code",
   "execution_count": 3,
   "id": "93660f8a-84a7-4e1a-8295-21bbcbeb6f06",
   "metadata": {},
   "outputs": [
    {
     "name": "stdout",
     "output_type": "stream",
     "text": [
      "1\n",
      "2\n",
      "4\n",
      "5\n",
      "7\n",
      "8\n",
      "10\n"
     ]
    }
   ],
   "source": [
    "# 1부터 10까지의 숫자 중에서 3의 배수를 뺀 나머지 값 출력하기﻿\n",
    "a = 0\n",
    "while a < 10:\n",
    "    a = a + 1\n",
    "    if a % 3 == 0: continue\n",
    "    print(a)"
   ]
  },
  {
   "cell_type": "code",
   "execution_count": 2,
   "id": "00c3f969-945d-4bd9-89e6-11202e4d00d2",
   "metadata": {},
   "outputs": [
    {
     "name": "stdout",
     "output_type": "stream",
     "text": [
      "166833\n"
     ]
    }
   ],
   "source": [
    "# 1부터 1000까지의 자연수 중 3의 배수의 합 구하기\n",
    "result = 0\n",
    "i = 1\n",
    "while i <= 1000:\n",
    "    if i % 3 == 0:\n",
    "        result += i\n",
    "    i += 1\n",
    "\n",
    "print(result)"
   ]
  },
  {
   "cell_type": "code",
   "execution_count": 4,
   "id": "c1c3b41e-2f81-43b9-aa88-5a3a31ecd29f",
   "metadata": {},
   "outputs": [
    {
     "name": "stdout",
     "output_type": "stream",
     "text": [
      "*\n",
      "**\n",
      "***\n",
      "****\n",
      "*****\n"
     ]
    }
   ],
   "source": [
    "# * 표시 프로그램\n",
    "i = 0\n",
    "while True:\n",
    "    i += 1\n",
    "    if i > 5: break\n",
    "    print('*' * i)"
   ]
  },
  {
   "cell_type": "code",
   "execution_count": 4,
   "id": "681399c5-c57e-436a-874b-de0417108f56",
   "metadata": {},
   "outputs": [
    {
     "name": "stdout",
     "output_type": "stream",
     "text": [
      "one\n",
      "two\n",
      "three\n"
     ]
    }
   ],
   "source": [
    "# for문\n",
    "test_list = ['one', 'two', 'three']\n",
    "for i in test_list: #one, two, three를 순서대로 i에 대입\n",
    "    print(i)"
   ]
  },
  {
   "cell_type": "code",
   "execution_count": 5,
   "id": "9f4e8f0b-eb79-4d4f-affd-6020aa9b99b9",
   "metadata": {},
   "outputs": [
    {
     "name": "stdout",
     "output_type": "stream",
     "text": [
      "3\n",
      "7\n",
      "11\n"
     ]
    }
   ],
   "source": [
    "# for문 예2\n",
    "a = [(1,2), (3,4), (5,6)]\n",
    "for (first, last) in a:\n",
    "    print(first + last)\n",
    "\n",
    "# a리스트의 요솟값이 튜플이므로 각각의 요소가 자동으로 변수에 대입"
   ]
  },
  {
   "cell_type": "code",
   "execution_count": 7,
   "id": "c7dd2b24-94d9-4ed6-bfb3-21ded852ae55",
   "metadata": {},
   "outputs": [
    {
     "name": "stdout",
     "output_type": "stream",
     "text": [
      "1번 학생 합격입니다.\n",
      "2번 학생 불합격입니다.\n",
      "3번 학생 합격입니다.\n",
      "4번 학생 불합격입니다.\n",
      "5번 학생 합격입니다.\n"
     ]
    }
   ],
   "source": [
    "# 합격, 불합격\n",
    "scores = [90, 50, 65, 48, 82] #학생들의 시험 점수 리스트\n",
    "number = 0 #학생에게 붙여줄 번호\n",
    "for score in scores: #학생들의 시험 점수를 순서대로 score에 기입\n",
    "    number = number + 1\n",
    "    if score >= 60:\n",
    "        print(\"%d번 학생 합격입니다.\" % number)\n",
    "    else:\n",
    "        print(\"%d번 학생 불합격입니다.\" % number)"
   ]
  },
  {
   "cell_type": "code",
   "execution_count": 10,
   "id": "bb79b156-c13e-4da0-bfd0-a72ac76f5f52",
   "metadata": {},
   "outputs": [
    {
     "name": "stdout",
     "output_type": "stream",
     "text": [
      "1번 학생 합격입니다. 축하합니다!\n",
      "3번 학생 합격입니다. 축하합니다!\n",
      "5번 학생 합격입니다. 축하합니다!\n"
     ]
    }
   ],
   "source": [
    "# for문과 continue문\n",
    "# 합격: 합격메시지\n",
    "scores = [90, 50, 65, 48, 82] #학생들의 시험 점수 리스트\n",
    "number = 0 #학생에게 붙여줄 번호\n",
    "for score in scores: #학생들의 시험 점수를 순서대로 score에 기입\n",
    "    number = number + 1\n",
    "    if score < 60: continue\n",
    "    print(\"%d번 학생 합격입니다. 축하합니다!\" % number)"
   ]
  },
  {
   "cell_type": "code",
   "execution_count": 11,
   "id": "3f1e678c-91ac-472b-9185-e3b30327fa52",
   "metadata": {},
   "outputs": [
    {
     "name": "stdout",
     "output_type": "stream",
     "text": [
      "range(0, 10)\n",
      "range(1, 11)\n"
     ]
    }
   ],
   "source": [
    "# range 함수\n",
    "a = range(10)\n",
    "print(a)\n",
    "\n",
    "# 시작 숫자와 끝 숫자 지정 - 끝 숫자는 범위에 미포함\n",
    "b = range(1, 11)\n",
    "print(b)"
   ]
  },
  {
   "cell_type": "code",
   "execution_count": 14,
   "id": "7db595c2-2125-47d2-bf4b-7ce68c4be0bc",
   "metadata": {},
   "outputs": [
    {
     "name": "stdout",
     "output_type": "stream",
     "text": [
      "1\n",
      "3\n",
      "6\n",
      "10\n",
      "15\n",
      "21\n",
      "28\n",
      "36\n",
      "45\n",
      "55\n"
     ]
    }
   ],
   "source": [
    "# for + range 함수 예시\n",
    "add = 0\n",
    "for i in range(1, 11): #1부터 10까지\n",
    "    add = add + i\n",
    "    print(add)"
   ]
  },
  {
   "cell_type": "code",
   "execution_count": 17,
   "id": "5f8dc510-a02a-405a-a4e4-452564cd89af",
   "metadata": {},
   "outputs": [
    {
     "name": "stdout",
     "output_type": "stream",
     "text": [
      "1번 학생 합격입니다. 축하합니다!\n",
      "3번 학생 합격입니다. 축하합니다!\n",
      "5번 학생 합격입니다. 축하합니다!\n"
     ]
    }
   ],
   "source": [
    "# range 함수 적용한 합격 메시지\n",
    "scores = [90, 50, 65, 48, 82] #학생들의 시험 점수 리스트\n",
    "for number in range(len(scores)): #len 함수는 리스트 안의 요소 개수를 돌려주는 함수\n",
    "    if scores[number] < 60: continue #점수가 60점 미만이면 맨 처음으로 돌아간다\n",
    "    print(\"%d번 학생 합격입니다. 축하합니다!\" % (number+1))"
   ]
  },
  {
   "cell_type": "code",
   "execution_count": 18,
   "id": "4b68ad3e-481e-40b3-8222-84739871f5ab",
   "metadata": {
    "scrolled": true
   },
   "outputs": [
    {
     "name": "stdout",
     "output_type": "stream",
     "text": [
      "1\n",
      "3\n",
      "6\n",
      "10\n",
      "15\n",
      "21\n",
      "28\n",
      "36\n",
      "45\n",
      "55\n",
      "66\n",
      "78\n",
      "91\n",
      "105\n",
      "120\n",
      "136\n",
      "153\n",
      "171\n",
      "190\n",
      "210\n",
      "231\n",
      "253\n",
      "276\n",
      "300\n",
      "325\n",
      "351\n",
      "378\n",
      "406\n",
      "435\n",
      "465\n",
      "496\n",
      "528\n",
      "561\n",
      "595\n",
      "630\n",
      "666\n",
      "703\n",
      "741\n",
      "780\n",
      "820\n",
      "861\n",
      "903\n",
      "946\n",
      "990\n",
      "1035\n",
      "1081\n",
      "1128\n",
      "1176\n",
      "1225\n",
      "1275\n",
      "1326\n",
      "1378\n",
      "1431\n",
      "1485\n",
      "1540\n",
      "1596\n",
      "1653\n",
      "1711\n",
      "1770\n",
      "1830\n",
      "1891\n",
      "1953\n",
      "2016\n",
      "2080\n",
      "2145\n",
      "2211\n",
      "2278\n",
      "2346\n",
      "2415\n",
      "2485\n",
      "2556\n",
      "2628\n",
      "2701\n",
      "2775\n",
      "2850\n",
      "2926\n",
      "3003\n",
      "3081\n",
      "3160\n",
      "3240\n",
      "3321\n",
      "3403\n",
      "3486\n",
      "3570\n",
      "3655\n",
      "3741\n",
      "3828\n",
      "3916\n",
      "4005\n",
      "4095\n",
      "4186\n",
      "4278\n",
      "4371\n",
      "4465\n",
      "4560\n",
      "4656\n",
      "4753\n",
      "4851\n",
      "4950\n",
      "5050\n"
     ]
    }
   ],
   "source": [
    "# 1부터 100까지 더하기\n",
    "add = 0\n",
    "for i in range(1, 101):\n",
    "    add = add + i\n",
    "    print(add)"
   ]
  },
  {
   "cell_type": "code",
   "execution_count": 19,
   "id": "1d0818b8-45ee-44b1-97b3-107378202597",
   "metadata": {},
   "outputs": [
    {
     "name": "stdout",
     "output_type": "stream",
     "text": [
      "2 4 6 8 10 12 14 16 18  \n",
      "3 6 9 12 15 18 21 24 27  \n",
      "4 8 12 16 20 24 28 32 36  \n",
      "5 10 15 20 25 30 35 40 45  \n",
      "6 12 18 24 30 36 42 48 54  \n",
      "7 14 21 28 35 42 49 56 63  \n",
      "8 16 24 32 40 48 56 64 72  \n",
      "9 18 27 36 45 54 63 72 81  \n"
     ]
    }
   ],
   "source": [
    "# for와 range를 사용한 구구단\n",
    "for i in range(2, 10): #1번 for문 (2부터 9까지)\n",
    "    for j in range(1, 10): #2번 for문(1부터 9까지)\n",
    "        print(i*j, end=\" \") #1번 for문 곱하기 2번 for문\n",
    "    print(' ')"
   ]
  },
  {
   "cell_type": "code",
   "execution_count": 6,
   "id": "b6b148a2-bed4-4ad6-ace2-cd1858517657",
   "metadata": {},
   "outputs": [
    {
     "name": "stdout",
     "output_type": "stream",
     "text": [
      "79.0\n"
     ]
    }
   ],
   "source": [
    "#  A학급 학생들의 중간고사 평균 점수 구하기﻿\n",
    "A = [70, 60, 55, 75, 95, 90, 80, 80, 85, 100]\n",
    "total = 0\n",
    "for score in A:\n",
    "    total += score\n",
    "average = total / len(A)\n",
    "print(average)"
   ]
  },
  {
   "cell_type": "code",
   "execution_count": 20,
   "id": "4cc0c97f-29d8-4e38-8c13-d34138f99be9",
   "metadata": {},
   "outputs": [
    {
     "name": "stdout",
     "output_type": "stream",
     "text": [
      "[3, 6, 9, 12]\n"
     ]
    }
   ],
   "source": [
    "# 리스트 내포 사용하기 (전)\n",
    "a = [1, 2, 3, 4]\n",
    "result = []\n",
    "for num in a:\n",
    "    result.append(num*3) #a 리스트의 각 항목에 3 곱하기\n",
    "\n",
    "print(result)"
   ]
  },
  {
   "cell_type": "code",
   "execution_count": 21,
   "id": "6e9354bc-e06f-43c6-987e-e2ca41115c9d",
   "metadata": {},
   "outputs": [
    {
     "name": "stdout",
     "output_type": "stream",
     "text": [
      "[3, 6, 9, 12]\n"
     ]
    }
   ],
   "source": [
    "# 리스트 내포 사용하기 (후)\n",
    "a = [1, 2, 3, 4]\n",
    "result = [num * 3 for num in a]\n",
    "print(result)"
   ]
  },
  {
   "cell_type": "code",
   "execution_count": 23,
   "id": "fbc439be-51cb-4435-b90b-ef534072a9a6",
   "metadata": {},
   "outputs": [
    {
     "name": "stdout",
     "output_type": "stream",
     "text": [
      "[6, 12]\n"
     ]
    }
   ],
   "source": [
    "# 리스트 내포 사용하기2 - 짝수만 곱하기\n",
    "a = [1, 2, 3, 4]\n",
    "result = [num * 3 for num in a if num % 2 == 0]\n",
    "print(result)"
   ]
  },
  {
   "cell_type": "code",
   "execution_count": 24,
   "id": "d6a251f4-0425-4af7-9858-c75077916c26",
   "metadata": {},
   "outputs": [
    {
     "name": "stdout",
     "output_type": "stream",
     "text": [
      "[2, 4, 6, 8, 10, 12, 14, 16, 18, 3, 6, 9, 12, 15, 18, 21, 24, 27, 4, 8, 12, 16, 20, 24, 28, 32, 36, 5, 10, 15, 20, 25, 30, 35, 40, 45, 6, 12, 18, 24, 30, 36, 42, 48, 54, 7, 14, 21, 28, 35, 42, 49, 56, 63, 8, 16, 24, 32, 40, 48, 56, 64, 72, 9, 18, 27, 36, 45, 54, 63, 72, 81]\n"
     ]
    }
   ],
   "source": [
    "# 구구단 (리스트 내포)\n",
    "result = [x*y for x in range(2, 10)\n",
    "              for y in range(1, 10)]\n",
    "print(result)"
   ]
  },
  {
   "cell_type": "code",
   "execution_count": 8,
   "id": "8a13a952-6120-44fc-85af-bc1e8b78e103",
   "metadata": {},
   "outputs": [
    {
     "name": "stdout",
     "output_type": "stream",
     "text": [
      "[2, 6, 10]\n"
     ]
    }
   ],
   "source": [
    "# 리스트 중에서 홀수에만 2를 곱하는 코드\n",
    "numbers = [1, 2, 3, 4, 5]\n",
    "\n",
    "result = []\n",
    "for n in numbers:\n",
    "    if n % 2 == 1:\n",
    "        result.append(n*2)\n",
    "print(result)"
   ]
  },
  {
   "cell_type": "code",
   "execution_count": 9,
   "id": "395427c5-396a-4541-bb18-0bc21f542d58",
   "metadata": {},
   "outputs": [
    {
     "name": "stdout",
     "output_type": "stream",
     "text": [
      "[2, 6, 10]\n"
     ]
    }
   ],
   "source": [
    "# 리스트 내포 사용\n",
    "a = [1, 2, 3, 4, 5]\n",
    "result = [num * 2 for num in a if num % 2 == 1]\n",
    "print(result)"
   ]
  },
  {
   "cell_type": "code",
   "execution_count": null,
   "id": "d980fa79-8904-4be7-a918-f1e242696fcb",
   "metadata": {},
   "outputs": [],
   "source": []
  }
 ],
 "metadata": {
  "kernelspec": {
   "display_name": "Python 3 (ipykernel)",
   "language": "python",
   "name": "python3"
  },
  "language_info": {
   "codemirror_mode": {
    "name": "ipython",
    "version": 3
   },
   "file_extension": ".py",
   "mimetype": "text/x-python",
   "name": "python",
   "nbconvert_exporter": "python",
   "pygments_lexer": "ipython3",
   "version": "3.11.7"
  }
 },
 "nbformat": 4,
 "nbformat_minor": 5
}
