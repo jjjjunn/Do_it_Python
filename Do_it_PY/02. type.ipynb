{
 "cells": [
  {
   "cell_type": "code",
   "execution_count": null,
   "id": "434ab986-6aae-4b0a-9d1d-b508570cd1df",
   "metadata": {},
   "outputs": [],
   "source": [
    "# 숫자형 자료\n",
    "\n",
    "# 정수형: 정수를 뜻하는 자료형\n",
    "a = 123\n",
    "a = -178\n",
    "a = 0\n",
    "\n",
    "#실수형: 소수점이 포함된 숫자\n",
    "a = 1.2\n",
    "a = -3.45\n",
    "# 실수형의 소수점 표현 방식\n",
    "a = 4.24E10\n",
    "a = 4.24e-10\n",
    "\n",
    "# 16진수와 8진수는 파이썬에서 잘 사용하지 않음.\n",
    "# 8진수: 8진수를 만들기 위해서는 숫자가 0+o 또는 0+O 으로 시작\n",
    "a = 0o177\n",
    "\n",
    "# 16진수 : 0x로 시작\n",
    "a = 0x8ff\n",
    "b = 0xABC"
   ]
  },
  {
   "cell_type": "code",
   "execution_count": 4,
   "id": "d0f966d6-a6dd-425b-9403-dfc46c8c2f82",
   "metadata": {},
   "outputs": [
    {
     "name": "stdout",
     "output_type": "stream",
     "text": [
      "7\n",
      "-1\n",
      "12\n",
      "0.75\n"
     ]
    }
   ],
   "source": [
    "# 사칙연산\n",
    "a = 3\n",
    "b = 4\n",
    "\n",
    "print(a + b) #덧셈\n",
    "print(a - b) #뺄셈\n",
    "print(a * b) #곱셈\n",
    "print(a / b) #나눗셈"
   ]
  },
  {
   "cell_type": "code",
   "execution_count": 5,
   "id": "fd36710c-205e-4925-b397-88d7c1c2a0a2",
   "metadata": {},
   "outputs": [
    {
     "data": {
      "text/plain": [
       "81"
      ]
     },
     "execution_count": 5,
     "metadata": {},
     "output_type": "execute_result"
    }
   ],
   "source": [
    "# ** 연산자: x의 y제곱\n",
    "a = 3\n",
    "b = 4\n",
    "\n",
    "a ** b"
   ]
  },
  {
   "cell_type": "code",
   "execution_count": 7,
   "id": "0973b97b-4719-4eae-a3b8-682452fbef65",
   "metadata": {},
   "outputs": [
    {
     "name": "stdout",
     "output_type": "stream",
     "text": [
      "1\n",
      "3\n"
     ]
    }
   ],
   "source": [
    "# % 연산자: 나눗셈 후 나머지를 반환\n",
    "print(7 % 3)\n",
    "print(3 % 7)"
   ]
  },
  {
   "cell_type": "code",
   "execution_count": 8,
   "id": "f1750056-cf49-41da-ae0a-5eb18a4e600b",
   "metadata": {},
   "outputs": [
    {
     "name": "stdout",
     "output_type": "stream",
     "text": [
      "1.75\n",
      "1\n"
     ]
    }
   ],
   "source": [
    "#'// 연산자: 나눗셈 후 몫을 반환'\n",
    "print(7/4) #일반 나눗셈\n",
    "print(7//4)"
   ]
  },
  {
   "cell_type": "code",
   "execution_count": 10,
   "id": "ed7d3bbd-c178-4d20-8e19-f552a9e80562",
   "metadata": {},
   "outputs": [
    {
     "name": "stdout",
     "output_type": "stream",
     "text": [
      "14를 3으로 나눌 때 몫: 4\n",
      "14를 3으로 나눌 때 나머지: 2\n"
     ]
    }
   ],
   "source": [
    "# 14를 3으로 나눌 때 몫과 나머지\n",
    "a = 14\n",
    "b = 3\n",
    "\n",
    "print('14를 3으로 나눌 때 몫:', a//b)\n",
    "print('14를 3으로 나눌 때 나머지:', a%b)"
   ]
  },
  {
   "cell_type": "code",
   "execution_count": 11,
   "id": "9e0d42b4-ec25-4bb0-b627-86f06dd71f80",
   "metadata": {},
   "outputs": [
    {
     "name": "stdout",
     "output_type": "stream",
     "text": [
      "Hello World!\n",
      "Python is fun\n",
      "Life is too short, You need Python\n",
      "Life is too short, You need Python\n"
     ]
    }
   ],
   "source": [
    "# 문자열 자료형 : 문자, 단어 등 (숫자여도 \" \"  로 둘러싸여 있으면 다 문자열)\n",
    "\"Life is too short, You need Python\"\n",
    "\"a\"\n",
    "\"123\"\n",
    "\n",
    "#문자열 만드는 방법\n",
    "print(\"Hello World!\") #큰따옴표로 둘러싸기\n",
    "print('Python is fun') #작은 따옴표로 둘러싸기\n",
    "print(\"\"\"Life is too short, You need Python\"\"\") #큰따옴표 3개 연속으로 둘러싸기\n",
    "print('''Life is too short, You need Python''') #작은따옴표 3개 연속으로 둘러싸기"
   ]
  },
  {
   "cell_type": "code",
   "execution_count": 14,
   "id": "4532cb0b-cfb0-4e4a-80a0-5ff830344820",
   "metadata": {},
   "outputs": [
    {
     "name": "stdout",
     "output_type": "stream",
     "text": [
      "Python's favorite food is perl\n",
      "\"Python is very easy.\" he says.\n",
      "Python's favorite food is perl\n",
      "\"Python is very easy.\" he says.\n"
     ]
    }
   ],
   "source": [
    "# 문자열 안에 작은따옴표(')나 큰따옴표(\")가 들어가야 할 경우\n",
    "\n",
    "#1. 문자열에 작은따옴표 포함\n",
    "food = \"Python's favorite food is perl\"\n",
    "\n",
    "#2. 큰따옴표 포함\n",
    "say = '\"Python is very easy.\" he says.'\n",
    "\n",
    "#3.백슬래시(\\) 사용하여 작은따옴표와 큰따옴표 문자열에 포함시키기\n",
    "food_1 = 'Python\\'s favorite food is perl'\n",
    "say_1 = '\\\"Python is very easy.\\\" he says.'\n",
    "\n",
    "print(food)\n",
    "print(say)\n",
    "print(food_1)\n",
    "print(say_1)"
   ]
  },
  {
   "cell_type": "code",
   "execution_count": 18,
   "id": "7df74b74-2a43-4083-b9f7-719e8174e5f0",
   "metadata": {},
   "outputs": [
    {
     "name": "stdout",
     "output_type": "stream",
     "text": [
      "Life is too short\n",
      "You need python\n",
      "\n",
      "Life is too short\n",
      "You need python\n",
      "\n"
     ]
    }
   ],
   "source": [
    "# 여러 줄인 문자열을 변수에 대입하고 싶을 때\n",
    "\n",
    "#Life is too short\n",
    "#You need python\n",
    "\n",
    "#1. \\n(이스케이프 코드) 삽입하기\n",
    "multiline = \"Life is too short\\nYou need python\"\n",
    "\n",
    "#2. 연속된 작은따옴표 또는 큰따옴표 3개 사용하기\n",
    "multiline_1 = '''\n",
    "Life is too short\n",
    "You need python\n",
    "'''\n",
    "\n",
    "print(multiline)\n",
    "print(multiline_1)"
   ]
  },
  {
   "cell_type": "code",
   "execution_count": 21,
   "id": "54d04004-6411-4a88-8062-3898f9e35ed1",
   "metadata": {},
   "outputs": [
    {
     "name": "stdout",
     "output_type": "stream",
     "text": [
      "Python is fun!\n",
      "PythonPython\n",
      "33\n"
     ]
    }
   ],
   "source": [
    "# 문자열 연산하기\n",
    "\n",
    "# 문자열 더하기\n",
    "head = \"Python\"\n",
    "tail = \" is fun!\"\n",
    "\n",
    "# 문자열 곱하기\n",
    "a = \"Python\"\n",
    "\n",
    "# 문자열 길이 구하기\n",
    "b = \"Life is too short You need python\"\n",
    "\n",
    "print(head + tail)\n",
    "print(a * 2)\n",
    "print(len(b))"
   ]
  },
  {
   "cell_type": "code",
   "execution_count": 24,
   "id": "7add9429-86d8-4d1c-bca7-3b145f2f4555",
   "metadata": {},
   "outputs": [
    {
     "name": "stdout",
     "output_type": "stream",
     "text": [
      "e\n",
      "s\n",
      "n\n",
      "L\n",
      "Life\n",
      "슬라이싱 기법: Life\n",
      "슬라이싱 기법:  to\n",
      "끝번호 생략: You need python\n",
      "시작 번호 생략: Life is too short\n",
      "시작, 끝 생략: Life is too short, You need python\n",
      "마이너스: You need\n"
     ]
    }
   ],
   "source": [
    "# 문자열 인덱싱과 슬라이싱\n",
    "\n",
    "# 문자열 인덱싱\n",
    "a = \"Life is too short, You need python\"\n",
    "\n",
    "print(a[3])\n",
    "print(a[12])\n",
    "print(a[-1]) #마이너스는 뒤에서 부터 읽기\n",
    "# 0 = -0\n",
    "print(a[-0])\n",
    "\n",
    "#문자열 슬라이싱\n",
    "b = a[0] + a[1] + a[2] + a[3]\n",
    "print(b)\n",
    "\n",
    "#슬라이싱 기법: [시작 번호: 끝 번호]\n",
    "print('슬라이싱 기법:', a[0:4])\n",
    "print('슬라이싱 기법:', a[7:10])\n",
    "\n",
    "# 끝 번호 부분을 생략하면 시작 번호부터 그 문자열의 끝까지 출력\n",
    "print('끝번호 생략:', a[19:])\n",
    "\n",
    "# 시작 번호 생략하면 문자열의 처음부터 끝 번호까지 출력\n",
    "print('시작 번호 생략:', a[:17])\n",
    "\n",
    "# 둘다 생략하면 처음부터 끝까지 출력\n",
    "print('시작, 끝 생략:', a[:])\n",
    "\n",
    "# 슬라이싱도 마이너스 사용 가능\n",
    "print('마이너스:', a[19:-7])"
   ]
  },
  {
   "cell_type": "code",
   "execution_count": 25,
   "id": "b159e61c-53e5-43c4-8a86-948fff9207d5",
   "metadata": {},
   "outputs": [
    {
     "name": "stdout",
     "output_type": "stream",
     "text": [
      "20240613\n",
      "Suuny\n"
     ]
    }
   ],
   "source": [
    "# 슬라이싱으로 문자열 나누기\n",
    "a = \"20240613Suuny\"\n",
    "date = a[:8]\n",
    "weather = a[8:]\n",
    "\n",
    "print(date)\n",
    "print(weather)"
   ]
  },
  {
   "cell_type": "code",
   "execution_count": 28,
   "id": "2f351ae6-e2e3-4b2b-b5ec-0b52808b3232",
   "metadata": {},
   "outputs": [
    {
     "name": "stdout",
     "output_type": "stream",
     "text": [
      "2024\n",
      "06\n",
      "13\n",
      "Suuny\n"
     ]
    }
   ],
   "source": [
    "# 슬라이싱으로 문자열 나누기2\n",
    "a = \"20240613Suuny\"\n",
    "year = a[:4] #4가 포함되지 않음\n",
    "month = a[4:6] #6이 포함되지 않음\n",
    "day = a[6:8] #6이 포함됨\n",
    "weather = a[8:]\n",
    "\n",
    "print(year)\n",
    "print(month)\n",
    "print(day)\n",
    "print(weather)"
   ]
  },
  {
   "cell_type": "code",
   "execution_count": 29,
   "id": "abf07e49-f8c9-4b21-b164-7fd67c57c6cd",
   "metadata": {},
   "outputs": [
    {
     "name": "stdout",
     "output_type": "stream",
     "text": [
      "i\n"
     ]
    }
   ],
   "source": [
    "# 문자열 바꾸기( 슬라이싱 기법을 활용)\n",
    "a = \"Pithon\"\n",
    "print(a[1])"
   ]
  },
  {
   "cell_type": "code",
   "execution_count": 30,
   "id": "106400c0-f9c9-4f64-9043-f98d857bf171",
   "metadata": {},
   "outputs": [
    {
     "data": {
      "text/plain": [
       "'Python'"
      ]
     },
     "execution_count": 30,
     "metadata": {},
     "output_type": "execute_result"
    }
   ],
   "source": [
    "a = \"Pithon\"\n",
    "a[:1] + \"y\" + a[2:]"
   ]
  },
  {
   "cell_type": "code",
   "execution_count": 34,
   "id": "adf1a667-67a8-4fe9-939d-45eab9112634",
   "metadata": {},
   "outputs": [
    {
     "data": {
      "text/plain": [
       "'I ate 3 apples.'"
      ]
     },
     "execution_count": 34,
     "metadata": {},
     "output_type": "execute_result"
    }
   ],
   "source": [
    "# 문자열 포매팅\n",
    "\n",
    "#1. 숫자 대입\n",
    "\n",
    "'I ate %d apples.' %3"
   ]
  },
  {
   "cell_type": "code",
   "execution_count": 35,
   "id": "d41702e9-2f57-4feb-b12a-fd93106147be",
   "metadata": {},
   "outputs": [
    {
     "data": {
      "text/plain": [
       "' I ate five apples.'"
      ]
     },
     "execution_count": 35,
     "metadata": {},
     "output_type": "execute_result"
    }
   ],
   "source": [
    "# 2 문자 대입\n",
    "' I ate %s apples.' %'five'"
   ]
  },
  {
   "cell_type": "code",
   "execution_count": 36,
   "id": "43116d17-0ffb-4fab-9e47-9a4b97a3fe36",
   "metadata": {},
   "outputs": [
    {
     "data": {
      "text/plain": [
       "'I ate 3 apples.'"
      ]
     },
     "execution_count": 36,
     "metadata": {},
     "output_type": "execute_result"
    }
   ],
   "source": [
    "# 3. 숫자 값을 나타내는 변수로 대입\n",
    "number = 3\n",
    "'I ate %d apples.' %number"
   ]
  },
  {
   "cell_type": "code",
   "execution_count": 37,
   "id": "47171d10-477c-439a-9a8f-5daf69735fb5",
   "metadata": {},
   "outputs": [
    {
     "data": {
      "text/plain": [
       "'I ate 10 apples. so I was sick for four days'"
      ]
     },
     "execution_count": 37,
     "metadata": {},
     "output_type": "execute_result"
    }
   ],
   "source": [
    "#.4 2개 이상의 값 넣기: %괄호 안에 콤마로 구분\n",
    "number = 10\n",
    "day = \"four\"\n",
    "'I ate %d apples. so I was sick for %s days' %(number, day)"
   ]
  },
  {
   "cell_type": "code",
   "execution_count": 39,
   "id": "69d2ae71-6060-4139-bc01-d48a419894f3",
   "metadata": {},
   "outputs": [
    {
     "data": {
      "text/plain": [
       "'I have 3 apples'"
      ]
     },
     "execution_count": 39,
     "metadata": {},
     "output_type": "execute_result"
    }
   ],
   "source": [
    "# %s 코드\n",
    "'I have %s apples' % 3"
   ]
  },
  {
   "cell_type": "code",
   "execution_count": 40,
   "id": "c39c3b60-a0c9-421c-9f21-687b284ce7b4",
   "metadata": {},
   "outputs": [
    {
     "data": {
      "text/plain": [
       "'rate is 3.224'"
      ]
     },
     "execution_count": 40,
     "metadata": {},
     "output_type": "execute_result"
    }
   ],
   "source": [
    "# %s 코드\n",
    "'rate is %s' % 3.224"
   ]
  },
  {
   "cell_type": "code",
   "execution_count": 41,
   "id": "5ae00130-6d82-40b9-8b6d-65cfb9524475",
   "metadata": {},
   "outputs": [
    {
     "data": {
      "text/plain": [
       "'Error is 98%.'"
      ]
     },
     "execution_count": 41,
     "metadata": {},
     "output_type": "execute_result"
    }
   ],
   "source": [
    "# %%\n",
    "'Error is %d%%.' % 98"
   ]
  },
  {
   "cell_type": "code",
   "execution_count": 43,
   "id": "5cb90331-f0e4-40af-9e18-e612f2df2b3e",
   "metadata": {},
   "outputs": [
    {
     "data": {
      "text/plain": [
       "'        hi'"
      ]
     },
     "execution_count": 43,
     "metadata": {},
     "output_type": "execute_result"
    }
   ],
   "source": [
    "# 정렬과 공백\n",
    "#%10s: 전체 길이가 10개인 문자열 공간에서 대입되는 값을 오른쪽으로 정렬\n",
    "#(나머지는 공백)\n",
    "'%10s' % 'hi'"
   ]
  },
  {
   "cell_type": "code",
   "execution_count": 44,
   "id": "01dae179-ae29-41f2-be08-cf58e75f542f",
   "metadata": {},
   "outputs": [
    {
     "data": {
      "text/plain": [
       "'hi        '"
      ]
     },
     "execution_count": 44,
     "metadata": {},
     "output_type": "execute_result"
    }
   ],
   "source": [
    "#%-10s: 왼쪽 정렬\n",
    "'%-10s' % 'hi'"
   ]
  },
  {
   "cell_type": "code",
   "execution_count": 45,
   "id": "ccb5f2f2-e354-48fc-b21a-6f50a49b556a",
   "metadata": {},
   "outputs": [
    {
     "data": {
      "text/plain": [
       "'3.1423'"
      ]
     },
     "execution_count": 45,
     "metadata": {},
     "output_type": "execute_result"
    }
   ],
   "source": [
    "# 소수점 표현하기\n",
    "#'.': 소수점 포인트. 뒤의 숫자는 소수점 뒤 자릿수\n",
    "'%0.4f' % 3.1423123"
   ]
  },
  {
   "cell_type": "code",
   "execution_count": 46,
   "id": "000bd7aa-264c-4d49-9490-28ac0a7e1be2",
   "metadata": {},
   "outputs": [
    {
     "data": {
      "text/plain": [
       "'    3.1423'"
      ]
     },
     "execution_count": 46,
     "metadata": {},
     "output_type": "execute_result"
    }
   ],
   "source": [
    "# %10.4f : 숫자를 네번째 자리까지만 표시하고 전체 길이가 10개 (오른쪽 정렬)\n",
    "'%10.4f' %3.1423123"
   ]
  },
  {
   "cell_type": "code",
   "execution_count": 47,
   "id": "cd7282a5-c00f-4818-b513-f5ddd8eacb04",
   "metadata": {},
   "outputs": [
    {
     "data": {
      "text/plain": [
       "'I ate 3 apples'"
      ]
     },
     "execution_count": 47,
     "metadata": {},
     "output_type": "execute_result"
    }
   ],
   "source": [
    "# format 함수\n",
    "\n",
    "#1. 숫자 바로 대입하기\n",
    "'I ate {0} apples'.format(3)"
   ]
  },
  {
   "cell_type": "code",
   "execution_count": 48,
   "id": "70b31811-3230-4219-b585-5256278e1af4",
   "metadata": {},
   "outputs": [
    {
     "data": {
      "text/plain": [
       "'I ate five apples'"
      ]
     },
     "execution_count": 48,
     "metadata": {},
     "output_type": "execute_result"
    }
   ],
   "source": [
    "#2. 문자열 바로 대입하기\n",
    "'I ate {0} apples'.format('five')"
   ]
  },
  {
   "cell_type": "code",
   "execution_count": 49,
   "id": "2c2c1813-5e33-4e30-b2a9-27304569f404",
   "metadata": {},
   "outputs": [
    {
     "data": {
      "text/plain": [
       "'I ate 3 apples'"
      ]
     },
     "execution_count": 49,
     "metadata": {},
     "output_type": "execute_result"
    }
   ],
   "source": [
    "#3. 숫자 값을 가진 변수로 대입하기\n",
    "number = 3\n",
    "'I ate {0} apples'.format(number)"
   ]
  },
  {
   "cell_type": "code",
   "execution_count": 51,
   "id": "45218310-07ff-4ed8-8bf5-75d0abac0ad2",
   "metadata": {},
   "outputs": [
    {
     "data": {
      "text/plain": [
       "'I ate 10 apples. so I was sick for four days'"
      ]
     },
     "execution_count": 51,
     "metadata": {},
     "output_type": "execute_result"
    }
   ],
   "source": [
    "#4. 2개 이상의 값 넣기\n",
    "number = 10\n",
    "day = \"four\"\n",
    "'I ate {0} apples. so I was sick for {1} days'.format(number, day)"
   ]
  },
  {
   "cell_type": "code",
   "execution_count": 52,
   "id": "acda38f0-e93a-4b53-a976-14afd6cbabfc",
   "metadata": {},
   "outputs": [
    {
     "data": {
      "text/plain": [
       "'I ate 10 apples. so I was sick for 4 days'"
      ]
     },
     "execution_count": 52,
     "metadata": {},
     "output_type": "execute_result"
    }
   ],
   "source": [
    "#5. 이름으로 넣기\n",
    "'I ate {number} apples. so I was sick for {day} days'.format(number=10, day=4)"
   ]
  },
  {
   "cell_type": "code",
   "execution_count": 53,
   "id": "e3551d18-744b-4b37-81e2-67c820ff9251",
   "metadata": {},
   "outputs": [
    {
     "data": {
      "text/plain": [
       "'I ate 10 apples. so I was sick for 4 days'"
      ]
     },
     "execution_count": 53,
     "metadata": {},
     "output_type": "execute_result"
    }
   ],
   "source": [
    "# 6. 인덱스와 이름을 혼용해서 넣기\n",
    "'I ate {0} apples. so I was sick for {day} days'.format(10, day=4)"
   ]
  },
  {
   "cell_type": "code",
   "execution_count": 54,
   "id": "3aedc204-0a34-42fa-a3f2-6b547ab8b136",
   "metadata": {},
   "outputs": [
    {
     "data": {
      "text/plain": [
       "'hi        '"
      ]
     },
     "execution_count": 54,
     "metadata": {},
     "output_type": "execute_result"
    }
   ],
   "source": [
    "# 왼쪽 정렬\n",
    "'{0:<10}'.format('hi')"
   ]
  },
  {
   "cell_type": "code",
   "execution_count": 55,
   "id": "6cc72953-ae68-4ec7-b7e9-59803167dd2e",
   "metadata": {},
   "outputs": [
    {
     "data": {
      "text/plain": [
       "'        hi'"
      ]
     },
     "execution_count": 55,
     "metadata": {},
     "output_type": "execute_result"
    }
   ],
   "source": [
    "# 오른쪽 정렬\n",
    "'{0:>10}'.format('hi')"
   ]
  },
  {
   "cell_type": "code",
   "execution_count": 56,
   "id": "00422b50-e9d0-4fe2-a2ad-41bc5f7503a1",
   "metadata": {},
   "outputs": [
    {
     "data": {
      "text/plain": [
       "'    hi    '"
      ]
     },
     "execution_count": 56,
     "metadata": {},
     "output_type": "execute_result"
    }
   ],
   "source": [
    "# 가운데 정렬\n",
    "'{0:^10}'.format('hi')"
   ]
  },
  {
   "cell_type": "code",
   "execution_count": 58,
   "id": "a8b88414-f901-4980-8b9e-9fd5df98f162",
   "metadata": {},
   "outputs": [
    {
     "data": {
      "text/plain": [
       "'====hi===='"
      ]
     },
     "execution_count": 58,
     "metadata": {},
     "output_type": "execute_result"
    }
   ],
   "source": [
    "# 공백 채우기\n",
    "'{0:=^10}'.format('hi') # 가운데 정렬 공백은 '='로 채움"
   ]
  },
  {
   "cell_type": "code",
   "execution_count": 59,
   "id": "a70ab220-cea5-461b-a65e-dca3ec537467",
   "metadata": {},
   "outputs": [
    {
     "data": {
      "text/plain": [
       "'hi!!!!!!!!'"
      ]
     },
     "execution_count": 59,
     "metadata": {},
     "output_type": "execute_result"
    }
   ],
   "source": [
    "# 공백 채우기\n",
    "'{0:!<10}'.format('hi') # 왼쪽 정렬 공백은 '!'로 채움"
   ]
  },
  {
   "cell_type": "code",
   "execution_count": 60,
   "id": "340a5535-28af-4a9d-9c01-378b5d657472",
   "metadata": {},
   "outputs": [
    {
     "data": {
      "text/plain": [
       "'3.1231'"
      ]
     },
     "execution_count": 60,
     "metadata": {},
     "output_type": "execute_result"
    }
   ],
   "source": [
    "# 소수점 표현하기\n",
    "y = 3.12312121\n",
    "'{0:0.4f}'.format(y)"
   ]
  },
  {
   "cell_type": "code",
   "execution_count": 61,
   "id": "204d3ff0-62c7-477b-8bfb-19b7ebb90791",
   "metadata": {},
   "outputs": [
    {
     "data": {
      "text/plain": [
       "'    3.1231'"
      ]
     },
     "execution_count": 61,
     "metadata": {},
     "output_type": "execute_result"
    }
   ],
   "source": [
    "# 자릿수를 10으로 맞추기\n",
    "y = 3.12312121\n",
    "'{0:10.4f}'.format(y)"
   ]
  },
  {
   "cell_type": "code",
   "execution_count": 62,
   "id": "f7fdd315-c848-4169-a295-cefbb009d693",
   "metadata": {},
   "outputs": [
    {
     "data": {
      "text/plain": [
       "'{and}'"
      ]
     },
     "execution_count": 62,
     "metadata": {},
     "output_type": "execute_result"
    }
   ],
   "source": [
    "# {또는} 문자 표현하기\n",
    "'{{and}}'.format()"
   ]
  },
  {
   "cell_type": "code",
   "execution_count": 63,
   "id": "6630cd9b-2f9c-4bb1-b53c-022e0944c015",
   "metadata": {},
   "outputs": [
    {
     "data": {
      "text/plain": [
       "'나의 이름은 홍길동 입니다. 나이는 30 입니다.'"
      ]
     },
     "execution_count": 63,
     "metadata": {},
     "output_type": "execute_result"
    }
   ],
   "source": [
    "# f 문자열 포매팅\n",
    "name = '홍길동'\n",
    "age = 30\n",
    "f'나의 이름은 {name} 입니다. 나이는 {age} 입니다.'"
   ]
  },
  {
   "cell_type": "code",
   "execution_count": 64,
   "id": "587240f1-a8db-4ff7-a0f7-ec01de449c58",
   "metadata": {},
   "outputs": [
    {
     "data": {
      "text/plain": [
       "'나는 내년이면 31살이 된다.'"
      ]
     },
     "execution_count": 64,
     "metadata": {},
     "output_type": "execute_result"
    }
   ],
   "source": [
    "# f 문자열 포매팅2\n",
    "age = 30\n",
    "f'나는 내년이면 {age+1}살이 된다.'"
   ]
  },
  {
   "cell_type": "code",
   "execution_count": 68,
   "id": "e55f443d-f128-40fb-a666-b06eb477d40c",
   "metadata": {},
   "outputs": [
    {
     "data": {
      "text/plain": [
       "'나의 이름은 홍길동 입니다. 나이는 30 입니다.'"
      ]
     },
     "execution_count": 68,
     "metadata": {},
     "output_type": "execute_result"
    }
   ],
   "source": [
    "# 딕셔너리 f 문자열 포매팅\n",
    "d = {'name':'홍길동', 'age':30}\n",
    "f'나의 이름은 {d[\"name\"]} 입니다. 나이는 {d[\"age\"]} 입니다.'"
   ]
  },
  {
   "cell_type": "code",
   "execution_count": 69,
   "id": "616dbf9f-7320-4793-a4e1-05f08267ef14",
   "metadata": {},
   "outputs": [
    {
     "data": {
      "text/plain": [
       "'hi        '"
      ]
     },
     "execution_count": 69,
     "metadata": {},
     "output_type": "execute_result"
    }
   ],
   "source": [
    "# 정렬\n",
    "f'{\"hi\":<10}' #왼쪽 정렬"
   ]
  },
  {
   "cell_type": "code",
   "execution_count": 70,
   "id": "ad931820-175f-4739-94e3-82406631382d",
   "metadata": {},
   "outputs": [
    {
     "data": {
      "text/plain": [
       "'        hi'"
      ]
     },
     "execution_count": 70,
     "metadata": {},
     "output_type": "execute_result"
    }
   ],
   "source": [
    "f'{\"hi\":>10}' #오른쪽 정렬"
   ]
  },
  {
   "cell_type": "code",
   "execution_count": 71,
   "id": "428a0ef8-1ed5-44cd-b312-7492c17bb299",
   "metadata": {},
   "outputs": [
    {
     "data": {
      "text/plain": [
       "'    hi    '"
      ]
     },
     "execution_count": 71,
     "metadata": {},
     "output_type": "execute_result"
    }
   ],
   "source": [
    "f'{\"hi\":^10}' #가운데 정렬"
   ]
  },
  {
   "cell_type": "code",
   "execution_count": 73,
   "id": "7d2fe753-7e12-4c9d-9f41-f72c38d8f6ae",
   "metadata": {},
   "outputs": [
    {
     "data": {
      "text/plain": [
       "'====hi===='"
      ]
     },
     "execution_count": 73,
     "metadata": {},
     "output_type": "execute_result"
    }
   ],
   "source": [
    "# 공백 채우기\n",
    "f'{\"hi\":=^10}' #가운데 정렬, 공백은 = 로 채움"
   ]
  },
  {
   "cell_type": "code",
   "execution_count": 74,
   "id": "4780b18c-c646-47e7-bdd0-4df8551d86ea",
   "metadata": {},
   "outputs": [
    {
     "data": {
      "text/plain": [
       "'hi!!!!!!!!'"
      ]
     },
     "execution_count": 74,
     "metadata": {},
     "output_type": "execute_result"
    }
   ],
   "source": [
    "# 공백 채우기\n",
    "f'{\"hi\":!<10}' #왼쪽 정렬, 공백은 ! 로 채움"
   ]
  },
  {
   "cell_type": "code",
   "execution_count": 75,
   "id": "dc3c43ed-9188-4afe-aa01-69e90d09830c",
   "metadata": {},
   "outputs": [
    {
     "data": {
      "text/plain": [
       "'3.1231'"
      ]
     },
     "execution_count": 75,
     "metadata": {},
     "output_type": "execute_result"
    }
   ],
   "source": [
    "# 소수점 표현하기\n",
    "y = 3.12312121\n",
    "f'{y:0.4f}' #소수점 네자리까지만 표현"
   ]
  },
  {
   "cell_type": "code",
   "execution_count": 76,
   "id": "9987c563-7b7a-44f3-a2dc-ffc3a3e8fdf8",
   "metadata": {},
   "outputs": [
    {
     "data": {
      "text/plain": [
       "'    3.1231'"
      ]
     },
     "execution_count": 76,
     "metadata": {},
     "output_type": "execute_result"
    }
   ],
   "source": [
    "# 소수점 표현하기\n",
    "y = 3.12312121\n",
    "f'{y:10.4f}' #소수점 네자리까지 표현하고 총 자릿수는 10자리"
   ]
  },
  {
   "cell_type": "code",
   "execution_count": 78,
   "id": "d10808ab-08fa-4c21-97d7-c0405a0226ea",
   "metadata": {},
   "outputs": [
    {
     "name": "stdout",
     "output_type": "stream",
     "text": [
      "12\n"
     ]
    },
    {
     "data": {
      "text/plain": [
       "'!!!python!!!'"
      ]
     },
     "execution_count": 78,
     "metadata": {},
     "output_type": "execute_result"
    }
   ],
   "source": [
    "# !!!python!!! 출력하기 (format 함수)\n",
    "print(len('!!!python!!!'))\n",
    "f'{\"python\":!^12}'"
   ]
  },
  {
   "cell_type": "code",
   "execution_count": 80,
   "id": "d9bfa935-b4f5-4599-b544-e79d75269e40",
   "metadata": {},
   "outputs": [
    {
     "data": {
      "text/plain": [
       "'!!!python!!!'"
      ]
     },
     "execution_count": 80,
     "metadata": {},
     "output_type": "execute_result"
    }
   ],
   "source": [
    "# !!!python!!! 출력하기 (f 문자열)\n",
    "'{0:!^12}'.format('python')"
   ]
  },
  {
   "cell_type": "code",
   "execution_count": 81,
   "id": "6ea89ae6-29d0-4f34-98c3-d01000853fe8",
   "metadata": {},
   "outputs": [
    {
     "name": "stdout",
     "output_type": "stream",
     "text": [
      "b의 개수-count: 2\n",
      "문자열에서 b가 처음 나온 위치: 14\n",
      "문자열에서 k가 처음 나온 위치: -1\n",
      "t의 위치: 8\n"
     ]
    }
   ],
   "source": [
    "# 문자열 관련 함수\n",
    "\n",
    "# count (갯수)\n",
    "a = 'hobby'\n",
    "print('b의 개수-count:',a.count('b')) #b 의 개수 출력\n",
    "\n",
    "#find (위치)\n",
    "b = \"Python is the best choice\"\n",
    "print('문자열에서 b가 처음 나온 위치:', b.find('b'))\n",
    "print('문자열에서 k가 처음 나온 위치:', b.find('k'))\n",
    "\n",
    "#index(위치 알려주기) #문자가 없으면 에러\n",
    "c = \"Life is too short\"\n",
    "print('t의 위치:', c.index('t'))"
   ]
  },
  {
   "cell_type": "code",
   "execution_count": 85,
   "id": "b48c81a6-44c3-4e86-9566-d840ef800cc3",
   "metadata": {},
   "outputs": [
    {
     "name": "stdout",
     "output_type": "stream",
     "text": [
      "a,b,c,d\n",
      "a,b,c,d\n",
      "HI\n",
      "hi\n",
      "hi   \n",
      "    hi\n",
      "hi\n"
     ]
    }
   ],
   "source": [
    "# 문자열 관련 함수 2\n",
    "\n",
    "# join (문자열 삽입)\n",
    "print(','.join('abcd'))\n",
    "print(','.join(['a', 'b', 'c', 'd']))\n",
    "\n",
    "# upper (소문자 > 대문자)\n",
    "a = \"hi\"\n",
    "print(a.upper())\n",
    "\n",
    "# lower (대문자 > 소문자)\n",
    "b = \"HI\"\n",
    "print(b.lower())\n",
    "\n",
    "#lstrip (왼쪽 공백지우기)\n",
    "c = \"    hi   \"\n",
    "print(c.lstrip())\n",
    "\n",
    "#rstrip (오른쪽 공백 지우기)\n",
    "print(c.rstrip())\n",
    "\n",
    "#strip (양쪽 공백 지우기)\n",
    "print(c.strip())"
   ]
  },
  {
   "cell_type": "code",
   "execution_count": 86,
   "id": "b2fdbe72-114b-4ba1-8cd8-7d5ced915422",
   "metadata": {},
   "outputs": [
    {
     "name": "stdout",
     "output_type": "stream",
     "text": [
      "Your leg is too short\n",
      "['Life', 'is', 'too', 'short']\n",
      "['a', 'b', 'c', 'd']\n"
     ]
    }
   ],
   "source": [
    "# 문자열 관련 함수 3\n",
    "\n",
    "# replace (문자열 바꾸기)\n",
    "a = \"Life is too short\"\n",
    "print(a.replace(\"Life\", \"Your leg\"))\n",
    "\n",
    "# split (문자열 나누기)\n",
    "print(a.split()) # 공백을 기준으로 문자열 나눔\n",
    "\n",
    "b = \"a:b:c:d\"\n",
    "print(b.split(':')) # : 기준으로 문자열 나눔"
   ]
  },
  {
   "cell_type": "code",
   "execution_count": null,
   "id": "62ef49e0-5c53-43b6-ac60-1b731d7dadfa",
   "metadata": {},
   "outputs": [],
   "source": [
    "# 리스트: 대괄호 [ ] 로 감싸주고 쉼표로 구분\n",
    "a = []\n",
    "b = [1, 2, 3]\n",
    "c = ['Life', 'is', 'too', 'short']\n",
    "d = [1, 2, 'Life', 'is']\n",
    "e = [1, 2, ['Life', 'is']]"
   ]
  },
  {
   "cell_type": "code",
   "execution_count": 4,
   "id": "cbec9d2a-d01b-41c2-be81-aeb0212e42fe",
   "metadata": {},
   "outputs": [
    {
     "name": "stdout",
     "output_type": "stream",
     "text": [
      "첫번째 요솟값: 1\n",
      "요솟값 더하기: 4\n",
      "-1은 마지막 요솟값: 3\n",
      "\n",
      "리스트+ 리스트: [1, 2, 3, ['a', 'b', 'c']]\n",
      "첫번째 요솟값: 1\n",
      "마지막 요솟값: ['a', 'b', 'c']\n",
      "네번째 요솟값: ['a', 'b', 'c']\n",
      "리스트 내의 값 꺼내기: a\n",
      "리스트 내의 값 꺼내기: b\n",
      "리스트 내의 값 꺼내기: c\n"
     ]
    }
   ],
   "source": [
    "# 리스트의 인덱싱과 슬라이싱\n",
    "a = [1, 2, 3]\n",
    "\n",
    "print('첫번째 요솟값:', a[0]) # a[0]은 첫번째 요솟값\n",
    "print('요솟값 더하기:', a[0] + a[2]) # 요솟값 더하기\n",
    "print('-1은 마지막 요솟값:', a[-1]) # -1은 마지막 요솟값\n",
    "\n",
    "# 리스트 + 리스트 요소\n",
    "b = [1, 2, 3, ['a', 'b', 'c']]\n",
    "print('\\n리스트+ 리스트:', b)\n",
    "print('첫번째 요솟값:',b[0])\n",
    "print('마지막 요솟값:', b[-1])\n",
    "print('네번째 요솟값:', b[3])\n",
    "\n",
    "print('리스트 내의 값 꺼내기:', b[-1][0])\n",
    "print('리스트 내의 값 꺼내기:', b[-1][1])\n",
    "print('리스트 내의 값 꺼내기:', b[-1][2])"
   ]
  },
  {
   "cell_type": "code",
   "execution_count": 5,
   "id": "3bc413b1-fc0e-470b-b993-032bc010d602",
   "metadata": {},
   "outputs": [
    {
     "name": "stdout",
     "output_type": "stream",
     "text": [
      "Life 문자열만 추출: Life\n"
     ]
    }
   ],
   "source": [
    "# 삼중 리스트에서 인덱싱하기\n",
    "a = [1, 2, ['a', 'b', ['Life', 'is']]]\n",
    "\n",
    "print('Life 문자열만 추출:', a[2][2][0])"
   ]
  },
  {
   "cell_type": "code",
   "execution_count": 6,
   "id": "e0a42d01-242e-4200-8e7f-95729ade1108",
   "metadata": {},
   "outputs": [
    {
     "name": "stdout",
     "output_type": "stream",
     "text": [
      "a의 첫번째부터 두번째: [1, 2]\n",
      "b의 첫번째부터 두번째: 12\n",
      "리스트 슬라이싱과 문자열 슬라이싱의 사용법은 같다.\n"
     ]
    }
   ],
   "source": [
    "# 리스트의 슬라이싱\n",
    "a = [1, 2, 3, 4, 5]\n",
    "print('a의 첫번째부터 두번째:', a[0:2])\n",
    "\n",
    "# 문자열 슬라이싱\n",
    "b = \"12345\"\n",
    "print('b의 첫번째부터 두번째:', b[0:2])\n",
    "\n",
    "print('리스트 슬라이싱과 문자열 슬라이싱의 사용법은 같다.')"
   ]
  },
  {
   "cell_type": "code",
   "execution_count": 7,
   "id": "539c191e-d149-4502-a8a8-1b9938c13d0c",
   "metadata": {},
   "outputs": [
    {
     "data": {
      "text/plain": [
       "[2, 3]"
      ]
     },
     "execution_count": 7,
     "metadata": {},
     "output_type": "execute_result"
    }
   ],
   "source": [
    "# A = [1, 2, 3, 4, 5] 리스트에서 슬라이싱 기법을 사용하여 리스트 [2, 3] 출력\n",
    "A = [1, 2, 3, 4, 5]\n",
    "A[1:3]"
   ]
  },
  {
   "cell_type": "code",
   "execution_count": 8,
   "id": "8969d7d7-b646-4c07-b19d-cc8c55bb73b3",
   "metadata": {},
   "outputs": [
    {
     "name": "stdout",
     "output_type": "stream",
     "text": [
      "a[2:5]: [3, ['a', 'b', 'c'], 4]\n",
      "a[3]: ['a', 'b', 'c']\n",
      "a[3][:2]: ['a', 'b']\n"
     ]
    }
   ],
   "source": [
    "# 중첩된 리스트에서 슬라이싱하기\n",
    "a = [1, 2, 3, ['a', 'b', 'c'], 4, 5]\n",
    "print('a[2:5]:', a[2:5])\n",
    "print('a[3]:', a[3])\n",
    "print('a[3][:2]:', a[3][:2])"
   ]
  },
  {
   "cell_type": "code",
   "execution_count": 9,
   "id": "99833c01-beba-4587-a248-3dabd43b09bf",
   "metadata": {},
   "outputs": [
    {
     "name": "stdout",
     "output_type": "stream",
     "text": [
      "리스트 더하기: [1, 2, 3, 4, 5, 6]\n",
      "리스트 반복하기: [1, 2, 3, 1, 2, 3, 1, 2, 3]\n",
      "리스트 길이구하기: 3\n"
     ]
    }
   ],
   "source": [
    "# 리스트 연산하기\n",
    "\n",
    "# 리스트 더하기\n",
    "a = [1, 2, 3]\n",
    "b = [4, 5, 6]\n",
    "\n",
    "print('리스트 더하기:', a+b)\n",
    "\n",
    "# 리스트 반복하기\n",
    "print('리스트 반복하기:', a *3)\n",
    "\n",
    "# 리스트 길이구하기\n",
    "print('리스트 길이구하기:', len(a))"
   ]
  },
  {
   "cell_type": "code",
   "execution_count": 10,
   "id": "07f80a73-2ef9-45b8-929f-05620311a194",
   "metadata": {},
   "outputs": [
    {
     "data": {
      "text/plain": [
       "'3hi'"
      ]
     },
     "execution_count": 10,
     "metadata": {},
     "output_type": "execute_result"
    }
   ],
   "source": [
    "# 숫자 + 문자 더하기\n",
    "a = [1, 2, 3]\n",
    "# 3hi 출력 시, a[2] + \"hi\" 는 데이터 타입이 다르기 때문에 에러\n",
    "str(a[2]) + \"hi\""
   ]
  },
  {
   "cell_type": "code",
   "execution_count": 11,
   "id": "b86eda02-4f14-47b9-8918-d43428902afa",
   "metadata": {},
   "outputs": [
    {
     "name": "stdout",
     "output_type": "stream",
     "text": [
      "[1, 2, 4]\n"
     ]
    }
   ],
   "source": [
    "# 리스트의 수정과 삭제\n",
    "\n",
    "# 리스트 수정\n",
    "a = [1, 2, 3]\n",
    "a[2] = 4\n",
    "print(a)"
   ]
  },
  {
   "cell_type": "code",
   "execution_count": 12,
   "id": "4dbc37bb-fe57-44f4-b213-eb409e870155",
   "metadata": {},
   "outputs": [
    {
     "name": "stdout",
     "output_type": "stream",
     "text": [
      "[1, 3]\n"
     ]
    }
   ],
   "source": [
    "# 리스트 삭제 (del 함수)\n",
    "a = [1, 2, 3]\n",
    "del a[1]\n",
    "print(a)"
   ]
  },
  {
   "cell_type": "code",
   "execution_count": 13,
   "id": "eea39e0d-d983-41fe-b530-ff2453f03909",
   "metadata": {},
   "outputs": [
    {
     "name": "stdout",
     "output_type": "stream",
     "text": [
      "[1, 2]\n"
     ]
    }
   ],
   "source": [
    "# 요소 여러개 한꺼번에 삭제하기\n",
    "a = [1, 2, 3, 4, 5]\n",
    "del a[2:]\n",
    "print(a)"
   ]
  },
  {
   "cell_type": "code",
   "execution_count": 23,
   "id": "a204b8ee-e00c-40ff-9eec-51714c09976e",
   "metadata": {},
   "outputs": [
    {
     "name": "stdout",
     "output_type": "stream",
     "text": [
      "[1, 2, 3, 4]\n",
      "[1, 2, 3, 4, [5, 6]]\n"
     ]
    }
   ],
   "source": [
    "# 리스트 요소 추가 (append)\n",
    "a = [1, 2, 3]\n",
    "a.append(4)\n",
    "print(a)\n",
    "\n",
    "# 리스트에 리스트 요소 추가\n",
    "b = [1, 2, 3, 4]\n",
    "c = b.append([5, 6])\n",
    "print(b)"
   ]
  },
  {
   "cell_type": "code",
   "execution_count": 22,
   "id": "f149e483-36cb-4632-a39f-774bab5e04ad",
   "metadata": {},
   "outputs": [
    {
     "data": {
      "text/plain": [
       "[1, 2, 4, 5, 8]"
      ]
     },
     "execution_count": 22,
     "metadata": {},
     "output_type": "execute_result"
    }
   ],
   "source": [
    "# 리스트 정렬 (sort)\n",
    "a = [4, 5, 1, 2, 8]\n",
    "a.sort()\n",
    "a"
   ]
  },
  {
   "cell_type": "code",
   "execution_count": 24,
   "id": "b31c789c-4c83-4b30-a859-4238af10de89",
   "metadata": {},
   "outputs": [
    {
     "data": {
      "text/plain": [
       "['a', 'c', 'd', 'h']"
      ]
     },
     "execution_count": 24,
     "metadata": {},
     "output_type": "execute_result"
    }
   ],
   "source": [
    "# 문자 정렬\n",
    "a = ['a', 'h', 'c', 'd']\n",
    "a.sort()\n",
    "a"
   ]
  },
  {
   "cell_type": "code",
   "execution_count": 25,
   "id": "a309ed9c-f256-4a20-98eb-b643bca917d9",
   "metadata": {},
   "outputs": [
    {
     "data": {
      "text/plain": [
       "['d', 'c', 'h', 'a']"
      ]
     },
     "execution_count": 25,
     "metadata": {},
     "output_type": "execute_result"
    }
   ],
   "source": [
    "# 리스트 뒤집기 (reverse)\n",
    "a = ['a', 'h', 'c', 'd']\n",
    "a.reverse()\n",
    "a"
   ]
  },
  {
   "cell_type": "code",
   "execution_count": 30,
   "id": "fffb4207-703f-44c6-8b66-38b39df8c626",
   "metadata": {},
   "outputs": [
    {
     "name": "stdout",
     "output_type": "stream",
     "text": [
      "h의 위치: 1\n",
      "2의 위치: 3\n"
     ]
    }
   ],
   "source": [
    "# 위치 반환 (index)\n",
    "a = ['a', 'h', 'c', 'd']\n",
    "print('h의 위치:', (a.index('h')))\n",
    "\n",
    "b = [4, 5, 1, 2, 8]\n",
    "print('2의 위치:', b.index(2))"
   ]
  },
  {
   "cell_type": "code",
   "execution_count": 32,
   "id": "ea1e614c-a8c3-4cad-9989-b8312cd4a962",
   "metadata": {},
   "outputs": [
    {
     "name": "stdout",
     "output_type": "stream",
     "text": [
      "[1, 2, 4, 3]\n"
     ]
    }
   ],
   "source": [
    "# 리스트에 요소 삽입 (insert)\n",
    "a = [1, 2, 3]\n",
    "a.insert(2, 4) # a[2] 위치에 4 삽입\n",
    "print(a)"
   ]
  },
  {
   "cell_type": "code",
   "execution_count": 33,
   "id": "e3ec012a-5d8e-444d-b80c-c543ce906b51",
   "metadata": {},
   "outputs": [
    {
     "name": "stdout",
     "output_type": "stream",
     "text": [
      "[1, 2, 1, 2, 3]\n"
     ]
    }
   ],
   "source": [
    "# 리스트 요소 제거(remove)\n",
    "a = [1, 2, 3, 1, 2, 3]\n",
    "a.remove(3) #첫번째로 나오는 3 삭제\n",
    "print(a)"
   ]
  },
  {
   "cell_type": "code",
   "execution_count": 35,
   "id": "e7b3c8cc-1b4c-4229-aad9-3564656067ba",
   "metadata": {},
   "outputs": [
    {
     "name": "stdout",
     "output_type": "stream",
     "text": [
      "3\n",
      "[1, 2]\n"
     ]
    }
   ],
   "source": [
    "# 리스트 요소 끄집어내기 (pop)\n",
    "a = [1, 2, 3]\n",
    "print(a.pop())\n",
    "print(a)"
   ]
  },
  {
   "cell_type": "code",
   "execution_count": 36,
   "id": "8ef58de6-8ed6-4f93-ae25-8e5234b4dc2c",
   "metadata": {},
   "outputs": [
    {
     "name": "stdout",
     "output_type": "stream",
     "text": [
      "1\n",
      "[1, 2, 3, 2, 3]\n"
     ]
    }
   ],
   "source": [
    "# pop(x)\n",
    "a = [1, 2, 3, 1, 2, 3]\n",
    "print(a.pop(3))\n",
    "print(a)"
   ]
  },
  {
   "cell_type": "code",
   "execution_count": 37,
   "id": "823b21a5-9f37-48cb-8254-555c52b7b1a2",
   "metadata": {},
   "outputs": [
    {
     "data": {
      "text/plain": [
       "2"
      ]
     },
     "execution_count": 37,
     "metadata": {},
     "output_type": "execute_result"
    }
   ],
   "source": [
    "# 리스트에 포함된 요소 x의 개수 세기(count)\n",
    "a = [1, 2, 3, 1, 2, 3]\n",
    "a.count(3)"
   ]
  },
  {
   "cell_type": "code",
   "execution_count": 42,
   "id": "52d77e38-935d-4021-98ed-081e482cb6ba",
   "metadata": {},
   "outputs": [
    {
     "data": {
      "text/plain": [
       "[1, 2, 3, 4, 5]"
      ]
     },
     "execution_count": 42,
     "metadata": {},
     "output_type": "execute_result"
    }
   ],
   "source": [
    "# 리스트 확장 (extend)\n",
    "a = [1, 2, 3]\n",
    "a.extend([4, 5])\n",
    "a"
   ]
  },
  {
   "cell_type": "code",
   "execution_count": 45,
   "id": "51b8b634-9860-4969-8ab7-8afa5c4a4cab",
   "metadata": {},
   "outputs": [
    {
     "data": {
      "text/plain": [
       "[1, 2, 3, 6, 7]"
      ]
     },
     "execution_count": 45,
     "metadata": {},
     "output_type": "execute_result"
    }
   ],
   "source": [
    "a = [1, 2, 3]\n",
    "b = [6, 7]\n",
    "a.extend(b)\n",
    "a"
   ]
  },
  {
   "cell_type": "code",
   "execution_count": 46,
   "id": "4c7d576c-c942-42b3-8e14-11f33e41fe1f",
   "metadata": {},
   "outputs": [
    {
     "data": {
      "text/plain": [
       "[1, 2, 3, 4, 5]"
      ]
     },
     "execution_count": 46,
     "metadata": {},
     "output_type": "execute_result"
    }
   ],
   "source": [
    "a = [1, 2, 3]\n",
    "a += [4, 5]\n",
    "a"
   ]
  },
  {
   "cell_type": "code",
   "execution_count": null,
   "id": "70ee9f73-8a59-433a-be76-23b9d7b76cf5",
   "metadata": {},
   "outputs": [],
   "source": [
    "# 튜플\n",
    "t1 = ()\n",
    "t2 = (1, )\n",
    "t3 = (1, 2, 3)\n",
    "t4 = 1, 2, 3\n",
    "t5 = ('a', 'b', ('ab', 'cd'))"
   ]
  },
  {
   "cell_type": "code",
   "execution_count": 47,
   "id": "44bb92a5-697b-44b5-aaa0-4a61adaf25c5",
   "metadata": {},
   "outputs": [
    {
     "name": "stdout",
     "output_type": "stream",
     "text": [
      "1\n",
      "b\n"
     ]
    }
   ],
   "source": [
    "# 튜플 인덱싱 하기\n",
    "t1 = (1, 2, 'a', 'b')\n",
    "print(t1[0])\n",
    "print(t1[3])"
   ]
  },
  {
   "cell_type": "code",
   "execution_count": 48,
   "id": "da27cb44-44dc-4ca0-a3ec-1b5bc6cd4f48",
   "metadata": {},
   "outputs": [
    {
     "name": "stdout",
     "output_type": "stream",
     "text": [
      "1부터 끝까지: (2, 'a', 'b')\n"
     ]
    }
   ],
   "source": [
    "# 튜플 슬라이싱 하기\n",
    "t1 = (1, 2, 'a', 'b')\n",
    "print('1부터 끝까지:', t1[1:])"
   ]
  },
  {
   "cell_type": "code",
   "execution_count": 49,
   "id": "3a01ceda-60b2-4980-aa22-55c2ce9a30d4",
   "metadata": {},
   "outputs": [
    {
     "name": "stdout",
     "output_type": "stream",
     "text": [
      "(1, 2, 'a', 'b', 3, 4)\n",
      "(3, 4, 3, 4)\n",
      "4\n"
     ]
    }
   ],
   "source": [
    "# 튜플 더하기\n",
    "t1 = (1, 2, 'a', 'b')\n",
    "t2 = (3, 4)\n",
    "\n",
    "print(t1 + t2)\n",
    "\n",
    "# 튜플 곱하기\n",
    "print(t2 * 2)\n",
    "\n",
    "# 튜플 길이구하기\n",
    "print(len(t1))"
   ]
  },
  {
   "cell_type": "code",
   "execution_count": 50,
   "id": "a09f3f35-b334-4e29-8ae8-c1689f237c51",
   "metadata": {},
   "outputs": [
    {
     "data": {
      "text/plain": [
       "(1, 2, 3, 4)"
      ]
     },
     "execution_count": 50,
     "metadata": {},
     "output_type": "execute_result"
    }
   ],
   "source": [
    "# (1, 2, 3) 이라는 튜플에 값 4를 추가하기﻿\n",
    "a = (1, 2, 3)\n",
    "a + (4,)"
   ]
  },
  {
   "cell_type": "code",
   "execution_count": null,
   "id": "4dc2a5ef-3f45-4530-9bf3-37983b0a12bf",
   "metadata": {},
   "outputs": [],
   "source": [
    "# 딕셔너리\n",
    "a = {1: 'hi'}\n",
    "\n",
    "# 딕셔너리 Value에는 리스트도 넣을 수 있다.\n",
    "b = {'a': [1, 2, 3]}"
   ]
  },
  {
   "cell_type": "code",
   "execution_count": 3,
   "id": "21ebd9b6-be2a-492c-8b26-0da0789113e1",
   "metadata": {},
   "outputs": [
    {
     "name": "stdout",
     "output_type": "stream",
     "text": [
      "{1: 'a', 2: 'b', 'name': 'Smith', 3: [1, 2, 3]}\n"
     ]
    }
   ],
   "source": [
    "# 딕셔너리 쌍 추가하기\n",
    "a = {1: 'a'}\n",
    "a[2] = 'b' #{2:b} 추가\n",
    "a['name'] = 'Smith' #{name:smith} 추가\n",
    "a[3] = [1, 2, 3] # 리스트 형 추가\n",
    "print(a)"
   ]
  },
  {
   "cell_type": "code",
   "execution_count": 4,
   "id": "9836e15a-a3df-431e-99a0-c1ec83b3fa8a",
   "metadata": {},
   "outputs": [
    {
     "name": "stdout",
     "output_type": "stream",
     "text": [
      "{2: 'b', 'name': 'Smith', 3: [1, 2, 3]}\n"
     ]
    }
   ],
   "source": [
    "# 딕셔너리 쌍 삭제하기\n",
    "a = {1: 'a', 2: 'b', 'name': 'Smith', 3: [1, 2, 3]}\n",
    "del a[1]\n",
    "print(a)"
   ]
  },
  {
   "cell_type": "code",
   "execution_count": 6,
   "id": "fa6b810c-b5dc-4ad2-aa38-286089f997a1",
   "metadata": {},
   "outputs": [
    {
     "name": "stdout",
     "output_type": "stream",
     "text": [
      "John의 grade: 10\n",
      "Smith의 grade: 99\n",
      "a\n",
      "b\n",
      "1\n",
      "2\n",
      "name의 Key: John\n",
      "tel의 Key: 021231234\n",
      "birth의 Key: 0101\n"
     ]
    }
   ],
   "source": [
    "# 딕셔너리를 사용하는 방법\n",
    "\n",
    "#딕셔너리에서 Key 사용해 Value 얻기\n",
    "grade = {'John': 10, 'Smith': 99}\n",
    "print('John의 grade:', grade['John'])\n",
    "print('Smith의 grade:',grade['Smith'])\n",
    "\n",
    "# 딕셔너리에는 인덱싱 방법을 적용할 수 없다.\n",
    "a = {1:'a', 2:'b'}\n",
    "print(a[1]) # 두 번째 위치가 아닌 Key 1을 의미\n",
    "print(a[2]) # 세 번째 위치가 아닌 Key 2를 의미\n",
    "\n",
    "b = {'a':1, 'b':2}\n",
    "print(b['a'])\n",
    "print(b['b'])\n",
    "\n",
    "# Key 사용해 Value 얻기\n",
    "dic = {'name':'John', 'tel':'021231234', 'birth':'0101'}\n",
    "print('name의 Key:', dic['name'])\n",
    "print('tel의 Key:', dic['tel'])\n",
    "print('birth의 Key:', dic['birth'])"
   ]
  },
  {
   "cell_type": "code",
   "execution_count": 10,
   "id": "7a470752-65ad-4646-aac8-5b0a7f83fb3b",
   "metadata": {},
   "outputs": [
    {
     "name": "stdout",
     "output_type": "stream",
     "text": [
      "{1: 'b'}\n",
      "hi\n"
     ]
    }
   ],
   "source": [
    "# 딕셔너리 주의 사항\n",
    "\n",
    "# Key 값이 중복되면 안 된다.\n",
    "a = {1:'a', 1:'b'}\n",
    "print(a)\n",
    "\n",
    "# Key 값에 리스트는 사용할 수 없다.\n",
    "# b = {[1, 2]:'hi'}\n",
    "\n",
    "# 튜플은 사용가능\n",
    "b = {(1, 2):'hi'}\n",
    "print((b[(1, 2)]))"
   ]
  },
  {
   "cell_type": "code",
   "execution_count": 12,
   "id": "af5e2a1a-bd3e-4ee3-8635-f00994d0b8ea",
   "metadata": {},
   "outputs": [
    {
     "name": "stdout",
     "output_type": "stream",
     "text": [
      "a의 Key 리스트: dict_keys(['name', 'tel', 'birth'])\n",
      "name\n",
      "tel\n",
      "birth\n",
      "['name', 'tel', 'birth']\n"
     ]
    }
   ],
   "source": [
    "# 딕셔너리 관련 함수\n",
    "\n",
    "#1.Keys\n",
    "a = {'name':'John', 'tel':'021231234', 'birth':'0101'}\n",
    "print('a의 Key 리스트:', a.keys())\n",
    "\n",
    "for k in a.keys():\n",
    "    print(k)\n",
    "\n",
    "#dict_key 객체로 반환하기\n",
    "print(list(a.keys()))"
   ]
  },
  {
   "cell_type": "code",
   "execution_count": 13,
   "id": "2fbedcc3-32cb-41d1-a765-e939e7dee307",
   "metadata": {},
   "outputs": [
    {
     "name": "stdout",
     "output_type": "stream",
     "text": [
      "dict_values(['John', '021231234', '0101'])\n",
      "John\n",
      "021231234\n",
      "0101\n",
      "['John', '021231234', '0101']\n"
     ]
    }
   ],
   "source": [
    "#2. values\n",
    "a = {'name':'John', 'tel':'021231234', 'birth':'0101'}\n",
    "print(a.values())\n",
    "\n",
    "for v in a.values():\n",
    "    print(v)\n",
    "\n",
    "print(list(a.values()))"
   ]
  },
  {
   "cell_type": "code",
   "execution_count": 14,
   "id": "503c6f95-3db2-407a-ba0c-42d681a9542c",
   "metadata": {},
   "outputs": [
    {
     "name": "stdout",
     "output_type": "stream",
     "text": [
      "dict_items([('name', 'John'), ('tel', '021231234'), ('birth', '0101')])\n"
     ]
    }
   ],
   "source": [
    "#3. items\n",
    "a = {'name':'John', 'tel':'021231234', 'birth':'0101'}\n",
    "\n",
    "print(a.items())"
   ]
  },
  {
   "cell_type": "code",
   "execution_count": 15,
   "id": "daab9c2f-eb81-4e14-9f23-d2efef74ff9a",
   "metadata": {},
   "outputs": [
    {
     "name": "stdout",
     "output_type": "stream",
     "text": [
      "{}\n"
     ]
    }
   ],
   "source": [
    "#4. clear\n",
    "a = {'name':'John', 'tel':'021231234', 'birth':'0101'}\n",
    "a.clear()\n",
    "print(a)"
   ]
  },
  {
   "cell_type": "code",
   "execution_count": 20,
   "id": "bf86f644-2f07-47f6-a3b0-4462b00e4f0e",
   "metadata": {},
   "outputs": [
    {
     "name": "stdout",
     "output_type": "stream",
     "text": [
      "a의 name: John\n",
      "a의 tel: 021231234\n",
      "a의 blood type: None\n",
      "디폴트 반환: default\n"
     ]
    }
   ],
   "source": [
    "#5. get\n",
    "a = {'name':'John', 'tel':'021231234', 'birth':'0101'}\n",
    "\n",
    "print('a의 name:', a.get('name'))\n",
    "print('a의 tel:', a.get('tel'))\n",
    "\n",
    "#Key 값이 없을 경우 none 리턴\n",
    "print('a의 blood type:', a.get('bloodtype'))\n",
    "\n",
    "# print(a['bloodtype']) 은 에러 발생\n",
    "\n",
    "# 찾으려는 key 값이 없을 경우 디폴트 값 반환\n",
    "print('디폴트 반환:', a.get('food', 'default'))"
   ]
  },
  {
   "cell_type": "code",
   "execution_count": 21,
   "id": "3a3fbc76-3221-43ac-b9ee-9b3b28e36125",
   "metadata": {},
   "outputs": [
    {
     "name": "stdout",
     "output_type": "stream",
     "text": [
      "name이 있나요? True\n",
      "blood type이 있나요? False\n"
     ]
    }
   ],
   "source": [
    "#6. in\n",
    "a = {'name':'John', 'tel':'021231234', 'birth':'0101'}\n",
    "\n",
    "print('name이 있나요?', 'name' in a)\n",
    "print('blood type이 있나요?', 'bloodtype' in a)"
   ]
  },
  {
   "cell_type": "code",
   "execution_count": 22,
   "id": "35671068-ed3c-4ab3-a3f0-3f00d2eeb988",
   "metadata": {},
   "outputs": [
    {
     "name": "stdout",
     "output_type": "stream",
     "text": [
      "{1, 2, 3}\n",
      "{'H', 'e', 'l', 'o'}\n",
      "set()\n"
     ]
    }
   ],
   "source": [
    "# 집합 자료형\n",
    "s1 = set([1, 2, 3])\n",
    "print(s1)\n",
    "\n",
    "# 문자열도 가능\n",
    "s2 = set(\"Hello\")\n",
    "print(s2)\n",
    "\n",
    "# 비어있는 자료형\n",
    "s3 = set()\n",
    "print(s3)"
   ]
  },
  {
   "cell_type": "code",
   "execution_count": 23,
   "id": "1d4899bc-f0ef-48cd-b24f-cb2bd5f98437",
   "metadata": {},
   "outputs": [
    {
     "name": "stdout",
     "output_type": "stream",
     "text": [
      "[1, 2, 3]\n",
      "1\n",
      "(4, 5, 6)\n",
      "4\n"
     ]
    }
   ],
   "source": [
    "# 집합 자료형의 인덱싱 수행\n",
    "# 리스트나 튜플로 변환한 후 수행\n",
    "s1 = set([1, 2, 3])\n",
    "l1 = list(s1) #리스트로 변환\n",
    "print(l1)\n",
    "print(l1[0])\n",
    "\n",
    "s2 = set([4, 5, 6])\n",
    "t1 = tuple(s2) #튜플로 변환\n",
    "print(t1)\n",
    "print(t1[0])"
   ]
  },
  {
   "cell_type": "code",
   "execution_count": 25,
   "id": "26fdf9e5-8a4a-42e5-b3ca-641e634db163",
   "metadata": {},
   "outputs": [
    {
     "name": "stdout",
     "output_type": "stream",
     "text": [
      "교집합: {4, 5, 6}\n",
      "교집합: {4, 5, 6}\n",
      "합집합: {1, 2, 3, 4, 5, 6, 7, 8, 9}\n",
      "합집합: {1, 2, 3, 4, 5, 6, 7, 8, 9}\n",
      "차집합: {1, 2, 3}\n",
      "차집합: {1, 2, 3}\n",
      "차집합: {8, 9, 7}\n",
      "차집합: {8, 9, 7}\n"
     ]
    }
   ],
   "source": [
    "# 교집합, 합집합, 차집합\n",
    "s1 = set([1, 2, 3, 4, 5, 6])\n",
    "s2 = set([4, 5, 6, 7, 8, 9])\n",
    "\n",
    "#교집합 (& 기호 또는 intersection 함수)\n",
    "print('교집합:', s1 & s2)\n",
    "print('교집합:', s1.intersection(s2))\n",
    "\n",
    "# 합집합 ( | 기호 또는 union 함수)\n",
    "print('합집합:', s1 | s2) #중복된 수는 한 개씩만 표현\n",
    "print('합집합:', s1.union(s2))\n",
    "\n",
    "# 차집합 (- 기호 또는 difference 함수)\n",
    "print('차집합:', s1 - s2)\n",
    "print('차집합:', s1.difference(s2))\n",
    "print('차집합:', s2 - s1)\n",
    "print('차집합:', s2.difference(s1))"
   ]
  },
  {
   "cell_type": "code",
   "execution_count": 26,
   "id": "f7679182-a620-4f6f-b528-0d6fd852b3c0",
   "metadata": {},
   "outputs": [
    {
     "name": "stdout",
     "output_type": "stream",
     "text": [
      "{1, 2, 3, 4}\n",
      "{4, 5, 6, 7, 8, 9}\n"
     ]
    }
   ],
   "source": [
    "# 집합 자료형 관련 함수\n",
    "\n",
    "#1. add\n",
    "s1 = set([1, 2, 3])\n",
    "s1.add(4)\n",
    "print(s1)\n",
    "\n",
    "#2. update\n",
    "s2 = set([4, 5, 6])\n",
    "s2.update([7, 8, 9])\n",
    "print(s2)"
   ]
  },
  {
   "cell_type": "code",
   "execution_count": 29,
   "id": "230cb42a-a69a-4cfd-91ae-ead1c345346d",
   "metadata": {},
   "outputs": [
    {
     "name": "stdout",
     "output_type": "stream",
     "text": [
      "{5, 6, 7, 8, 9}\n"
     ]
    }
   ],
   "source": [
    "#3. remove\n",
    "s1 = set([4, 5, 6, 7, 8, 9])\n",
    "s1.remove(4)\n",
    "print(s1)"
   ]
  },
  {
   "cell_type": "code",
   "execution_count": 30,
   "id": "d728cf51-18d2-4290-a96c-82b8070695a8",
   "metadata": {},
   "outputs": [
    {
     "name": "stdout",
     "output_type": "stream",
     "text": [
      "a타입: <class 'bool'>\n",
      "b타입: <class 'bool'>\n",
      "1 == 1: True\n",
      "2 > 1: True\n",
      "2 < 1: False\n"
     ]
    }
   ],
   "source": [
    "# 불 자료형\n",
    "a = True\n",
    "b = False\n",
    "\n",
    "print('a타입:', type(a))\n",
    "print('b타입:', type(b))\n",
    "\n",
    "# 불 자료형은 조건문의 반환값으로도 사용\n",
    "print('1 == 1:', 1 == 1)\n",
    "print('2 > 1:', 2 > 1)\n",
    "print('2 < 1:', 2 < 1)"
   ]
  },
  {
   "cell_type": "code",
   "execution_count": 32,
   "id": "ec5c1e14-369e-40ee-a4de-feac7d1ce1b5",
   "metadata": {},
   "outputs": [
    {
     "name": "stdout",
     "output_type": "stream",
     "text": [
      "[]\n"
     ]
    }
   ],
   "source": [
    "# 참과 거짓의 예\n",
    "a = [1, 2, 3, 4]\n",
    "while a: #a가 참인 동안\n",
    "    a.pop() #리스트의 요소를 하나씩 꺼낸다\n",
    "print(a)"
   ]
  },
  {
   "cell_type": "code",
   "execution_count": 33,
   "id": "12ef164c-7326-47b2-be39-a2cd2594d2bd",
   "metadata": {},
   "outputs": [
    {
     "name": "stdout",
     "output_type": "stream",
     "text": [
      "거짓\n"
     ]
    }
   ],
   "source": [
    "# 참과 거짓의 예 (if 문)\n",
    "if []: #만약 []가 참이면\n",
    "    print(\"참\")\n",
    "else: #만약 []가 거짓이면\n",
    "    print(\"거짓\")"
   ]
  },
  {
   "cell_type": "code",
   "execution_count": 34,
   "id": "0bea4f03-043c-4d77-a85b-0c54ba867b6e",
   "metadata": {},
   "outputs": [
    {
     "name": "stdout",
     "output_type": "stream",
     "text": [
      "참\n"
     ]
    }
   ],
   "source": [
    "# 참과 거짓의 예 (if 문)\n",
    "if [1, 2, 3]:\n",
    "    print(\"참\")\n",
    "else:\n",
    "    print(\"거짓\")"
   ]
  },
  {
   "cell_type": "code",
   "execution_count": 35,
   "id": "770d6f6b-4289-421d-810f-a2abde578359",
   "metadata": {},
   "outputs": [
    {
     "name": "stdout",
     "output_type": "stream",
     "text": [
      "True\n",
      "False\n",
      "True\n",
      "False\n",
      "False\n",
      "True\n"
     ]
    }
   ],
   "source": [
    "# bool 내장함수\n",
    "print(bool('python'))\n",
    "print(bool(''))\n",
    "print(bool([1, 2, 3]))\n",
    "print(bool([]))\n",
    "print(bool(0))\n",
    "print(bool(3))"
   ]
  },
  {
   "cell_type": "code",
   "execution_count": 36,
   "id": "adb4d740-3482-4798-95d5-a8216defcd06",
   "metadata": {},
   "outputs": [
    {
     "data": {
      "text/plain": [
       "3038147299264"
      ]
     },
     "execution_count": 36,
     "metadata": {},
     "output_type": "execute_result"
    }
   ],
   "source": [
    "# 변수 - id 함수\n",
    "a = [1, 2, 3]\n",
    "id(a)"
   ]
  },
  {
   "cell_type": "code",
   "execution_count": 37,
   "id": "f4e9bf0a-d68b-4681-8be5-0cc3b019dac3",
   "metadata": {},
   "outputs": [
    {
     "name": "stdout",
     "output_type": "stream",
     "text": [
      "a의 주소: 3038147306688\n",
      "b의 주소: 3038147306688\n",
      "a와 b는 같나?: True\n"
     ]
    }
   ],
   "source": [
    "# 변수 복사\n",
    "a = [1, 2, 3]\n",
    "b = a\n",
    "\n",
    "print('a의 주소:', id(a))\n",
    "print('b의 주소:', id(b))\n",
    "\n",
    "\n",
    "print('a와 b는 같나?:', a is b)"
   ]
  },
  {
   "cell_type": "code",
   "execution_count": 38,
   "id": "e5c99799-6ef0-4a3e-9a92-a0406cdde3c6",
   "metadata": {},
   "outputs": [
    {
     "name": "stdout",
     "output_type": "stream",
     "text": [
      "[1, 4, 3]\n",
      "[1, 4, 3]\n"
     ]
    }
   ],
   "source": [
    "# 변수 복사 2\n",
    "a = [1, 2, 3]\n",
    "b = a\n",
    "\n",
    "a[1] = 4\n",
    "print(a)\n",
    "print(b)"
   ]
  },
  {
   "cell_type": "code",
   "execution_count": 39,
   "id": "400a4c72-e98b-4780-856e-0fc276b5e620",
   "metadata": {},
   "outputs": [
    {
     "name": "stdout",
     "output_type": "stream",
     "text": [
      "[1, 4, 3]\n",
      "[1, 2, 3]\n"
     ]
    }
   ],
   "source": [
    "a = [1, 2, 3]\n",
    "b = a[:] # 리스트 a의 처음 요소부터 끝까지 슬라이싱\n",
    "\n",
    "a[1] = 4 #a 변수의 2번째 값 4로 변환\n",
    "\n",
    "print(a)\n",
    "print(b)"
   ]
  },
  {
   "cell_type": "code",
   "execution_count": 40,
   "id": "9f7d9d21-8d28-429c-b3f5-6273067cbdbe",
   "metadata": {},
   "outputs": [
    {
     "name": "stdout",
     "output_type": "stream",
     "text": [
      "[1, 2, 3]\n",
      "[1, 2, 3]\n",
      "a와 b는 같나?: False\n"
     ]
    }
   ],
   "source": [
    "# copy 모듈\n",
    "from copy import copy\n",
    "a = [1, 2, 3]\n",
    "b = copy(a)\n",
    "\n",
    "print(a)\n",
    "print(b)\n",
    "print('a와 b는 같나?:', a is b)"
   ]
  },
  {
   "cell_type": "code",
   "execution_count": 43,
   "id": "859cd3e4-b7b0-4837-9507-ab9434725364",
   "metadata": {},
   "outputs": [
    {
     "name": "stdout",
     "output_type": "stream",
     "text": [
      "('python', 'life')\n",
      "python life\n"
     ]
    }
   ],
   "source": [
    "# 변수 만드는 방법\n",
    "#1. 튜플로 a, b에 값 대입\n",
    "a, b = ('python', 'life')\n",
    "print((a, b))\n",
    "\n",
    "#튜플은 괄호 생략 가능\n",
    "print(a,b)"
   ]
  },
  {
   "cell_type": "code",
   "execution_count": 44,
   "id": "38d7e684-3b14-450d-ae68-ef9da1c553b6",
   "metadata": {},
   "outputs": [
    {
     "name": "stdout",
     "output_type": "stream",
     "text": [
      "['python', 'life']\n"
     ]
    }
   ],
   "source": [
    "#2. 리스트로 변수 만들기\n",
    "[a, b] = ['python', 'life']\n",
    "print([a, b])"
   ]
  },
  {
   "cell_type": "code",
   "execution_count": 45,
   "id": "4d70ce52-b173-4cea-824f-00137eab62e8",
   "metadata": {},
   "outputs": [
    {
     "name": "stdout",
     "output_type": "stream",
     "text": [
      "python\n",
      "python\n"
     ]
    }
   ],
   "source": [
    "# 3. 여러 개의 변수에 같은 값 대입하기\n",
    "a = b = 'python'\n",
    "print(a)\n",
    "print(b)"
   ]
  },
  {
   "cell_type": "code",
   "execution_count": 46,
   "id": "7fe2a4e6-56db-44f5-8a0d-b2e7478570e0",
   "metadata": {},
   "outputs": [
    {
     "name": "stdout",
     "output_type": "stream",
     "text": [
      "5\n",
      "3\n"
     ]
    }
   ],
   "source": [
    "# 변수의 값 간단히 바꾸기\n",
    "a = 3\n",
    "b = 5\n",
    "a, b = b, a #a와 b의 값을 바꿈\n",
    "print(a)\n",
    "print(b)"
   ]
  },
  {
   "cell_type": "code",
   "execution_count": null,
   "id": "3128fb8d-3e70-4362-b3a6-7aef310ee90b",
   "metadata": {},
   "outputs": [],
   "source": []
  }
 ],
 "metadata": {
  "kernelspec": {
   "display_name": "Python 3 (ipykernel)",
   "language": "python",
   "name": "python3"
  },
  "language_info": {
   "codemirror_mode": {
    "name": "ipython",
    "version": 3
   },
   "file_extension": ".py",
   "mimetype": "text/x-python",
   "name": "python",
   "nbconvert_exporter": "python",
   "pygments_lexer": "ipython3",
   "version": "3.11.7"
  }
 },
 "nbformat": 4,
 "nbformat_minor": 5
}
