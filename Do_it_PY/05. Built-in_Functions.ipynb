{
 "cells": [
  {
   "cell_type": "code",
   "execution_count": null,
   "id": "7f911b47-4ed5-445d-8fe2-5dae25ef6648",
   "metadata": {},
   "outputs": [],
   "source": [
    "#내장 함수 종류 (빈도 높은 거 위주, abc 순)"
   ]
  },
  {
   "cell_type": "code",
   "execution_count": 1,
   "id": "87d227ff-045e-4044-99f5-d42dbd9108fc",
   "metadata": {},
   "outputs": [
    {
     "name": "stdout",
     "output_type": "stream",
     "text": [
      "a의 절댓값은: 3\n",
      "b의 절댓값은: 3\n",
      "c의 절댓값은: 1.2\n"
     ]
    }
   ],
   "source": [
    "#abs: 절댓값\n",
    "a = abs(3)\n",
    "b = abs(-3)\n",
    "c = abs(-1.2)\n",
    "print('a의 절댓값은:', a)\n",
    "print('b의 절댓값은:', b)\n",
    "print('c의 절댓값은:', c)"
   ]
  },
  {
   "cell_type": "code",
   "execution_count": 2,
   "id": "aa7ee59b-4b86-46ac-8025-be3e110f5342",
   "metadata": {},
   "outputs": [
    {
     "name": "stdout",
     "output_type": "stream",
     "text": [
      "모든 요소가 참인가: True\n",
      "모든 요소가 참인가: False\n"
     ]
    }
   ],
   "source": [
    "# all: 반복 가능한 자료형 x를 입력 인수로 받으며 이 x가 모두 참이면 True,\n",
    "# 거짓이 하나라도 있으면 False 반환\n",
    "a = all([1, 2, 3])\n",
    "b = all([1, 2, 3, 0])\n",
    "\n",
    "print('모든 요소가 참인가:', a)\n",
    "print('모든 요소가 참인가:', b)"
   ]
  },
  {
   "cell_type": "code",
   "execution_count": 3,
   "id": "59c287d8-47dd-41d3-a6b8-1338855041bc",
   "metadata": {},
   "outputs": [
    {
     "name": "stdout",
     "output_type": "stream",
     "text": [
      "True\n",
      "False\n"
     ]
    }
   ],
   "source": [
    "# any: 하나라도 참이면 True, 모두 거짓일 때만 False\n",
    "a = any([1, 2, 3, 0])\n",
    "b = any([0, \"\"])\n",
    "\n",
    "print(a)\n",
    "print(b)"
   ]
  },
  {
   "cell_type": "code",
   "execution_count": 7,
   "id": "fe3532d4-b2ba-47ce-ac77-f6f4e62ecf80",
   "metadata": {},
   "outputs": [
    {
     "name": "stdout",
     "output_type": "stream",
     "text": [
      "a\n",
      "0\n",
      ":\n"
     ]
    }
   ],
   "source": [
    "# chr: 아스키 코드 출력\n",
    "print(chr(97))\n",
    "print(chr(48))\n",
    "print(chr(58))"
   ]
  },
  {
   "cell_type": "code",
   "execution_count": 8,
   "id": "e5025e07-60da-4020-b41d-ac2f4ea2f820",
   "metadata": {},
   "outputs": [
    {
     "name": "stdout",
     "output_type": "stream",
     "text": [
      "['__add__', '__class__', '__class_getitem__', '__contains__', '__delattr__', '__delitem__', '__dir__', '__doc__', '__eq__', '__format__', '__ge__', '__getattribute__', '__getitem__', '__getstate__', '__gt__', '__hash__', '__iadd__', '__imul__', '__init__', '__init_subclass__', '__iter__', '__le__', '__len__', '__lt__', '__mul__', '__ne__', '__new__', '__reduce__', '__reduce_ex__', '__repr__', '__reversed__', '__rmul__', '__setattr__', '__setitem__', '__sizeof__', '__str__', '__subclasshook__', 'append', 'clear', 'copy', 'count', 'extend', 'index', 'insert', 'pop', 'remove', 'reverse', 'sort']\n",
      "['__class__', '__class_getitem__', '__contains__', '__delattr__', '__delitem__', '__dir__', '__doc__', '__eq__', '__format__', '__ge__', '__getattribute__', '__getitem__', '__getstate__', '__gt__', '__hash__', '__init__', '__init_subclass__', '__ior__', '__iter__', '__le__', '__len__', '__lt__', '__ne__', '__new__', '__or__', '__reduce__', '__reduce_ex__', '__repr__', '__reversed__', '__ror__', '__setattr__', '__setitem__', '__sizeof__', '__str__', '__subclasshook__', 'clear', 'copy', 'fromkeys', 'get', 'items', 'keys', 'pop', 'popitem', 'setdefault', 'update', 'values']\n"
     ]
    }
   ],
   "source": [
    "# dir: 객체가 자체적으로 가지고 있는 변수나 함수 출력\n",
    "print(dir([1, 2, 3]))\n",
    "print(dir({'1':'a'}))"
   ]
  },
  {
   "cell_type": "code",
   "execution_count": 10,
   "id": "6b4bedca-632c-4180-95a4-915ea5db8ba3",
   "metadata": {},
   "outputs": [
    {
     "name": "stdout",
     "output_type": "stream",
     "text": [
      "7나누기 3: (2, 1)\n",
      "10나누기 4: (2, 2)\n",
      "7나누기 3의 몫: 2\n",
      "7나누기 3의 나머지: 1\n",
      "10나누기 4의 몫: 2\n",
      "10나누기 4의 나머지: 2\n"
     ]
    }
   ],
   "source": [
    "# divmod(a,b)는 2개의 숫자를 입력으로 받고 a를 b로 나눈 몫과 나머지를 튜플 형태로 출력\n",
    "print('7나누기 3:', divmod(7, 3))\n",
    "print('10나누기 4:', divmod(10, 4))\n",
    "\n",
    "print('7나누기 3의 몫:', 7//3)\n",
    "print('7나누기 3의 나머지:', 7%3)\n",
    "\n",
    "print('10나누기 4의 몫:', 10//4)\n",
    "print('10나누기 4의 나머지:', 10%4)"
   ]
  },
  {
   "cell_type": "code",
   "execution_count": 11,
   "id": "6bb158e8-94f2-4883-90f0-896314dfb0bb",
   "metadata": {},
   "outputs": [
    {
     "name": "stdout",
     "output_type": "stream",
     "text": [
      "0 body\n",
      "1 foo\n",
      "2 bar\n"
     ]
    }
   ],
   "source": [
    "# enumerate: 순서가 있는 자료형(리스트, 튜플, 문자열)을 입력으로 받아\n",
    "# 인덱스 값을 포함하는 enumerate 객체 반환\n",
    "\n",
    "for i, name in enumerate(['body', 'foo', 'bar']):\n",
    "    print(i, name)"
   ]
  },
  {
   "cell_type": "code",
   "execution_count": 13,
   "id": "7b78e91d-fc95-4b91-bf2f-d303d4f8d97b",
   "metadata": {},
   "outputs": [
    {
     "name": "stdout",
     "output_type": "stream",
     "text": [
      "3\n",
      "hia\n",
      "(1, 1)\n"
     ]
    }
   ],
   "source": [
    "# eval(expression)은 실행 가능한 문자열을 입력으로 받아 문자열을 실행한 결괏값을 반환\n",
    "print(eval('1+2'))\n",
    "print(eval(\"'hi'+'a'\"))\n",
    "print(eval('divmod(4, 3)'))"
   ]
  },
  {
   "cell_type": "code",
   "execution_count": 14,
   "id": "a9f55dd2-30d3-4f9c-a081-51094d657ef3",
   "metadata": {},
   "outputs": [
    {
     "name": "stdout",
     "output_type": "stream",
     "text": [
      "[1, 2, 6]\n"
     ]
    }
   ],
   "source": [
    "# filter: 반환 값이 참인 것만 걸러내어 반환\n",
    "def positive(l):\n",
    "    result = [] #반환 값이 참인 것만 걸러내어 저장할 변수\n",
    "    for i in l:\n",
    "        if i > 0: # i가 0 보다 클 때\n",
    "            result.append(i) #리스트에 i 추가\n",
    "    return result\n",
    "#양수 값만 반환\n",
    "print(positive([1, -3, 2, 0, -5, 6])) #"
   ]
  },
  {
   "cell_type": "code",
   "execution_count": 15,
   "id": "afec8313-4680-4d63-bccf-958ddd071d34",
   "metadata": {},
   "outputs": [
    {
     "name": "stdout",
     "output_type": "stream",
     "text": [
      "[1, 2, 6]\n"
     ]
    }
   ],
   "source": [
    "# filter 함수 사용 시\n",
    "def positive(x):\n",
    "    return x > 0\n",
    "\n",
    "print(list(filter(positive, [1, -3, 2, 0, -5, 6])))"
   ]
  },
  {
   "cell_type": "code",
   "execution_count": 16,
   "id": "72e48f55-671b-4dcd-a774-3e271d7f2662",
   "metadata": {},
   "outputs": [
    {
     "data": {
      "text/plain": [
       "[1, 2, 6]"
      ]
     },
     "execution_count": 16,
     "metadata": {},
     "output_type": "execute_result"
    }
   ],
   "source": [
    "# lambda + filter\n",
    "list(filter(lambda x: x > 0, [1, -3, 2, 0, -5, 6]))"
   ]
  },
  {
   "cell_type": "code",
   "execution_count": 1,
   "id": "6c556233-6d3d-48b7-a041-b2333dd8f9d0",
   "metadata": {},
   "outputs": [
    {
     "name": "stdout",
     "output_type": "stream",
     "text": [
      "0xea\n",
      "0x3\n"
     ]
    }
   ],
   "source": [
    "# hex\n",
    "print(hex(234))\n",
    "print(hex(3))"
   ]
  },
  {
   "cell_type": "code",
   "execution_count": 4,
   "id": "c2d65021-fc77-4c5a-94ca-a67421053838",
   "metadata": {},
   "outputs": [
    {
     "name": "stdout",
     "output_type": "stream",
     "text": [
      "140711183369064\n",
      "140711183369064\n",
      "140711183369064\n",
      "140711183369096\n"
     ]
    }
   ],
   "source": [
    "# id : 객체의 고유 주소 값 반환\n",
    "a = 3\n",
    "b = a\n",
    "print(id(3))\n",
    "print(id(a))\n",
    "print(id(b))\n",
    "print(id(4))"
   ]
  },
  {
   "cell_type": "code",
   "execution_count": 5,
   "id": "f4b7e3c7-dc6a-4311-9f6f-646062bf4a81",
   "metadata": {},
   "outputs": [
    {
     "name": "stdin",
     "output_type": "stream",
     "text": [
      " hi\n"
     ]
    }
   ],
   "source": [
    "# input: 사용자 입력 받음\n",
    "a = input() #사용자가 입력한 정보를 변수 a에 저장"
   ]
  },
  {
   "cell_type": "code",
   "execution_count": 6,
   "id": "af3e67d2-18c8-4b9d-af8e-4ca66d13a3d5",
   "metadata": {},
   "outputs": [
    {
     "data": {
      "text/plain": [
       "'hi'"
      ]
     },
     "execution_count": 6,
     "metadata": {},
     "output_type": "execute_result"
    }
   ],
   "source": [
    "a"
   ]
  },
  {
   "cell_type": "code",
   "execution_count": 7,
   "id": "8d80ee09-0939-4643-966c-0a7f147fcfc9",
   "metadata": {},
   "outputs": [
    {
     "name": "stdin",
     "output_type": "stream",
     "text": [
      "Enter:  hi\n"
     ]
    }
   ],
   "source": [
    "b = input('Enter: ')"
   ]
  },
  {
   "cell_type": "code",
   "execution_count": 8,
   "id": "42c5a167-051d-4af8-91a6-2fd83742abd7",
   "metadata": {},
   "outputs": [
    {
     "name": "stdout",
     "output_type": "stream",
     "text": [
      "3\n",
      "3\n",
      "3\n",
      "26\n"
     ]
    }
   ],
   "source": [
    "# int: 문자열 형태의 숫자나 소수점이 있는 숫자 등을 정수 형태로 돌려주는 함수\n",
    "a = int('3') #문자열 형태 3\n",
    "b = int(3.4) #소수점이 있는 숫자 3.4\n",
    "\n",
    "# int(x, raidx)는 radix 진수로 표현된 문자열 x를 10진수로 변환하여 돌려줌\n",
    "c = int('11', 2)\n",
    "\n",
    "# 16진수로 표현된 1A의 10진수 값\n",
    "d = int('1A', 16)\n",
    "\n",
    "print(a)\n",
    "print(b)\n",
    "print(c)\n",
    "print(d)"
   ]
  },
  {
   "cell_type": "code",
   "execution_count": 9,
   "id": "7312c611-d625-4f07-ad5b-23ba56cac9d9",
   "metadata": {},
   "outputs": [
    {
     "data": {
      "text/plain": [
       "True"
      ]
     },
     "execution_count": 9,
     "metadata": {},
     "output_type": "execute_result"
    }
   ],
   "source": [
    "# isinstance: 첫 번째 인수로 인스턴스, 두 번째 인수로 클래스 이름을 받는다.\n",
    "class Person: pass #아무 기능이 없는 Person 클래스 생성\n",
    "\n",
    "a = Person() #Person 클래스의 인스턴스 a 생성\n",
    "isinstance(a, Person) #a가 Person 클래스의 인스턴스인지 확인"
   ]
  },
  {
   "cell_type": "code",
   "execution_count": 14,
   "id": "4758cc7e-04e9-4fb6-abd1-d53a57f6cc10",
   "metadata": {},
   "outputs": [
    {
     "name": "stdout",
     "output_type": "stream",
     "text": [
      "6\n",
      "3\n",
      "2\n"
     ]
    }
   ],
   "source": [
    "# len: 글자 수\n",
    "print(len(\"Python\")) #문자열\n",
    "print(len([1,2,3])) #리스트\n",
    "print(len((1, 'a'))) #튜플"
   ]
  },
  {
   "cell_type": "code",
   "execution_count": 16,
   "id": "b7ba57af-69da-42d3-ad2b-40faa1f53722",
   "metadata": {},
   "outputs": [
    {
     "name": "stdout",
     "output_type": "stream",
     "text": [
      "['P', 'y', 't', 'h', 'o', 'n']\n",
      "[1, 2, 3]\n"
     ]
    }
   ],
   "source": [
    "# list: 리스트 생성 함수\n",
    "print(list(\"Python\"))\n",
    "print(list((1,2,3)))"
   ]
  },
  {
   "cell_type": "code",
   "execution_count": 17,
   "id": "60a72fdd-e5bc-40af-99eb-b9419f418a03",
   "metadata": {},
   "outputs": [
    {
     "data": {
      "text/plain": [
       "[1, 2, 3]"
      ]
     },
     "execution_count": 17,
     "metadata": {},
     "output_type": "execute_result"
    }
   ],
   "source": [
    "a = [1,2,3]\n",
    "b = list(a)\n",
    "b"
   ]
  },
  {
   "cell_type": "code",
   "execution_count": 18,
   "id": "20016f54-49dd-45bd-89b6-2c37b205427e",
   "metadata": {},
   "outputs": [
    {
     "name": "stdout",
     "output_type": "stream",
     "text": [
      "[2, 4, 6, 8]\n"
     ]
    }
   ],
   "source": [
    "# map: map(f, iterable) 은 함수(f)와 반복가능한(iterable) 자료형을 입력으로 받는다.\n",
    "def two_times(numberList):\n",
    "    result = []\n",
    "    for number in numberList:\n",
    "        result.append(number*2)\n",
    "    return result #two_times 함수는 리스트 요소를 입력받아 각 요소에 2를 곱한 결괏값 반환\n",
    "\n",
    "#실행 부분\n",
    "result = two_times([1, 2, 3, 4])\n",
    "print(result)"
   ]
  },
  {
   "cell_type": "code",
   "execution_count": 20,
   "id": "eb4971f3-3f28-46f9-a394-4834650dc75d",
   "metadata": {},
   "outputs": [
    {
     "data": {
      "text/plain": [
       "[2, 4, 6, 8]"
      ]
     },
     "execution_count": 20,
     "metadata": {},
     "output_type": "execute_result"
    }
   ],
   "source": [
    "# map 사용\n",
    "def two_times(x): return x*2\n",
    "\n",
    "list(map(two_times, ([1, 2, 3, 4])))"
   ]
  },
  {
   "cell_type": "code",
   "execution_count": 21,
   "id": "5ed42fb4-f509-4359-9cdb-6914689e9f9d",
   "metadata": {},
   "outputs": [
    {
     "data": {
      "text/plain": [
       "[2, 4, 6, 8]"
      ]
     },
     "execution_count": 21,
     "metadata": {},
     "output_type": "execute_result"
    }
   ],
   "source": [
    "# map, lambda\n",
    "list(map(lambda a: a*2, [1, 2, 3, 4]))"
   ]
  },
  {
   "cell_type": "code",
   "execution_count": 22,
   "id": "33ec0fd1-fabf-4eae-bde1-67d4e3587a59",
   "metadata": {},
   "outputs": [
    {
     "name": "stdout",
     "output_type": "stream",
     "text": [
      "a의 최댓값: 4\n",
      "b의 최댓값: y\n",
      "a의 최솟값: 1\n",
      "b의 최솟값: P\n"
     ]
    }
   ],
   "source": [
    "# max: 최댓값\n",
    "# min: 최솟값\n",
    "a = ([1, 2, 3, 4])\n",
    "b = (\"Python\")\n",
    "\n",
    "print('a의 최댓값:', max(a))\n",
    "print('b의 최댓값:', max(b))\n",
    "print('a의 최솟값:', min(a))\n",
    "print('b의 최솟값:', min(b))\n"
   ]
  },
  {
   "cell_type": "code",
   "execution_count": 23,
   "id": "074ec7d9-a4b2-497b-a4a8-09f0bc523a70",
   "metadata": {},
   "outputs": [
    {
     "name": "stdout",
     "output_type": "stream",
     "text": [
      "0o42\n",
      "0o30071\n"
     ]
    }
   ],
   "source": [
    "#  oct: 정수 형태의 숫자를 8진수 문자열로 바꾸어 돌려줌\n",
    "print(oct(34))\n",
    "print(oct(12345))"
   ]
  },
  {
   "cell_type": "code",
   "execution_count": 24,
   "id": "2fa5181e-0162-4e28-bc02-c3850d041a71",
   "metadata": {},
   "outputs": [
    {
     "name": "stdout",
     "output_type": "stream",
     "text": [
      "97\n",
      "48\n"
     ]
    }
   ],
   "source": [
    "# 22. ord: 문자의 아스키 코드 값 반환 ↔ chr\n",
    "print(ord('a'))\n",
    "print(ord('0'))"
   ]
  },
  {
   "cell_type": "code",
   "execution_count": 25,
   "id": "8caada64-d3d3-4307-8b11-2b160792561b",
   "metadata": {},
   "outputs": [
    {
     "name": "stdout",
     "output_type": "stream",
     "text": [
      "16\n",
      "27\n",
      "49\n"
     ]
    }
   ],
   "source": [
    "# pow: pow(x, y)는 x의 y 제곱한 결괏값 반환\n",
    "print(pow(2, 4))\n",
    "print(pow(3, 3))\n",
    "print(pow(7, 2))"
   ]
  },
  {
   "cell_type": "code",
   "execution_count": 26,
   "id": "01632f5d-7775-4474-a127-ac0279b1c6a6",
   "metadata": {},
   "outputs": [
    {
     "name": "stdout",
     "output_type": "stream",
     "text": [
      "[0, 1, 2, 3, 4]\n",
      "[7, 8, 9, 10, 11, 12, 13, 14]\n",
      "[1, 3, 5, 7, 9]\n",
      "[0, -1, -2, -3, -4, -5, -6, -7, -8, -9]\n"
     ]
    }
   ],
   "source": [
    "# range\n",
    "print(list(range(5))) #인수가 하나면 0부터 시작\n",
    "print(list(range(7, 15))) #7부터 14까지, 끝 숫자 15는 포함되지 않음.\n",
    "\n",
    "#인수가 세개일 경우, 세 번째 인수는 숫자 사이의 거리\n",
    "print(list(range(1, 10, 2))) #1부터 9까지 2씩\n",
    "print(list(range(0, -10, -1))) #0부터 -9까지, -1씩"
   ]
  },
  {
   "cell_type": "code",
   "execution_count": 27,
   "id": "09c44129-d84e-400d-b04b-cb34f4082801",
   "metadata": {},
   "outputs": [
    {
     "name": "stdout",
     "output_type": "stream",
     "text": [
      "5\n",
      "4\n",
      "4.121\n",
      "4.12\n",
      "4.1\n"
     ]
    }
   ],
   "source": [
    "# round : 반올림\n",
    "print(round(4.6))\n",
    "print(round(4.2))\n",
    "\n",
    "#자릿수 지정\n",
    "print(round(4.12121, 3)) #소수점 3자리까지만\n",
    "print(round(4.12121, 2)) #소수점 2자리까지만\n",
    "print(round(4.12121, 1)) #소수점 1자리까지만"
   ]
  },
  {
   "cell_type": "code",
   "execution_count": 30,
   "id": "74ea2656-c76c-49ca-a56e-334610da5d86",
   "metadata": {},
   "outputs": [
    {
     "name": "stdout",
     "output_type": "stream",
     "text": [
      "[1, 2, 3, 4, 5, 7]\n",
      "['a', 'b', 'd', 'i', 'q']\n",
      "['i', 'q', 'u', 'z']\n",
      "[2, 3, 4]\n"
     ]
    }
   ],
   "source": [
    "# sorted: 입력값을 정렬한 후 그 결과를 리스트로 반환\n",
    "print(sorted([1, 4, 5, 2, 3, 7]))\n",
    "print(sorted(['a', 'i', 'q', 'b', 'd']))\n",
    "print(sorted(\"quiz\"))\n",
    "print(sorted((3, 2, 4)))"
   ]
  },
  {
   "cell_type": "code",
   "execution_count": 32,
   "id": "8521f9b3-b015-44cc-bfc5-ebbde1b0fb44",
   "metadata": {},
   "outputs": [
    {
     "name": "stdout",
     "output_type": "stream",
     "text": [
      "3\n",
      "hi\n",
      "HELLO\n"
     ]
    }
   ],
   "source": [
    "# str: 문자열 형태로 객체 변환\n",
    "print(str(3))\n",
    "print(str('hi'))\n",
    "print(str('hello'.upper()))"
   ]
  },
  {
   "cell_type": "code",
   "execution_count": 33,
   "id": "3dc74c01-9dca-4a4e-8e21-b1d30299bdc4",
   "metadata": {},
   "outputs": [
    {
     "name": "stdout",
     "output_type": "stream",
     "text": [
      "15\n",
      "24\n"
     ]
    }
   ],
   "source": [
    "# sum: 입력받은 리스트나 튜플의 모든 요소의 합 반환\n",
    "print(sum([1, 2, 3, 4, 5]))\n",
    "print(sum((7, 8, 9)))"
   ]
  },
  {
   "cell_type": "code",
   "execution_count": 35,
   "id": "81661e73-888a-4504-9f15-1e4b060eecdc",
   "metadata": {},
   "outputs": [
    {
     "name": "stdout",
     "output_type": "stream",
     "text": [
      "('a', 'b', 'c')\n",
      "(1, 2, 3)\n",
      "(1, 2, 3)\n"
     ]
    }
   ],
   "source": [
    "# tuple: 반복 가능한 자료형을 입력받아 튜플 형태로 변환하여 반환\n",
    "print(tuple('abc')) #문자형\n",
    "print(tuple([1, 2, 3])) #리스트형\n",
    "print(tuple((1, 2, 3))) #튜플 - 튜풀은 튜플 그대로"
   ]
  },
  {
   "cell_type": "code",
   "execution_count": null,
   "id": "2aef2406-53df-4324-bb3e-1617a28c11de",
   "metadata": {},
   "outputs": [],
   "source": []
  }
 ],
 "metadata": {
  "kernelspec": {
   "display_name": "Python 3 (ipykernel)",
   "language": "python",
   "name": "python3"
  },
  "language_info": {
   "codemirror_mode": {
    "name": "ipython",
    "version": 3
   },
   "file_extension": ".py",
   "mimetype": "text/x-python",
   "name": "python",
   "nbconvert_exporter": "python",
   "pygments_lexer": "ipython3",
   "version": "3.11.7"
  }
 },
 "nbformat": 4,
 "nbformat_minor": 5
}
